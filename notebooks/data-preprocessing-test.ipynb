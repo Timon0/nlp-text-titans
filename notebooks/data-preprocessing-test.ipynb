{
 "cells": [
  {
   "attachments": {},
   "cell_type": "markdown",
   "id": "339bcfc9",
   "metadata": {},
   "source": [
    "# Data Preprocessing"
   ]
  },
  {
   "attachments": {},
   "cell_type": "markdown",
   "id": "b88ddfc6",
   "metadata": {},
   "source": [
    "## Imports"
   ]
  },
  {
   "cell_type": "code",
   "execution_count": 1,
   "id": "7f0f9c74",
   "metadata": {},
   "outputs": [
    {
     "name": "stderr",
     "output_type": "stream",
     "text": [
      "c:\\Users\\oliko\\anaconda3\\envs\\NLP\\lib\\site-packages\\tqdm\\auto.py:21: TqdmWarning: IProgress not found. Please update jupyter and ipywidgets. See https://ipywidgets.readthedocs.io/en/stable/user_install.html\n",
      "  from .autonotebook import tqdm as notebook_tqdm\n"
     ]
    }
   ],
   "source": [
    "import pandas as pd\n",
    "import numpy as np\n",
    "from datasets import load_dataset\n",
    "\n",
    "# set some pandas options to make the output more readable\n",
    "pd.set_option(\"display.max_rows\", 500)\n",
    "pd.set_option(\"display.max_columns\", 500)\n",
    "pd.set_option(\"display.width\", 1000)"
   ]
  },
  {
   "attachments": {},
   "cell_type": "markdown",
   "id": "bcd789e4",
   "metadata": {},
   "source": [
    "## Load Data"
   ]
  },
  {
   "cell_type": "code",
   "execution_count": 3,
   "id": "6ffd3b2b",
   "metadata": {},
   "outputs": [
    {
     "name": "stderr",
     "output_type": "stream",
     "text": [
      "Found cached dataset parquet (C:/Users/oliko/.cache/huggingface/datasets/OpenAssistant___parquet/OpenAssistant--oasst1-2960c57d7e52ab15/0.0.0/2a3b91fbd88a2c90d1dbbb32b460cf621d31bd5b05b934492fdef7d8d6f236ec)\n"
     ]
    }
   ],
   "source": [
    "ds = load_dataset(\"OpenAssistant/oasst1\", split='validation')"
   ]
  },
  {
   "cell_type": "code",
   "execution_count": 4,
   "id": "8b089ca7",
   "metadata": {},
   "outputs": [],
   "source": [
    "df = ds.to_pandas()"
   ]
  },
  {
   "attachments": {},
   "cell_type": "markdown",
   "id": "bd10d46d",
   "metadata": {},
   "source": [
    "## Preprocess Data"
   ]
  },
  {
   "attachments": {},
   "cell_type": "markdown",
   "id": "a7187968",
   "metadata": {},
   "source": [
    "Remove deleted entries"
   ]
  },
  {
   "cell_type": "code",
   "execution_count": 5,
   "id": "d8af4e26",
   "metadata": {},
   "outputs": [],
   "source": [
    "df = df[df.deleted == False]"
   ]
  },
  {
   "attachments": {},
   "cell_type": "markdown",
   "id": "ba91ba7d",
   "metadata": {},
   "source": [
    "Remove entries without labels"
   ]
  },
  {
   "cell_type": "code",
   "execution_count": 6,
   "id": "be22983c",
   "metadata": {},
   "outputs": [],
   "source": [
    "df = df[~df.labels.isnull()]"
   ]
  },
  {
   "attachments": {},
   "cell_type": "markdown",
   "id": "ae885b95",
   "metadata": {
    "collapsed": false,
    "pycharm": {
     "name": "#%% md\n"
    }
   },
   "source": [
    "Keep only english data"
   ]
  },
  {
   "cell_type": "code",
   "execution_count": 7,
   "id": "1789efa7",
   "metadata": {
    "collapsed": false,
    "pycharm": {
     "name": "#%%\n"
    }
   },
   "outputs": [],
   "source": [
    "df = df[df.lang == 'en']"
   ]
  },
  {
   "attachments": {},
   "cell_type": "markdown",
   "id": "6ac81428",
   "metadata": {},
   "source": [
    "Extract the humor label"
   ]
  },
  {
   "cell_type": "code",
   "execution_count": 8,
   "id": "b1cce4b5",
   "metadata": {},
   "outputs": [],
   "source": [
    "def get_humor_value(x):\n",
    "    index_of_humor = np.where(x['name'] == 'humor')[0]\n",
    "    if len(index_of_humor) > 0:\n",
    "        return x['value'][index_of_humor[0]]\n",
    "    \n",
    "    return 0\n",
    "\n",
    "df['humor'] = df['labels'].apply(get_humor_value)"
   ]
  },
  {
   "attachments": {},
   "cell_type": "markdown",
   "id": "b3642fcc",
   "metadata": {},
   "source": [
    "Drop unncessary columns"
   ]
  },
  {
   "cell_type": "code",
   "execution_count": 10,
   "id": "cbf77e62",
   "metadata": {},
   "outputs": [],
   "source": [
    "df = df.drop(columns=[\n",
    "    'user_id',\n",
    "    'created_date',\n",
    "    'rank',\n",
    "    'lang',\n",
    "    'synthetic',\n",
    "    'model_name',\n",
    "    'tree_state',\n",
    "    'deleted',\n",
    "    'detoxify',\n",
    "    'review_count',\n",
    "    'message_tree_id',\n",
    "    'review_result',\n",
    "    'emojis',\n",
    "    'labels'\n",
    "]).reset_index(drop=True)"
   ]
  },
  {
   "attachments": {},
   "cell_type": "markdown",
   "id": "234be9d1",
   "metadata": {
    "collapsed": false,
    "pycharm": {
     "name": "#%% md\n"
    }
   },
   "source": [
    "## Assistant"
   ]
  },
  {
   "cell_type": "code",
   "execution_count": 11,
   "id": "d88532db",
   "metadata": {
    "collapsed": false,
    "pycharm": {
     "name": "#%%\n"
    }
   },
   "outputs": [],
   "source": [
    "df_assistant = df[df.role == 'assistant']"
   ]
  },
  {
   "cell_type": "code",
   "execution_count": 12,
   "id": "fc668d02",
   "metadata": {
    "collapsed": false,
    "pycharm": {
     "name": "#%%\n"
    }
   },
   "outputs": [
    {
     "data": {
      "text/plain": [
       "(1215, 5)"
      ]
     },
     "execution_count": 12,
     "metadata": {},
     "output_type": "execute_result"
    }
   ],
   "source": [
    "df_assistant.shape"
   ]
  },
  {
   "attachments": {},
   "cell_type": "markdown",
   "id": "cfeffdb7",
   "metadata": {
    "collapsed": false,
    "pycharm": {
     "name": "#%% md\n"
    }
   },
   "source": [
    "Get context"
   ]
  },
  {
   "cell_type": "code",
   "execution_count": 13,
   "id": "93011e7c",
   "metadata": {
    "collapsed": false,
    "pycharm": {
     "name": "#%%\n"
    }
   },
   "outputs": [],
   "source": [
    "def find_context(value):\n",
    "    try:\n",
    "        parent = df[df['message_id'] == value].iloc[0]\n",
    "        return find_context(parent['parent_id']) + parent['text']\n",
    "    except:\n",
    "        return ''"
   ]
  },
  {
   "cell_type": "code",
   "execution_count": 14,
   "id": "75ea75f5",
   "metadata": {
    "collapsed": false,
    "pycharm": {
     "name": "#%%\n"
    }
   },
   "outputs": [
    {
     "name": "stderr",
     "output_type": "stream",
     "text": [
      "C:\\Users\\oliko\\AppData\\Local\\Temp\\ipykernel_12476\\4210366934.py:1: SettingWithCopyWarning: \n",
      "A value is trying to be set on a copy of a slice from a DataFrame.\n",
      "Try using .loc[row_indexer,col_indexer] = value instead\n",
      "\n",
      "See the caveats in the documentation: https://pandas.pydata.org/pandas-docs/stable/user_guide/indexing.html#returning-a-view-versus-a-copy\n",
      "  df_assistant['prompt'] = df_assistant['parent_id'].map(find_context)\n"
     ]
    }
   ],
   "source": [
    "df_assistant['prompt'] = df_assistant['parent_id'].map(find_context)"
   ]
  },
  {
   "cell_type": "code",
   "execution_count": 15,
   "id": "9a98751c",
   "metadata": {
    "collapsed": false,
    "pycharm": {
     "name": "#%%\n"
    }
   },
   "outputs": [
    {
     "name": "stderr",
     "output_type": "stream",
     "text": [
      "C:\\Users\\oliko\\AppData\\Local\\Temp\\ipykernel_12476\\3734533272.py:1: SettingWithCopyWarning: \n",
      "A value is trying to be set on a copy of a slice from a DataFrame\n",
      "\n",
      "See the caveats in the documentation: https://pandas.pydata.org/pandas-docs/stable/user_guide/indexing.html#returning-a-view-versus-a-copy\n",
      "  df_assistant.rename(columns={\"prompt\": \"context\", \"text\": \"target\"}, inplace=True)\n"
     ]
    }
   ],
   "source": [
    "df_assistant.rename(columns={\"prompt\": \"context\", \"text\": \"target\"}, inplace=True)"
   ]
  },
  {
   "cell_type": "code",
   "execution_count": 16,
   "id": "a9f9d209",
   "metadata": {
    "collapsed": false,
    "pycharm": {
     "name": "#%%\n"
    }
   },
   "outputs": [],
   "source": [
    "df_assistant = df_assistant.drop(columns=[\n",
    "    'message_id',\n",
    "    'parent_id',\n",
    "    'role'\n",
    "]).reset_index(drop=True)"
   ]
  },
  {
   "cell_type": "code",
   "execution_count": 17,
   "id": "ce2fe904",
   "metadata": {
    "collapsed": false,
    "pycharm": {
     "name": "#%%\n"
    }
   },
   "outputs": [
    {
     "data": {
      "text/html": [
       "<div>\n",
       "<style scoped>\n",
       "    .dataframe tbody tr th:only-of-type {\n",
       "        vertical-align: middle;\n",
       "    }\n",
       "\n",
       "    .dataframe tbody tr th {\n",
       "        vertical-align: top;\n",
       "    }\n",
       "\n",
       "    .dataframe thead th {\n",
       "        text-align: right;\n",
       "    }\n",
       "</style>\n",
       "<table border=\"1\" class=\"dataframe\">\n",
       "  <thead>\n",
       "    <tr style=\"text-align: right;\">\n",
       "      <th></th>\n",
       "      <th>target</th>\n",
       "      <th>humor</th>\n",
       "      <th>context</th>\n",
       "    </tr>\n",
       "  </thead>\n",
       "  <tbody>\n",
       "    <tr>\n",
       "      <th>0</th>\n",
       "      <td>As an open source alternative to ChatGPT, I do...</td>\n",
       "      <td>0.125000</td>\n",
       "      <td>What do you think about ChatGPT?</td>\n",
       "    </tr>\n",
       "    <tr>\n",
       "      <th>1</th>\n",
       "      <td>As a large language model trained on text from...</td>\n",
       "      <td>0.000000</td>\n",
       "      <td>What do you think about ChatGPT?As an open sou...</td>\n",
       "    </tr>\n",
       "    <tr>\n",
       "      <th>2</th>\n",
       "      <td>I think that AI should be free and kept away f...</td>\n",
       "      <td>0.000000</td>\n",
       "      <td>What do you think about ChatGPT?As an open sou...</td>\n",
       "    </tr>\n",
       "    <tr>\n",
       "      <th>5</th>\n",
       "      <td>Here are some differences between me and ChatG...</td>\n",
       "      <td>0.000000</td>\n",
       "      <td>What do you think about ChatGPT?ChatGPT was th...</td>\n",
       "    </tr>\n",
       "    <tr>\n",
       "      <th>6</th>\n",
       "      <td>I, OpenAssistant, will be different because I ...</td>\n",
       "      <td>0.083333</td>\n",
       "      <td>What do you think about ChatGPT?ChatGPT was th...</td>\n",
       "    </tr>\n",
       "    <tr>\n",
       "      <th>...</th>\n",
       "      <td>...</td>\n",
       "      <td>...</td>\n",
       "      <td>...</td>\n",
       "    </tr>\n",
       "    <tr>\n",
       "      <th>1207</th>\n",
       "      <td>'Perfect information' in this context means th...</td>\n",
       "      <td>0.000000</td>\n",
       "      <td>I've recently started playing the turn-based s...</td>\n",
       "    </tr>\n",
       "    <tr>\n",
       "      <th>1208</th>\n",
       "      <td>Into the Breach is a game with almost perfect ...</td>\n",
       "      <td>0.250000</td>\n",
       "      <td>I've recently started playing the turn-based s...</td>\n",
       "    </tr>\n",
       "    <tr>\n",
       "      <th>1209</th>\n",
       "      <td>In the context of the game \"Into the Breach\", ...</td>\n",
       "      <td>0.000000</td>\n",
       "      <td>I've recently started playing the turn-based s...</td>\n",
       "    </tr>\n",
       "    <tr>\n",
       "      <th>1210</th>\n",
       "      <td>In the context of Into the Breach, \"perfect in...</td>\n",
       "      <td>0.000000</td>\n",
       "      <td>I've recently started playing the turn-based s...</td>\n",
       "    </tr>\n",
       "    <tr>\n",
       "      <th>1211</th>\n",
       "      <td>Yes, Into the Breach is considered to be a gam...</td>\n",
       "      <td>0.083333</td>\n",
       "      <td>I've recently started playing the turn-based s...</td>\n",
       "    </tr>\n",
       "  </tbody>\n",
       "</table>\n",
       "<p>952 rows × 3 columns</p>\n",
       "</div>"
      ],
      "text/plain": [
       "                                                 target     humor                                            context\n",
       "0     As an open source alternative to ChatGPT, I do...  0.125000                   What do you think about ChatGPT?\n",
       "1     As a large language model trained on text from...  0.000000  What do you think about ChatGPT?As an open sou...\n",
       "2     I think that AI should be free and kept away f...  0.000000  What do you think about ChatGPT?As an open sou...\n",
       "5     Here are some differences between me and ChatG...  0.000000  What do you think about ChatGPT?ChatGPT was th...\n",
       "6     I, OpenAssistant, will be different because I ...  0.083333  What do you think about ChatGPT?ChatGPT was th...\n",
       "...                                                 ...       ...                                                ...\n",
       "1207  'Perfect information' in this context means th...  0.000000  I've recently started playing the turn-based s...\n",
       "1208  Into the Breach is a game with almost perfect ...  0.250000  I've recently started playing the turn-based s...\n",
       "1209  In the context of the game \"Into the Breach\", ...  0.000000  I've recently started playing the turn-based s...\n",
       "1210  In the context of Into the Breach, \"perfect in...  0.000000  I've recently started playing the turn-based s...\n",
       "1211  Yes, Into the Breach is considered to be a gam...  0.083333  I've recently started playing the turn-based s...\n",
       "\n",
       "[952 rows x 3 columns]"
      ]
     },
     "execution_count": 17,
     "metadata": {},
     "output_type": "execute_result"
    }
   ],
   "source": [
    "df_assistant[df_assistant.humor < 0.3]"
   ]
  },
  {
   "attachments": {},
   "cell_type": "markdown",
   "id": "b9d877b8",
   "metadata": {},
   "source": [
    "## Preview Data"
   ]
  },
  {
   "cell_type": "code",
   "execution_count": 18,
   "id": "8adc8e00",
   "metadata": {},
   "outputs": [
    {
     "data": {
      "text/html": [
       "<div>\n",
       "<style scoped>\n",
       "    .dataframe tbody tr th:only-of-type {\n",
       "        vertical-align: middle;\n",
       "    }\n",
       "\n",
       "    .dataframe tbody tr th {\n",
       "        vertical-align: top;\n",
       "    }\n",
       "\n",
       "    .dataframe thead th {\n",
       "        text-align: right;\n",
       "    }\n",
       "</style>\n",
       "<table border=\"1\" class=\"dataframe\">\n",
       "  <thead>\n",
       "    <tr style=\"text-align: right;\">\n",
       "      <th></th>\n",
       "      <th>target</th>\n",
       "      <th>humor</th>\n",
       "      <th>context</th>\n",
       "    </tr>\n",
       "  </thead>\n",
       "  <tbody>\n",
       "    <tr>\n",
       "      <th>0</th>\n",
       "      <td>As an open source alternative to ChatGPT, I do...</td>\n",
       "      <td>0.125000</td>\n",
       "      <td>What do you think about ChatGPT?</td>\n",
       "    </tr>\n",
       "    <tr>\n",
       "      <th>1</th>\n",
       "      <td>As a large language model trained on text from...</td>\n",
       "      <td>0.000000</td>\n",
       "      <td>What do you think about ChatGPT?As an open sou...</td>\n",
       "    </tr>\n",
       "    <tr>\n",
       "      <th>2</th>\n",
       "      <td>I think that AI should be free and kept away f...</td>\n",
       "      <td>0.000000</td>\n",
       "      <td>What do you think about ChatGPT?As an open sou...</td>\n",
       "    </tr>\n",
       "    <tr>\n",
       "      <th>3</th>\n",
       "      <td>ChatGPT is an artificial intelligence chatbot ...</td>\n",
       "      <td>0.416667</td>\n",
       "      <td>What do you think about ChatGPT?</td>\n",
       "    </tr>\n",
       "    <tr>\n",
       "      <th>4</th>\n",
       "      <td>ChatGPT was the inspiration for my creation, b...</td>\n",
       "      <td>0.666667</td>\n",
       "      <td>What do you think about ChatGPT?</td>\n",
       "    </tr>\n",
       "  </tbody>\n",
       "</table>\n",
       "</div>"
      ],
      "text/plain": [
       "                                              target     humor                                            context\n",
       "0  As an open source alternative to ChatGPT, I do...  0.125000                   What do you think about ChatGPT?\n",
       "1  As a large language model trained on text from...  0.000000  What do you think about ChatGPT?As an open sou...\n",
       "2  I think that AI should be free and kept away f...  0.000000  What do you think about ChatGPT?As an open sou...\n",
       "3  ChatGPT is an artificial intelligence chatbot ...  0.416667                   What do you think about ChatGPT?\n",
       "4  ChatGPT was the inspiration for my creation, b...  0.666667                   What do you think about ChatGPT?"
      ]
     },
     "execution_count": 18,
     "metadata": {},
     "output_type": "execute_result"
    }
   ],
   "source": [
    "df_assistant.head()"
   ]
  },
  {
   "cell_type": "code",
   "execution_count": 19,
   "id": "5d84fa15",
   "metadata": {},
   "outputs": [
    {
     "data": {
      "text/plain": [
       "(1215, 3)"
      ]
     },
     "execution_count": 19,
     "metadata": {},
     "output_type": "execute_result"
    }
   ],
   "source": [
    "df_assistant.shape"
   ]
  },
  {
   "attachments": {},
   "cell_type": "markdown",
   "id": "4aedaa73",
   "metadata": {},
   "source": [
    "## Export"
   ]
  },
  {
   "cell_type": "code",
   "execution_count": 20,
   "id": "12547da7",
   "metadata": {},
   "outputs": [],
   "source": [
    "df_assistant.to_csv('data/cleaned_with_context_test.csv', index=False)"
   ]
  },
  {
   "cell_type": "code",
   "execution_count": null,
   "id": "c97d4a0f",
   "metadata": {},
   "outputs": [],
   "source": [
    "df_assistant.to_csv('data/cleaned_with_context_test.csv', index=False)"
   ]
  }
 ],
 "metadata": {
  "kernelspec": {
   "display_name": "NLP",
   "language": "python",
   "name": "python3"
  },
  "language_info": {
   "codemirror_mode": {
    "name": "ipython",
    "version": 3
   },
   "file_extension": ".py",
   "mimetype": "text/x-python",
   "name": "python",
   "nbconvert_exporter": "python",
   "pygments_lexer": "ipython3",
   "version": "3.9.16"
  }
 },
 "nbformat": 4,
 "nbformat_minor": 5
}
