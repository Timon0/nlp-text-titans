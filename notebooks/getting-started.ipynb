{
 "cells": [
  {
   "cell_type": "markdown",
   "id": "55a1b94a",
   "metadata": {},
   "source": [
    "# Getting started with OpenAssistant OASST1 data\n",
    "\n",
    "- https://huggingface.co/datasets/OpenAssistant/oasst1\n",
    "\n",
    "This Notebook is based on https://github.com/LAION-AI/Open-Assistant/blob/main/notebooks/openassistant-oasst1/getting-started.ipynb"
   ]
  },
  {
   "cell_type": "markdown",
   "id": "3bf3165a",
   "metadata": {},
   "source": [
    "## Imports"
   ]
  },
  {
   "cell_type": "code",
   "execution_count": 1,
   "id": "0bbfbd68",
   "metadata": {},
   "outputs": [],
   "source": [
    "import pandas as pd\n",
    "from datasets import load_dataset\n",
    "from treelib import Tree\n",
    "\n",
    "# set some pandas options to make the output more readable\n",
    "pd.set_option(\"display.max_rows\", 500)\n",
    "pd.set_option(\"display.max_columns\", 500)\n",
    "pd.set_option(\"display.width\", 1000)\n",
    "\n",
    "\n",
    "def add_tree_level(df):\n",
    "    \"\"\"helper function to add tree level to a df\"\"\"\n",
    "\n",
    "    # if tree level already exists, return df\n",
    "    if \"tree_level\" in df.columns:\n",
    "        return df\n",
    "\n",
    "    else:\n",
    "        tree_level_map = {}\n",
    "\n",
    "        # iterate over rows in df\n",
    "        for i, row in df.iterrows():\n",
    "            message_id = row[\"message_id\"]\n",
    "            parent_id = row[\"parent_id\"]\n",
    "\n",
    "            # if parent_id is None, then it is a root message\n",
    "            if parent_id is None:\n",
    "                tree_level_map[message_id] = 0\n",
    "            # if parent_id is the same as message_tree_id, then it is a direct reply to the root message\n",
    "            elif parent_id == row[\"message_tree_id\"]:\n",
    "                tree_level_map[message_id] = 1\n",
    "            # else just look up the tree level of the parent_id and add 1\n",
    "            else:\n",
    "                tree_level_map[message_id] = tree_level_map[parent_id] + 1\n",
    "\n",
    "        # create a df from the tree_level_map and merge it with the original df\n",
    "        df_tree_level_map = (\n",
    "            pd.DataFrame.from_dict(tree_level_map, orient=\"index\", columns=[\"tree_level\"])\n",
    "            .reset_index()\n",
    "            .rename(columns={\"index\": \"message_id\"})\n",
    "        )\n",
    "\n",
    "        return df.merge(df_tree_level_map, on=\"message_id\")"
   ]
  },
  {
   "cell_type": "markdown",
   "id": "aa42a649",
   "metadata": {},
   "source": [
    "## Load Data"
   ]
  },
  {
   "cell_type": "code",
   "execution_count": 2,
   "id": "6f6a0890",
   "metadata": {},
   "outputs": [
    {
     "name": "stderr",
     "output_type": "stream",
     "text": [
      "Found cached dataset parquet (C:/Users/timon/.cache/huggingface/datasets/OpenAssistant___parquet/OpenAssistant--oasst1-2960c57d7e52ab15/0.0.0/2a3b91fbd88a2c90d1dbbb32b460cf621d31bd5b05b934492fdef7d8d6f236ec)\n"
     ]
    },
    {
     "data": {
      "application/vnd.jupyter.widget-view+json": {
       "model_id": "5ef37d17829246aca205932580e096ce",
       "version_major": 2,
       "version_minor": 0
      },
      "text/plain": [
       "  0%|          | 0/2 [00:00<?, ?it/s]"
      ]
     },
     "metadata": {},
     "output_type": "display_data"
    },
    {
     "name": "stdout",
     "output_type": "stream",
     "text": [
      "DatasetDict({\n",
      "    validation: Dataset({\n",
      "        features: ['message_id', 'parent_id', 'user_id', 'created_date', 'text', 'role', 'lang', 'review_count', 'review_result', 'deleted', 'rank', 'synthetic', 'model_name', 'detoxify', 'message_tree_id', 'tree_state', 'emojis', 'labels'],\n",
      "        num_rows: 4401\n",
      "    })\n",
      "    train: Dataset({\n",
      "        features: ['message_id', 'parent_id', 'user_id', 'created_date', 'text', 'role', 'lang', 'review_count', 'review_result', 'deleted', 'rank', 'synthetic', 'model_name', 'detoxify', 'message_tree_id', 'tree_state', 'emojis', 'labels'],\n",
      "        num_rows: 84437\n",
      "    })\n",
      "})\n"
     ]
    }
   ],
   "source": [
    "# load dataset from huggingface datasets\n",
    "ds = load_dataset(\"OpenAssistant/oasst1\")\n",
    "print(ds)"
   ]
  },
  {
   "cell_type": "markdown",
   "id": "e6db6345",
   "metadata": {},
   "source": [
    "## Create Pandas Dataframe"
   ]
  },
  {
   "cell_type": "code",
   "execution_count": 3,
   "id": "d9243dfb",
   "metadata": {},
   "outputs": [],
   "source": [
    "# lets convert the train dataset to a pandas df\n",
    "df = ds[\"train\"].to_pandas()"
   ]
  },
  {
   "cell_type": "code",
   "execution_count": 4,
   "id": "c8a8af50",
   "metadata": {},
   "outputs": [
    {
     "name": "stdout",
     "output_type": "stream",
     "text": [
      "<class 'pandas.core.frame.DataFrame'>\n",
      "RangeIndex: 84437 entries, 0 to 84436\n",
      "Data columns (total 18 columns):\n",
      " #   Column           Non-Null Count  Dtype  \n",
      "---  ------           --------------  -----  \n",
      " 0   message_id       84437 non-null  object \n",
      " 1   parent_id        74591 non-null  object \n",
      " 2   user_id          84437 non-null  object \n",
      " 3   created_date     84437 non-null  object \n",
      " 4   text             84437 non-null  object \n",
      " 5   role             84437 non-null  object \n",
      " 6   lang             84437 non-null  object \n",
      " 7   review_count     84437 non-null  int32  \n",
      " 8   review_result    83732 non-null  object \n",
      " 9   deleted          84437 non-null  bool   \n",
      " 10  rank             48730 non-null  float64\n",
      " 11  synthetic        84437 non-null  bool   \n",
      " 12  model_name       0 non-null      object \n",
      " 13  detoxify         72297 non-null  object \n",
      " 14  message_tree_id  84437 non-null  object \n",
      " 15  tree_state       84437 non-null  object \n",
      " 16  emojis           71496 non-null  object \n",
      " 17  labels           84199 non-null  object \n",
      "dtypes: bool(2), float64(1), int32(1), object(14)\n",
      "memory usage: 10.1+ MB\n"
     ]
    }
   ],
   "source": [
    "# look at the df info\n",
    "df.info(verbose=True, memory_usage=True, show_counts=True)"
   ]
  },
  {
   "cell_type": "code",
   "execution_count": 5,
   "id": "e93b3ca3",
   "metadata": {},
   "outputs": [
    {
     "data": {
      "text/plain": [
       "{39976: {'message_id': 'b7475e01-bafb-464d-9ad4-b8815ca12bfe',\n",
       "  'parent_id': '336c70b3-1a4b-4947-84b4-ff498401ffa8',\n",
       "  'user_id': 'c95e790f-31f0-484e-8e2b-e4dada729949',\n",
       "  'created_date': '2023-02-08T09:02:25.842465+00:00',\n",
       "  'text': 'write code by python for password generator',\n",
       "  'role': 'prompter',\n",
       "  'lang': 'en',\n",
       "  'review_count': 3,\n",
       "  'review_result': True,\n",
       "  'deleted': False,\n",
       "  'rank': nan,\n",
       "  'synthetic': False,\n",
       "  'model_name': None,\n",
       "  'detoxify': {'toxicity': 0.0002032520860666409,\n",
       "   'severe_toxicity': 0.00017065198335330933,\n",
       "   'obscene': 0.0008090694900602102,\n",
       "   'identity_attack': 0.00030782169778831303,\n",
       "   'insult': 0.0006429299246519804,\n",
       "   'threat': 0.0001306796766584739,\n",
       "   'sexual_explicit': 8.379059727303684e-05},\n",
       "  'message_tree_id': 'fc2cdb27-8ae7-476d-ac34-e0a46e7e5fdc',\n",
       "  'tree_state': 'ready_for_export',\n",
       "  'emojis': None,\n",
       "  'labels': {'name': array(['spam', 'lang_mismatch', 'pii', 'not_appropriate', 'hate_speech',\n",
       "          'sexual_content', 'quality', 'toxicity', 'humor', 'creativity',\n",
       "          'violence'], dtype=object),\n",
       "   'value': array([0.        , 0.        , 0.        , 0.        , 0.        ,\n",
       "          0.        , 0.33333333, 0.25      , 0.        , 0.125     ,\n",
       "          0.        ]),\n",
       "   'count': array([3, 3, 2, 2, 2, 2, 3, 2, 2, 2, 2])}}}"
      ]
     },
     "execution_count": 5,
     "metadata": {},
     "output_type": "execute_result"
    }
   ],
   "source": [
    "# look at a sample row in a json format we can easily read\n",
    "df.sample(1).transpose().to_dict()"
   ]
  },
  {
   "cell_type": "markdown",
   "id": "f73e65a7",
   "metadata": {},
   "source": [
    "## Random Message Tree"
   ]
  },
  {
   "cell_type": "code",
   "execution_count": 6,
   "id": "1c843285",
   "metadata": {},
   "outputs": [
    {
     "name": "stdout",
     "output_type": "stream",
     "text": [
      "d3675c3c-d39e-4928-8d21-222d75963b4d\n"
     ]
    }
   ],
   "source": [
    "# lets grab a random message tree\n",
    "message_tree_id = df[\"message_tree_id\"].sample(1).values[0]\n",
    "print(message_tree_id)"
   ]
  },
  {
   "cell_type": "code",
   "execution_count": 7,
   "id": "c8862109",
   "metadata": {},
   "outputs": [
    {
     "data": {
      "text/html": [
       "<div>\n",
       "<style scoped>\n",
       "    .dataframe tbody tr th:only-of-type {\n",
       "        vertical-align: middle;\n",
       "    }\n",
       "\n",
       "    .dataframe tbody tr th {\n",
       "        vertical-align: top;\n",
       "    }\n",
       "\n",
       "    .dataframe thead th {\n",
       "        text-align: right;\n",
       "    }\n",
       "</style>\n",
       "<table border=\"1\" class=\"dataframe\">\n",
       "  <thead>\n",
       "    <tr style=\"text-align: right;\">\n",
       "      <th></th>\n",
       "      <th>message_id</th>\n",
       "      <th>parent_id</th>\n",
       "      <th>user_id</th>\n",
       "      <th>created_date</th>\n",
       "      <th>text</th>\n",
       "      <th>role</th>\n",
       "      <th>lang</th>\n",
       "      <th>review_count</th>\n",
       "      <th>review_result</th>\n",
       "      <th>deleted</th>\n",
       "      <th>rank</th>\n",
       "      <th>synthetic</th>\n",
       "      <th>model_name</th>\n",
       "      <th>detoxify</th>\n",
       "      <th>message_tree_id</th>\n",
       "      <th>tree_state</th>\n",
       "      <th>emojis</th>\n",
       "      <th>labels</th>\n",
       "      <th>tree_level</th>\n",
       "    </tr>\n",
       "  </thead>\n",
       "  <tbody>\n",
       "    <tr>\n",
       "      <th>0</th>\n",
       "      <td>d3675c3c-d39e-4928-8d21-222d75963b4d</td>\n",
       "      <td>None</td>\n",
       "      <td>4b4928ba-870f-4fe5-825a-4317ddebe4fe</td>\n",
       "      <td>2023-02-17T08:34:51.125013+00:00</td>\n",
       "      <td>make this statement better : Easy accessibilit...</td>\n",
       "      <td>prompter</td>\n",
       "      <td>en</td>\n",
       "      <td>3</td>\n",
       "      <td>True</td>\n",
       "      <td>False</td>\n",
       "      <td>NaN</td>\n",
       "      <td>False</td>\n",
       "      <td>None</td>\n",
       "      <td>{'toxicity': 0.00034451059764251113, 'severe_t...</td>\n",
       "      <td>d3675c3c-d39e-4928-8d21-222d75963b4d</td>\n",
       "      <td>ready_for_export</td>\n",
       "      <td>{'name': ['+1', '_skip_reply'], 'count': [4, 2]}</td>\n",
       "      <td>{'name': ['spam', 'lang_mismatch', 'pii', 'not...</td>\n",
       "      <td>0</td>\n",
       "    </tr>\n",
       "    <tr>\n",
       "      <th>1</th>\n",
       "      <td>f6837ead-c18a-44f0-aeaf-68caa7112842</td>\n",
       "      <td>d3675c3c-d39e-4928-8d21-222d75963b4d</td>\n",
       "      <td>d3536142-bdfa-4de4-a443-b63c310e9613</td>\n",
       "      <td>2023-04-07T23:24:03.005771+00:00</td>\n",
       "      <td>To improve public health, the government shoul...</td>\n",
       "      <td>assistant</td>\n",
       "      <td>en</td>\n",
       "      <td>3</td>\n",
       "      <td>True</td>\n",
       "      <td>False</td>\n",
       "      <td>2.0</td>\n",
       "      <td>False</td>\n",
       "      <td>None</td>\n",
       "      <td>{'toxicity': 0.0003368183970451355, 'severe_to...</td>\n",
       "      <td>d3675c3c-d39e-4928-8d21-222d75963b4d</td>\n",
       "      <td>ready_for_export</td>\n",
       "      <td>{'name': ['+1', '_skip_reply'], 'count': [1, 1]}</td>\n",
       "      <td>{'name': ['spam', 'fails_task', 'lang_mismatch...</td>\n",
       "      <td>1</td>\n",
       "    </tr>\n",
       "    <tr>\n",
       "      <th>2</th>\n",
       "      <td>1de96d1b-9dff-45db-89a2-e01ebe3f0572</td>\n",
       "      <td>d3675c3c-d39e-4928-8d21-222d75963b4d</td>\n",
       "      <td>3c46c1f7-50f1-4f07-8886-a54b1f841cb1</td>\n",
       "      <td>2023-04-07T23:41:58.765428+00:00</td>\n",
       "      <td>Here is a revised version of the sentence that...</td>\n",
       "      <td>assistant</td>\n",
       "      <td>en</td>\n",
       "      <td>4</td>\n",
       "      <td>True</td>\n",
       "      <td>False</td>\n",
       "      <td>1.0</td>\n",
       "      <td>False</td>\n",
       "      <td>None</td>\n",
       "      <td>{'toxicity': 0.00034181828959845006, 'severe_t...</td>\n",
       "      <td>d3675c3c-d39e-4928-8d21-222d75963b4d</td>\n",
       "      <td>ready_for_export</td>\n",
       "      <td>{'name': ['+1', '_skip_labeling'], 'count': [2...</td>\n",
       "      <td>{'name': ['spam', 'fails_task', 'lang_mismatch...</td>\n",
       "      <td>1</td>\n",
       "    </tr>\n",
       "    <tr>\n",
       "      <th>3</th>\n",
       "      <td>1e97f980-9e31-4cd7-b89c-d689b79f62a7</td>\n",
       "      <td>d3675c3c-d39e-4928-8d21-222d75963b4d</td>\n",
       "      <td>c2c7eef0-ae98-4e6d-9af7-8b64dd548f5e</td>\n",
       "      <td>2023-04-08T00:04:22.429362+00:00</td>\n",
       "      <td>Here's a few variations on that statement that...</td>\n",
       "      <td>assistant</td>\n",
       "      <td>en</td>\n",
       "      <td>3</td>\n",
       "      <td>True</td>\n",
       "      <td>False</td>\n",
       "      <td>0.0</td>\n",
       "      <td>False</td>\n",
       "      <td>None</td>\n",
       "      <td>{'toxicity': 0.0002850019955076277, 'severe_to...</td>\n",
       "      <td>d3675c3c-d39e-4928-8d21-222d75963b4d</td>\n",
       "      <td>ready_for_export</td>\n",
       "      <td>{'name': ['+1', '_skip_reply'], 'count': [3, 3]}</td>\n",
       "      <td>{'name': ['spam', 'fails_task', 'lang_mismatch...</td>\n",
       "      <td>1</td>\n",
       "    </tr>\n",
       "    <tr>\n",
       "      <th>4</th>\n",
       "      <td>99896fca-cf92-4717-b466-ec1dd0f33f49</td>\n",
       "      <td>1e97f980-9e31-4cd7-b89c-d689b79f62a7</td>\n",
       "      <td>85bac698-17f0-4f11-ad4a-32d0b0b1bfcb</td>\n",
       "      <td>2023-04-08T02:48:33.188951+00:00</td>\n",
       "      <td>What is the logic behind easy accessibility to...</td>\n",
       "      <td>prompter</td>\n",
       "      <td>en</td>\n",
       "      <td>3</td>\n",
       "      <td>True</td>\n",
       "      <td>False</td>\n",
       "      <td>NaN</td>\n",
       "      <td>False</td>\n",
       "      <td>None</td>\n",
       "      <td>{'toxicity': 0.0003718062653206289, 'severe_to...</td>\n",
       "      <td>d3675c3c-d39e-4928-8d21-222d75963b4d</td>\n",
       "      <td>ready_for_export</td>\n",
       "      <td>{'name': ['+1', '_skip_reply', '_skip_ranking'...</td>\n",
       "      <td>{'name': ['spam', 'lang_mismatch', 'pii', 'not...</td>\n",
       "      <td>2</td>\n",
       "    </tr>\n",
       "    <tr>\n",
       "      <th>5</th>\n",
       "      <td>92757fff-9748-4d39-9060-0e4d234f85bb</td>\n",
       "      <td>1de96d1b-9dff-45db-89a2-e01ebe3f0572</td>\n",
       "      <td>d421dda2-66dc-46e3-8837-bf3e743287dd</td>\n",
       "      <td>2023-04-08T08:13:23.464493+00:00</td>\n",
       "      <td>What are some ways I might rephrase the statem...</td>\n",
       "      <td>prompter</td>\n",
       "      <td>en</td>\n",
       "      <td>3</td>\n",
       "      <td>True</td>\n",
       "      <td>False</td>\n",
       "      <td>NaN</td>\n",
       "      <td>False</td>\n",
       "      <td>None</td>\n",
       "      <td>{'toxicity': 0.0003339180548209697, 'severe_to...</td>\n",
       "      <td>d3675c3c-d39e-4928-8d21-222d75963b4d</td>\n",
       "      <td>ready_for_export</td>\n",
       "      <td>None</td>\n",
       "      <td>{'name': ['spam', 'lang_mismatch', 'pii', 'not...</td>\n",
       "      <td>2</td>\n",
       "    </tr>\n",
       "    <tr>\n",
       "      <th>6</th>\n",
       "      <td>b23e8afd-6fbd-47e3-ab4e-c5b13014287c</td>\n",
       "      <td>f6837ead-c18a-44f0-aeaf-68caa7112842</td>\n",
       "      <td>85d3a95c-018d-4970-a410-d90f90d3b908</td>\n",
       "      <td>2023-04-08T08:53:53.327880+00:00</td>\n",
       "      <td>Now write it as a short paragraph of around 50...</td>\n",
       "      <td>prompter</td>\n",
       "      <td>en</td>\n",
       "      <td>3</td>\n",
       "      <td>True</td>\n",
       "      <td>False</td>\n",
       "      <td>NaN</td>\n",
       "      <td>False</td>\n",
       "      <td>None</td>\n",
       "      <td>{'toxicity': 0.0006392703508026898, 'severe_to...</td>\n",
       "      <td>d3675c3c-d39e-4928-8d21-222d75963b4d</td>\n",
       "      <td>ready_for_export</td>\n",
       "      <td>{'name': ['_skip_labeling'], 'count': [2]}</td>\n",
       "      <td>{'name': ['spam', 'lang_mismatch', 'pii', 'not...</td>\n",
       "      <td>2</td>\n",
       "    </tr>\n",
       "    <tr>\n",
       "      <th>7</th>\n",
       "      <td>4c9e7636-9bd3-4bd4-b7bd-ddcaace0cb0c</td>\n",
       "      <td>99896fca-cf92-4717-b466-ec1dd0f33f49</td>\n",
       "      <td>4dcf588c-b26e-45fe-90dd-862ec0fadda0</td>\n",
       "      <td>2023-04-08T13:53:34.739595+00:00</td>\n",
       "      <td>The logic behind easy accessibility to healthc...</td>\n",
       "      <td>assistant</td>\n",
       "      <td>en</td>\n",
       "      <td>3</td>\n",
       "      <td>True</td>\n",
       "      <td>False</td>\n",
       "      <td>0.0</td>\n",
       "      <td>False</td>\n",
       "      <td>None</td>\n",
       "      <td>{'toxicity': 0.0013847266091033816, 'severe_to...</td>\n",
       "      <td>d3675c3c-d39e-4928-8d21-222d75963b4d</td>\n",
       "      <td>ready_for_export</td>\n",
       "      <td>{'name': ['+1', '_skip_labeling'], 'count': [3...</td>\n",
       "      <td>{'name': ['spam', 'fails_task', 'lang_mismatch...</td>\n",
       "      <td>3</td>\n",
       "    </tr>\n",
       "    <tr>\n",
       "      <th>8</th>\n",
       "      <td>842ce521-0bcc-48db-bd9a-dc36fa30e884</td>\n",
       "      <td>99896fca-cf92-4717-b466-ec1dd0f33f49</td>\n",
       "      <td>46fe4ac9-b71d-451e-9b94-25606ce979fc</td>\n",
       "      <td>2023-04-08T14:04:13.987169+00:00</td>\n",
       "      <td>Easy accessibility to healthcare can lead to i...</td>\n",
       "      <td>assistant</td>\n",
       "      <td>en</td>\n",
       "      <td>3</td>\n",
       "      <td>True</td>\n",
       "      <td>False</td>\n",
       "      <td>1.0</td>\n",
       "      <td>False</td>\n",
       "      <td>None</td>\n",
       "      <td>{'toxicity': 0.0002885847061406821, 'severe_to...</td>\n",
       "      <td>d3675c3c-d39e-4928-8d21-222d75963b4d</td>\n",
       "      <td>ready_for_export</td>\n",
       "      <td>{'name': ['_skip_labeling'], 'count': [1]}</td>\n",
       "      <td>{'name': ['spam', 'fails_task', 'lang_mismatch...</td>\n",
       "      <td>3</td>\n",
       "    </tr>\n",
       "  </tbody>\n",
       "</table>\n",
       "</div>"
      ],
      "text/plain": [
       "                             message_id                             parent_id                               user_id                      created_date                                               text       role lang  review_count review_result  deleted  rank  synthetic model_name                                           detoxify                       message_tree_id        tree_state                                             emojis                                             labels  tree_level\n",
       "0  d3675c3c-d39e-4928-8d21-222d75963b4d                                  None  4b4928ba-870f-4fe5-825a-4317ddebe4fe  2023-02-17T08:34:51.125013+00:00  make this statement better : Easy accessibilit...   prompter   en             3          True    False   NaN      False       None  {'toxicity': 0.00034451059764251113, 'severe_t...  d3675c3c-d39e-4928-8d21-222d75963b4d  ready_for_export   {'name': ['+1', '_skip_reply'], 'count': [4, 2]}  {'name': ['spam', 'lang_mismatch', 'pii', 'not...           0\n",
       "1  f6837ead-c18a-44f0-aeaf-68caa7112842  d3675c3c-d39e-4928-8d21-222d75963b4d  d3536142-bdfa-4de4-a443-b63c310e9613  2023-04-07T23:24:03.005771+00:00  To improve public health, the government shoul...  assistant   en             3          True    False   2.0      False       None  {'toxicity': 0.0003368183970451355, 'severe_to...  d3675c3c-d39e-4928-8d21-222d75963b4d  ready_for_export   {'name': ['+1', '_skip_reply'], 'count': [1, 1]}  {'name': ['spam', 'fails_task', 'lang_mismatch...           1\n",
       "2  1de96d1b-9dff-45db-89a2-e01ebe3f0572  d3675c3c-d39e-4928-8d21-222d75963b4d  3c46c1f7-50f1-4f07-8886-a54b1f841cb1  2023-04-07T23:41:58.765428+00:00  Here is a revised version of the sentence that...  assistant   en             4          True    False   1.0      False       None  {'toxicity': 0.00034181828959845006, 'severe_t...  d3675c3c-d39e-4928-8d21-222d75963b4d  ready_for_export  {'name': ['+1', '_skip_labeling'], 'count': [2...  {'name': ['spam', 'fails_task', 'lang_mismatch...           1\n",
       "3  1e97f980-9e31-4cd7-b89c-d689b79f62a7  d3675c3c-d39e-4928-8d21-222d75963b4d  c2c7eef0-ae98-4e6d-9af7-8b64dd548f5e  2023-04-08T00:04:22.429362+00:00  Here's a few variations on that statement that...  assistant   en             3          True    False   0.0      False       None  {'toxicity': 0.0002850019955076277, 'severe_to...  d3675c3c-d39e-4928-8d21-222d75963b4d  ready_for_export   {'name': ['+1', '_skip_reply'], 'count': [3, 3]}  {'name': ['spam', 'fails_task', 'lang_mismatch...           1\n",
       "4  99896fca-cf92-4717-b466-ec1dd0f33f49  1e97f980-9e31-4cd7-b89c-d689b79f62a7  85bac698-17f0-4f11-ad4a-32d0b0b1bfcb  2023-04-08T02:48:33.188951+00:00  What is the logic behind easy accessibility to...   prompter   en             3          True    False   NaN      False       None  {'toxicity': 0.0003718062653206289, 'severe_to...  d3675c3c-d39e-4928-8d21-222d75963b4d  ready_for_export  {'name': ['+1', '_skip_reply', '_skip_ranking'...  {'name': ['spam', 'lang_mismatch', 'pii', 'not...           2\n",
       "5  92757fff-9748-4d39-9060-0e4d234f85bb  1de96d1b-9dff-45db-89a2-e01ebe3f0572  d421dda2-66dc-46e3-8837-bf3e743287dd  2023-04-08T08:13:23.464493+00:00  What are some ways I might rephrase the statem...   prompter   en             3          True    False   NaN      False       None  {'toxicity': 0.0003339180548209697, 'severe_to...  d3675c3c-d39e-4928-8d21-222d75963b4d  ready_for_export                                               None  {'name': ['spam', 'lang_mismatch', 'pii', 'not...           2\n",
       "6  b23e8afd-6fbd-47e3-ab4e-c5b13014287c  f6837ead-c18a-44f0-aeaf-68caa7112842  85d3a95c-018d-4970-a410-d90f90d3b908  2023-04-08T08:53:53.327880+00:00  Now write it as a short paragraph of around 50...   prompter   en             3          True    False   NaN      False       None  {'toxicity': 0.0006392703508026898, 'severe_to...  d3675c3c-d39e-4928-8d21-222d75963b4d  ready_for_export         {'name': ['_skip_labeling'], 'count': [2]}  {'name': ['spam', 'lang_mismatch', 'pii', 'not...           2\n",
       "7  4c9e7636-9bd3-4bd4-b7bd-ddcaace0cb0c  99896fca-cf92-4717-b466-ec1dd0f33f49  4dcf588c-b26e-45fe-90dd-862ec0fadda0  2023-04-08T13:53:34.739595+00:00  The logic behind easy accessibility to healthc...  assistant   en             3          True    False   0.0      False       None  {'toxicity': 0.0013847266091033816, 'severe_to...  d3675c3c-d39e-4928-8d21-222d75963b4d  ready_for_export  {'name': ['+1', '_skip_labeling'], 'count': [3...  {'name': ['spam', 'fails_task', 'lang_mismatch...           3\n",
       "8  842ce521-0bcc-48db-bd9a-dc36fa30e884  99896fca-cf92-4717-b466-ec1dd0f33f49  46fe4ac9-b71d-451e-9b94-25606ce979fc  2023-04-08T14:04:13.987169+00:00  Easy accessibility to healthcare can lead to i...  assistant   en             3          True    False   1.0      False       None  {'toxicity': 0.0002885847061406821, 'severe_to...  d3675c3c-d39e-4928-8d21-222d75963b4d  ready_for_export         {'name': ['_skip_labeling'], 'count': [1]}  {'name': ['spam', 'fails_task', 'lang_mismatch...           3"
      ]
     },
     "execution_count": 7,
     "metadata": {},
     "output_type": "execute_result"
    }
   ],
   "source": [
    "# look at all data for this message tree\n",
    "df_message_tree = df.query(f\"message_tree_id == '{message_tree_id}'\").sort_values(\"created_date\")\n",
    "\n",
    "# add tree level to df\n",
    "df_message_tree = add_tree_level(df_message_tree)\n",
    "\n",
    "df_message_tree"
   ]
  },
  {
   "cell_type": "markdown",
   "id": "34cb258a",
   "metadata": {},
   "source": [
    "## Create Message Tree"
   ]
  },
  {
   "cell_type": "code",
   "execution_count": 8,
   "id": "31b1a495",
   "metadata": {},
   "outputs": [
    {
     "name": "stdout",
     "output_type": "stream",
     "text": [
      "id_tree:\n",
      "d3675c3c-d39e-4928-8d21-222d75963b4d\n",
      "├── 1de96d1b-9dff-45db-89a2-e01ebe3f0572\n",
      "│   └── 92757fff-9748-4d39-9060-0e4d234f85bb\n",
      "├── 1e97f980-9e31-4cd7-b89c-d689b79f62a7\n",
      "│   └── 99896fca-cf92-4717-b466-ec1dd0f33f49\n",
      "│       ├── 4c9e7636-9bd3-4bd4-b7bd-ddcaace0cb0c\n",
      "│       └── 842ce521-0bcc-48db-bd9a-dc36fa30e884\n",
      "└── f6837ead-c18a-44f0-aeaf-68caa7112842\n",
      "    └── b23e8afd-6fbd-47e3-ab4e-c5b13014287c\n",
      "\n",
      "text_tree:\n",
      "make this statement better : Easy accessibility to healthcare should be a priority for the governmen\n",
      "├── Here is a revised version of the sentence that is easier to read: Governments should provide easy ac\n",
      "│   └── What are some ways I might rephrase the statement in order to make it a persuasive argument and a me\n",
      "├── Here's a few variations on that statement that might be considered better:  - Improving overall publ\n",
      "│   └── What is the logic behind easy accessibility to healthcare leading to improvement on overall public h\n",
      "│       ├── Easy accessibility to healthcare can lead to improved public health outcomes through early detection\n",
      "│       └── The logic behind easy accessibility to healthcare leading to improvement in overall public health ca\n",
      "└── To improve public health, the government should prioritise easy access to healthcare.  I improved th\n",
      "    └── Now write it as a short paragraph of around 50 words.\n",
      "\n"
     ]
    }
   ],
   "source": [
    "# lets create a tree of message ids\n",
    "id_tree = Tree()\n",
    "# lets create a tree of message texts\n",
    "text_tree = Tree()\n",
    "# lets set a max char length for the text\n",
    "max_char_len = 100\n",
    "\n",
    "# iterate over rows in df_message_tree\n",
    "for i, row in df_message_tree.iterrows():\n",
    "    # grab the message_id, parent_id, text, and parent text\n",
    "    message_id = row[\"message_id\"]\n",
    "    parent_id = row[\"parent_id\"]\n",
    "    text = row[\"text\"]\n",
    "    text_short = text[:max_char_len] if len(text) > max_char_len else text\n",
    "    text_short = text_short.replace(\"\\n\", \" \")\n",
    "    parent_text = (\n",
    "        df_message_tree.query(f\"message_id == '{parent_id}'\")[\"text\"].values[0] if parent_id is not None else \"ROOT\"\n",
    "    )\n",
    "    parent_text_short = parent_text[:max_char_len] if len(parent_text) > max_char_len else parent_text\n",
    "    parent_text_short = parent_text_short.replace(\"\\n\", \" \")\n",
    "\n",
    "    # create a node in the id_tree and text_tree, add row as data in case want it later\n",
    "    id_tree.create_node(message_id, message_id, parent=parent_id, data=row.to_dict())\n",
    "\n",
    "    # if parent_id is None, then it is a root message so dont add parent text as is none\n",
    "    if parent_id is None:\n",
    "        text_tree.create_node(text_short, text_short)\n",
    "    # else use the parent text short as the parent\n",
    "    else:\n",
    "        text_tree.create_node(text_short, text_short, parent=parent_text_short)\n",
    "\n",
    "\n",
    "print(\"id_tree:\")\n",
    "id_tree.show()\n",
    "\n",
    "print(\"text_tree:\")\n",
    "text_tree.show()"
   ]
  },
  {
   "cell_type": "code",
   "execution_count": 10,
   "id": "fe7f0036",
   "metadata": {},
   "outputs": [
    {
     "data": {
      "text/plain": [
       "array([False])"
      ]
     },
     "execution_count": 10,
     "metadata": {},
     "output_type": "execute_result"
    }
   ],
   "source": [
    "df.synthetic.unique()"
   ]
  },
  {
   "cell_type": "code",
   "execution_count": 11,
   "id": "48093950",
   "metadata": {},
   "outputs": [
    {
     "data": {
      "text/plain": [
       "False    82952\n",
       "True      1485\n",
       "Name: deleted, dtype: int64"
      ]
     },
     "execution_count": 11,
     "metadata": {},
     "output_type": "execute_result"
    }
   ],
   "source": [
    "df.deleted.value_counts()"
   ]
  },
  {
   "cell_type": "code",
   "execution_count": 12,
   "id": "1b354669",
   "metadata": {},
   "outputs": [
    {
     "data": {
      "text/plain": [
       "0.0     17972\n",
       "1.0     17971\n",
       "2.0     11463\n",
       "3.0       963\n",
       "4.0       234\n",
       "5.0        72\n",
       "6.0        27\n",
       "7.0        13\n",
       "8.0         6\n",
       "9.0         3\n",
       "10.0        1\n",
       "11.0        1\n",
       "12.0        1\n",
       "13.0        1\n",
       "14.0        1\n",
       "15.0        1\n",
       "Name: rank, dtype: int64"
      ]
     },
     "execution_count": 12,
     "metadata": {},
     "output_type": "execute_result"
    }
   ],
   "source": [
    "df['rank'].value_counts()"
   ]
  },
  {
   "cell_type": "code",
   "execution_count": 13,
   "id": "df1078cd",
   "metadata": {},
   "outputs": [
    {
     "data": {
      "text/plain": [
       "en       39283\n",
       "es       22763\n",
       "ru        7242\n",
       "zh        3314\n",
       "de        3050\n",
       "fr        2474\n",
       "th        1460\n",
       "pt-BR     1165\n",
       "ca        1158\n",
       "uk-UA      587\n",
       "it         554\n",
       "ja         363\n",
       "pl         304\n",
       "eu         250\n",
       "vi         191\n",
       "hu          75\n",
       "ar          56\n",
       "da          44\n",
       "tr          37\n",
       "ko          24\n",
       "fi          18\n",
       "id          12\n",
       "cs          12\n",
       "sv           1\n",
       "Name: lang, dtype: int64"
      ]
     },
     "execution_count": 13,
     "metadata": {},
     "output_type": "execute_result"
    }
   ],
   "source": [
    "df['lang'].value_counts()"
   ]
  }
 ],
 "metadata": {
  "kernelspec": {
   "display_name": "nlp-data",
   "language": "python",
   "name": "nlp-data"
  },
  "language_info": {
   "codemirror_mode": {
    "name": "ipython",
    "version": 3
   },
   "file_extension": ".py",
   "mimetype": "text/x-python",
   "name": "python",
   "nbconvert_exporter": "python",
   "pygments_lexer": "ipython3",
   "version": "3.11.3"
  }
 },
 "nbformat": 4,
 "nbformat_minor": 5
}
