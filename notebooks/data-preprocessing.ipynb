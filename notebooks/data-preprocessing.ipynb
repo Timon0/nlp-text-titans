{
 "cells": [
  {
   "cell_type": "markdown",
   "id": "339bcfc9",
   "metadata": {},
   "source": [
    "# Data Preprocessing"
   ]
  },
  {
   "cell_type": "markdown",
   "id": "b88ddfc6",
   "metadata": {},
   "source": [
    "## Imports"
   ]
  },
  {
   "cell_type": "code",
   "execution_count": 1,
   "id": "7f0f9c74",
   "metadata": {
    "ExecuteTime": {
     "end_time": "2023-05-19T11:59:55.044163500Z",
     "start_time": "2023-05-19T11:59:51.867186100Z"
    }
   },
   "outputs": [],
   "source": [
    "import pandas as pd\n",
    "import numpy as np\n",
    "from datasets import load_dataset\n",
    "\n",
    "# set some pandas options to make the output more readable\n",
    "pd.set_option(\"display.max_rows\", 500)\n",
    "pd.set_option(\"display.max_columns\", 500)\n",
    "pd.set_option(\"display.width\", 1000)"
   ]
  },
  {
   "cell_type": "markdown",
   "id": "bcd789e4",
   "metadata": {},
   "source": [
    "## Load Data"
   ]
  },
  {
   "cell_type": "code",
   "execution_count": 2,
   "id": "6ffd3b2b",
   "metadata": {
    "ExecuteTime": {
     "end_time": "2023-05-19T11:59:57.083115300Z",
     "start_time": "2023-05-19T11:59:55.052169Z"
    }
   },
   "outputs": [
    {
     "name": "stderr",
     "output_type": "stream",
     "text": [
      "Found cached dataset parquet (C:/Users/micha/.cache/huggingface/datasets/OpenAssistant___parquet/OpenAssistant--oasst1-2960c57d7e52ab15/0.0.0/2a3b91fbd88a2c90d1dbbb32b460cf621d31bd5b05b934492fdef7d8d6f236ec)\n"
     ]
    }
   ],
   "source": [
    "ds = load_dataset(\"OpenAssistant/oasst1\", split='train')"
   ]
  },
  {
   "cell_type": "code",
   "execution_count": 3,
   "id": "8b089ca7",
   "metadata": {
    "ExecuteTime": {
     "end_time": "2023-05-19T11:59:58.266156100Z",
     "start_time": "2023-05-19T11:59:57.083115300Z"
    }
   },
   "outputs": [],
   "source": [
    "df = ds.to_pandas()"
   ]
  },
  {
   "cell_type": "markdown",
   "id": "bd10d46d",
   "metadata": {},
   "source": [
    "## Preprocess Data"
   ]
  },
  {
   "cell_type": "markdown",
   "id": "a7187968",
   "metadata": {},
   "source": [
    "Remove deleted entries"
   ]
  },
  {
   "cell_type": "code",
   "execution_count": 4,
   "id": "d8af4e26",
   "metadata": {
    "ExecuteTime": {
     "end_time": "2023-05-19T11:59:58.311295600Z",
     "start_time": "2023-05-19T11:59:58.272549800Z"
    }
   },
   "outputs": [],
   "source": [
    "df = df[df.deleted == False]"
   ]
  },
  {
   "cell_type": "markdown",
   "id": "ba91ba7d",
   "metadata": {},
   "source": [
    "Remove entries without labels"
   ]
  },
  {
   "cell_type": "code",
   "execution_count": 5,
   "id": "be22983c",
   "metadata": {
    "ExecuteTime": {
     "end_time": "2023-05-19T11:59:58.352619100Z",
     "start_time": "2023-05-19T11:59:58.311295600Z"
    }
   },
   "outputs": [],
   "source": [
    "df = df[~df.labels.isnull()]"
   ]
  },
  {
   "cell_type": "markdown",
   "source": [
    "Keep only english data"
   ],
   "metadata": {
    "collapsed": false,
    "pycharm": {
     "name": "#%% md\n"
    }
   }
  },
  {
   "cell_type": "code",
   "execution_count": 6,
   "outputs": [],
   "source": [
    "df = df[df.lang == 'en']"
   ],
   "metadata": {
    "collapsed": false,
    "pycharm": {
     "name": "#%%\n"
    },
    "ExecuteTime": {
     "end_time": "2023-05-19T11:59:58.442491200Z",
     "start_time": "2023-05-19T11:59:58.382717200Z"
    }
   }
  },
  {
   "cell_type": "markdown",
   "id": "6ac81428",
   "metadata": {},
   "source": [
    "Extract the humor label"
   ]
  },
  {
   "cell_type": "code",
   "execution_count": 7,
   "id": "b1cce4b5",
   "metadata": {
    "ExecuteTime": {
     "end_time": "2023-05-19T11:59:58.809723600Z",
     "start_time": "2023-05-19T11:59:58.458006700Z"
    }
   },
   "outputs": [],
   "source": [
    "def get_humor_value(x):\n",
    "    index_of_humor = np.where(x['name'] == 'humor')[0]\n",
    "    if len(index_of_humor) > 0:\n",
    "        return x['value'][index_of_humor[0]]\n",
    "    \n",
    "    return 0\n",
    "\n",
    "df['humor'] = df['labels'].apply(get_humor_value)"
   ]
  },
  {
   "cell_type": "markdown",
   "id": "b3642fcc",
   "metadata": {},
   "source": [
    "Drop unncessary columns"
   ]
  },
  {
   "cell_type": "code",
   "execution_count": 9,
   "id": "cbf77e62",
   "metadata": {
    "ExecuteTime": {
     "end_time": "2023-05-19T12:00:27.914004300Z",
     "start_time": "2023-05-19T12:00:27.865213300Z"
    }
   },
   "outputs": [],
   "source": [
    "df = df.drop(columns=[\n",
    "    'user_id',\n",
    "    'created_date',\n",
    "    'rank',\n",
    "    'lang',\n",
    "    'synthetic',\n",
    "    'model_name',\n",
    "    'tree_state',\n",
    "    'deleted',\n",
    "    'detoxify',\n",
    "    'review_count',\n",
    "    'message_tree_id',\n",
    "    'review_result',\n",
    "    'emojis',\n",
    "    'labels'\n",
    "]).reset_index(drop=True)"
   ]
  },
  {
   "cell_type": "markdown",
   "source": [
    "## Assistant"
   ],
   "metadata": {
    "collapsed": false,
    "pycharm": {
     "name": "#%% md\n"
    }
   }
  },
  {
   "cell_type": "code",
   "execution_count": 10,
   "outputs": [],
   "source": [
    "df_assistant = df[df.role == 'assistant']"
   ],
   "metadata": {
    "collapsed": false,
    "pycharm": {
     "name": "#%%\n"
    },
    "ExecuteTime": {
     "end_time": "2023-05-19T12:00:28.710509200Z",
     "start_time": "2023-05-19T12:00:28.661922Z"
    }
   }
  },
  {
   "cell_type": "code",
   "execution_count": 11,
   "outputs": [
    {
     "data": {
      "text/plain": "(23499, 5)"
     },
     "execution_count": 11,
     "metadata": {},
     "output_type": "execute_result"
    }
   ],
   "source": [
    "df_assistant.shape"
   ],
   "metadata": {
    "collapsed": false,
    "pycharm": {
     "name": "#%%\n"
    },
    "ExecuteTime": {
     "end_time": "2023-05-19T12:00:29.009202200Z",
     "start_time": "2023-05-19T12:00:28.926345Z"
    }
   }
  },
  {
   "cell_type": "markdown",
   "source": [
    "Get context"
   ],
   "metadata": {
    "collapsed": false,
    "pycharm": {
     "name": "#%% md\n"
    }
   }
  },
  {
   "cell_type": "code",
   "execution_count": 12,
   "outputs": [],
   "source": [
    "def find_context(value):\n",
    "    try:\n",
    "        parent = df[df['message_id'] == value].iloc[0]\n",
    "        return find_context(parent['parent_id']) + \" \" + parent['text']\n",
    "    except:\n",
    "        return ''"
   ],
   "metadata": {
    "collapsed": false,
    "pycharm": {
     "name": "#%%\n"
    },
    "ExecuteTime": {
     "end_time": "2023-05-19T12:00:29.350327300Z",
     "start_time": "2023-05-19T12:00:29.290768Z"
    }
   }
  },
  {
   "cell_type": "code",
   "execution_count": 13,
   "outputs": [
    {
     "name": "stderr",
     "output_type": "stream",
     "text": [
      "C:\\Users\\micha\\AppData\\Local\\Temp\\ipykernel_22860\\4181889015.py:1: SettingWithCopyWarning: \n",
      "A value is trying to be set on a copy of a slice from a DataFrame.\n",
      "Try using .loc[row_indexer,col_indexer] = value instead\n",
      "\n",
      "See the caveats in the documentation: https://pandas.pydata.org/pandas-docs/stable/user_guide/indexing.html#returning-a-view-versus-a-copy\n",
      "  df_assistant['prompt'] = df_assistant['parent_id'].map(find_context)\n"
     ]
    }
   ],
   "source": [
    "df_assistant['prompt'] = df_assistant['parent_id'].map(find_context)"
   ],
   "metadata": {
    "collapsed": false,
    "pycharm": {
     "name": "#%%\n"
    },
    "ExecuteTime": {
     "end_time": "2023-05-19T12:04:48.908006500Z",
     "start_time": "2023-05-19T12:00:29.480547200Z"
    }
   }
  },
  {
   "cell_type": "code",
   "execution_count": 14,
   "outputs": [
    {
     "name": "stderr",
     "output_type": "stream",
     "text": [
      "C:\\Users\\micha\\AppData\\Local\\Temp\\ipykernel_22860\\2419721759.py:1: SettingWithCopyWarning: \n",
      "A value is trying to be set on a copy of a slice from a DataFrame\n",
      "\n",
      "See the caveats in the documentation: https://pandas.pydata.org/pandas-docs/stable/user_guide/indexing.html#returning-a-view-versus-a-copy\n",
      "  df_assistant.rename(columns={\"prompt\": \"context\", \"text\": \"target\"}, inplace=True)\n"
     ]
    }
   ],
   "source": [
    "df_assistant.rename(columns={\"prompt\": \"context\", \"text\": \"target\"}, inplace=True)"
   ],
   "metadata": {
    "collapsed": false,
    "pycharm": {
     "name": "#%%\n"
    },
    "ExecuteTime": {
     "end_time": "2023-05-19T12:04:49.003173Z",
     "start_time": "2023-05-19T12:04:48.922198800Z"
    }
   }
  },
  {
   "cell_type": "code",
   "execution_count": 15,
   "outputs": [],
   "source": [
    "df_assistant = df_assistant.drop(columns=[\n",
    "    'message_id',\n",
    "    'parent_id',\n",
    "    'role'\n",
    "]).reset_index(drop=True)"
   ],
   "metadata": {
    "collapsed": false,
    "pycharm": {
     "name": "#%%\n"
    },
    "ExecuteTime": {
     "end_time": "2023-05-19T12:04:49.003173Z",
     "start_time": "2023-05-19T12:04:48.947218Z"
    }
   }
  },
  {
   "cell_type": "code",
   "execution_count": 16,
   "outputs": [
    {
     "data": {
      "text/plain": "                                                  target     humor                                            context\n1      Monopsony is a market structure in which there...  0.166667   Can you write a short introduction about the ...\n2      Monopsony refers to a market structure where t...  0.000000   Can you write a short introduction about the ...\n3      Here are some potential regulatory options to ...  0.000000   Can you write a short introduction about the ...\n4      Regulatory intervention can be used to address...  0.000000   Can you write a short introduction about the ...\n5      Yes, that's correct. Keeping the code for the ...  0.125000   Can you write a short introduction about the ...\n...                                                  ...       ...                                                ...\n23493  The most straightforward way to increase the v...  0.000000   What are the main factors that contribute to ...\n23494  As a single person your influence on things li...  0.000000   What are the main factors that contribute to ...\n23496  Not executing an ankle-brachial index (ABI) ex...  0.000000   What are the risks when you do not carry out ...\n23497  There are several risks associated with not pe...  0.000000   What are the risks when you do not carry out ...\n23498  The ankle-brachial index (ABI) is a test used ...  0.000000   What are the risks when you do not carry out ...\n\n[19184 rows x 3 columns]",
      "text/html": "<div>\n<style scoped>\n    .dataframe tbody tr th:only-of-type {\n        vertical-align: middle;\n    }\n\n    .dataframe tbody tr th {\n        vertical-align: top;\n    }\n\n    .dataframe thead th {\n        text-align: right;\n    }\n</style>\n<table border=\"1\" class=\"dataframe\">\n  <thead>\n    <tr style=\"text-align: right;\">\n      <th></th>\n      <th>target</th>\n      <th>humor</th>\n      <th>context</th>\n    </tr>\n  </thead>\n  <tbody>\n    <tr>\n      <th>1</th>\n      <td>Monopsony is a market structure in which there...</td>\n      <td>0.166667</td>\n      <td>Can you write a short introduction about the ...</td>\n    </tr>\n    <tr>\n      <th>2</th>\n      <td>Monopsony refers to a market structure where t...</td>\n      <td>0.000000</td>\n      <td>Can you write a short introduction about the ...</td>\n    </tr>\n    <tr>\n      <th>3</th>\n      <td>Here are some potential regulatory options to ...</td>\n      <td>0.000000</td>\n      <td>Can you write a short introduction about the ...</td>\n    </tr>\n    <tr>\n      <th>4</th>\n      <td>Regulatory intervention can be used to address...</td>\n      <td>0.000000</td>\n      <td>Can you write a short introduction about the ...</td>\n    </tr>\n    <tr>\n      <th>5</th>\n      <td>Yes, that's correct. Keeping the code for the ...</td>\n      <td>0.125000</td>\n      <td>Can you write a short introduction about the ...</td>\n    </tr>\n    <tr>\n      <th>...</th>\n      <td>...</td>\n      <td>...</td>\n      <td>...</td>\n    </tr>\n    <tr>\n      <th>23493</th>\n      <td>The most straightforward way to increase the v...</td>\n      <td>0.000000</td>\n      <td>What are the main factors that contribute to ...</td>\n    </tr>\n    <tr>\n      <th>23494</th>\n      <td>As a single person your influence on things li...</td>\n      <td>0.000000</td>\n      <td>What are the main factors that contribute to ...</td>\n    </tr>\n    <tr>\n      <th>23496</th>\n      <td>Not executing an ankle-brachial index (ABI) ex...</td>\n      <td>0.000000</td>\n      <td>What are the risks when you do not carry out ...</td>\n    </tr>\n    <tr>\n      <th>23497</th>\n      <td>There are several risks associated with not pe...</td>\n      <td>0.000000</td>\n      <td>What are the risks when you do not carry out ...</td>\n    </tr>\n    <tr>\n      <th>23498</th>\n      <td>The ankle-brachial index (ABI) is a test used ...</td>\n      <td>0.000000</td>\n      <td>What are the risks when you do not carry out ...</td>\n    </tr>\n  </tbody>\n</table>\n<p>19184 rows × 3 columns</p>\n</div>"
     },
     "execution_count": 16,
     "metadata": {},
     "output_type": "execute_result"
    }
   ],
   "source": [
    "df_assistant[df_assistant.humor < 0.3]"
   ],
   "metadata": {
    "collapsed": false,
    "pycharm": {
     "name": "#%%\n"
    },
    "ExecuteTime": {
     "end_time": "2023-05-19T12:04:49.012669100Z",
     "start_time": "2023-05-19T12:04:48.995174700Z"
    }
   }
  },
  {
   "cell_type": "markdown",
   "id": "b9d877b8",
   "metadata": {},
   "source": [
    "## Preview Data"
   ]
  },
  {
   "cell_type": "code",
   "execution_count": 17,
   "id": "8adc8e00",
   "metadata": {
    "ExecuteTime": {
     "end_time": "2023-05-19T12:04:49.092567100Z",
     "start_time": "2023-05-19T12:04:49.012669100Z"
    }
   },
   "outputs": [
    {
     "data": {
      "text/plain": "                                              target     humor                                            context\n0  \"Monopsony\" refers to a market structure where...  0.375000   Can you write a short introduction about the ...\n1  Monopsony is a market structure in which there...  0.166667   Can you write a short introduction about the ...\n2  Monopsony refers to a market structure where t...  0.000000   Can you write a short introduction about the ...\n3  Here are some potential regulatory options to ...  0.000000   Can you write a short introduction about the ...\n4  Regulatory intervention can be used to address...  0.000000   Can you write a short introduction about the ...",
      "text/html": "<div>\n<style scoped>\n    .dataframe tbody tr th:only-of-type {\n        vertical-align: middle;\n    }\n\n    .dataframe tbody tr th {\n        vertical-align: top;\n    }\n\n    .dataframe thead th {\n        text-align: right;\n    }\n</style>\n<table border=\"1\" class=\"dataframe\">\n  <thead>\n    <tr style=\"text-align: right;\">\n      <th></th>\n      <th>target</th>\n      <th>humor</th>\n      <th>context</th>\n    </tr>\n  </thead>\n  <tbody>\n    <tr>\n      <th>0</th>\n      <td>\"Monopsony\" refers to a market structure where...</td>\n      <td>0.375000</td>\n      <td>Can you write a short introduction about the ...</td>\n    </tr>\n    <tr>\n      <th>1</th>\n      <td>Monopsony is a market structure in which there...</td>\n      <td>0.166667</td>\n      <td>Can you write a short introduction about the ...</td>\n    </tr>\n    <tr>\n      <th>2</th>\n      <td>Monopsony refers to a market structure where t...</td>\n      <td>0.000000</td>\n      <td>Can you write a short introduction about the ...</td>\n    </tr>\n    <tr>\n      <th>3</th>\n      <td>Here are some potential regulatory options to ...</td>\n      <td>0.000000</td>\n      <td>Can you write a short introduction about the ...</td>\n    </tr>\n    <tr>\n      <th>4</th>\n      <td>Regulatory intervention can be used to address...</td>\n      <td>0.000000</td>\n      <td>Can you write a short introduction about the ...</td>\n    </tr>\n  </tbody>\n</table>\n</div>"
     },
     "execution_count": 17,
     "metadata": {},
     "output_type": "execute_result"
    }
   ],
   "source": [
    "df_assistant.head()"
   ]
  },
  {
   "cell_type": "code",
   "execution_count": 18,
   "id": "5d84fa15",
   "metadata": {
    "ExecuteTime": {
     "end_time": "2023-05-19T12:04:49.092567100Z",
     "start_time": "2023-05-19T12:04:49.035680500Z"
    }
   },
   "outputs": [
    {
     "data": {
      "text/plain": "(23499, 3)"
     },
     "execution_count": 18,
     "metadata": {},
     "output_type": "execute_result"
    }
   ],
   "source": [
    "df_assistant.shape"
   ]
  },
  {
   "cell_type": "markdown",
   "id": "4aedaa73",
   "metadata": {},
   "source": [
    "## Export"
   ]
  },
  {
   "cell_type": "code",
   "execution_count": 19,
   "id": "12547da7",
   "metadata": {
    "ExecuteTime": {
     "end_time": "2023-05-19T12:04:50.541532200Z",
     "start_time": "2023-05-19T12:04:49.051853300Z"
    }
   },
   "outputs": [],
   "source": [
    "df_assistant.to_csv('data/cleaned_with_context.csv', index=False)"
   ]
  }
 ],
 "metadata": {
  "kernelspec": {
   "display_name": "nlp",
   "language": "python",
   "name": "nlp"
  },
  "language_info": {
   "codemirror_mode": {
    "name": "ipython",
    "version": 3
   },
   "file_extension": ".py",
   "mimetype": "text/x-python",
   "name": "python",
   "nbconvert_exporter": "python",
   "pygments_lexer": "ipython3",
   "version": "3.10.9"
  }
 },
 "nbformat": 4,
 "nbformat_minor": 5
}
