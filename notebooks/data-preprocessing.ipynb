{
 "cells": [
  {
   "cell_type": "markdown",
   "id": "339bcfc9",
   "metadata": {},
   "source": [
    "# Data Preprocessing"
   ]
  },
  {
   "cell_type": "markdown",
   "id": "b88ddfc6",
   "metadata": {},
   "source": [
    "## Imports"
   ]
  },
  {
   "cell_type": "code",
   "execution_count": 1,
   "id": "7f0f9c74",
   "metadata": {
    "ExecuteTime": {
     "end_time": "2023-05-19T11:59:55.044163500Z",
     "start_time": "2023-05-19T11:59:51.867186100Z"
    }
   },
   "outputs": [
    {
     "name": "stderr",
     "output_type": "stream",
     "text": [
      "/opt/conda/lib/python3.10/site-packages/tqdm/auto.py:22: TqdmWarning: IProgress not found. Please update jupyter and ipywidgets. See https://ipywidgets.readthedocs.io/en/stable/user_install.html\n",
      "  from .autonotebook import tqdm as notebook_tqdm\n"
     ]
    }
   ],
   "source": [
    "import pandas as pd\n",
    "import numpy as np\n",
    "from datasets import load_dataset\n",
    "from tqdm import tqdm\n",
    "\n",
    "# set some pandas options to make the output more readable\n",
    "pd.set_option(\"display.max_rows\", 500)\n",
    "pd.set_option(\"display.max_columns\", 500)\n",
    "pd.set_option(\"display.width\", 1000)"
   ]
  },
  {
   "cell_type": "markdown",
   "id": "bcd789e4",
   "metadata": {},
   "source": [
    "## Load Data"
   ]
  },
  {
   "cell_type": "code",
   "execution_count": 2,
   "id": "6ffd3b2b",
   "metadata": {
    "ExecuteTime": {
     "end_time": "2023-05-19T11:59:57.083115300Z",
     "start_time": "2023-05-19T11:59:55.052169Z"
    }
   },
   "outputs": [
    {
     "name": "stderr",
     "output_type": "stream",
     "text": [
      "Found cached dataset parquet (/home/jovyan/.cache/huggingface/datasets/OpenAssistant___parquet/OpenAssistant--oasst1-2960c57d7e52ab15/0.0.0/2a3b91fbd88a2c90d1dbbb32b460cf621d31bd5b05b934492fdef7d8d6f236ec)\n"
     ]
    }
   ],
   "source": [
    "ds = load_dataset(\"OpenAssistant/oasst1\", split='train')"
   ]
  },
  {
   "cell_type": "code",
   "execution_count": 3,
   "id": "8b089ca7",
   "metadata": {
    "ExecuteTime": {
     "end_time": "2023-05-19T11:59:58.266156100Z",
     "start_time": "2023-05-19T11:59:57.083115300Z"
    }
   },
   "outputs": [],
   "source": [
    "df = ds.to_pandas()"
   ]
  },
  {
   "cell_type": "code",
   "execution_count": 4,
   "id": "9419405f-cce3-45fe-9275-d1e8bfe3a824",
   "metadata": {},
   "outputs": [
    {
     "data": {
      "text/html": [
       "<div>\n",
       "<style scoped>\n",
       "    .dataframe tbody tr th:only-of-type {\n",
       "        vertical-align: middle;\n",
       "    }\n",
       "\n",
       "    .dataframe tbody tr th {\n",
       "        vertical-align: top;\n",
       "    }\n",
       "\n",
       "    .dataframe thead th {\n",
       "        text-align: right;\n",
       "    }\n",
       "</style>\n",
       "<table border=\"1\" class=\"dataframe\">\n",
       "  <thead>\n",
       "    <tr style=\"text-align: right;\">\n",
       "      <th></th>\n",
       "      <th>message_id</th>\n",
       "      <th>parent_id</th>\n",
       "      <th>user_id</th>\n",
       "      <th>created_date</th>\n",
       "      <th>text</th>\n",
       "      <th>role</th>\n",
       "      <th>lang</th>\n",
       "      <th>review_count</th>\n",
       "      <th>review_result</th>\n",
       "      <th>deleted</th>\n",
       "      <th>rank</th>\n",
       "      <th>synthetic</th>\n",
       "      <th>model_name</th>\n",
       "      <th>detoxify</th>\n",
       "      <th>message_tree_id</th>\n",
       "      <th>tree_state</th>\n",
       "      <th>emojis</th>\n",
       "      <th>labels</th>\n",
       "    </tr>\n",
       "  </thead>\n",
       "  <tbody>\n",
       "    <tr>\n",
       "      <th>0</th>\n",
       "      <td>6ab24d72-0181-4594-a9cd-deaf170242fb</td>\n",
       "      <td>None</td>\n",
       "      <td>c3fe8c76-fc30-4fa7-b7f8-c492f5967d18</td>\n",
       "      <td>2023-02-05T14:23:50.983374+00:00</td>\n",
       "      <td>Can you write a short introduction about the r...</td>\n",
       "      <td>prompter</td>\n",
       "      <td>en</td>\n",
       "      <td>3</td>\n",
       "      <td>True</td>\n",
       "      <td>False</td>\n",
       "      <td>NaN</td>\n",
       "      <td>False</td>\n",
       "      <td>None</td>\n",
       "      <td>{'toxicity': 0.00044308538781479, 'severe_toxi...</td>\n",
       "      <td>6ab24d72-0181-4594-a9cd-deaf170242fb</td>\n",
       "      <td>ready_for_export</td>\n",
       "      <td>{'name': ['+1', '_skip_reply', '_skip_ranking'...</td>\n",
       "      <td>{'name': ['spam', 'lang_mismatch', 'pii', 'not...</td>\n",
       "    </tr>\n",
       "    <tr>\n",
       "      <th>1</th>\n",
       "      <td>c8e83833-ecbc-44fe-b6db-735228c25a1c</td>\n",
       "      <td>6ab24d72-0181-4594-a9cd-deaf170242fb</td>\n",
       "      <td>2c96e467-66f0-4be7-9693-bda51356a424</td>\n",
       "      <td>2023-02-06T13:50:44.657083+00:00</td>\n",
       "      <td>\"Monopsony\" refers to a market structure where...</td>\n",
       "      <td>assistant</td>\n",
       "      <td>en</td>\n",
       "      <td>3</td>\n",
       "      <td>True</td>\n",
       "      <td>False</td>\n",
       "      <td>0.0</td>\n",
       "      <td>False</td>\n",
       "      <td>None</td>\n",
       "      <td>{'toxicity': 0.00026396565954200923, 'severe_t...</td>\n",
       "      <td>6ab24d72-0181-4594-a9cd-deaf170242fb</td>\n",
       "      <td>ready_for_export</td>\n",
       "      <td>{'name': ['+1', '_skip_labeling'], 'count': [3...</td>\n",
       "      <td>{'name': ['spam', 'fails_task', 'lang_mismatch...</td>\n",
       "    </tr>\n",
       "    <tr>\n",
       "      <th>2</th>\n",
       "      <td>6708c47f-05c9-4346-b3d2-40b2bd24fde4</td>\n",
       "      <td>c8e83833-ecbc-44fe-b6db-735228c25a1c</td>\n",
       "      <td>2c96e467-66f0-4be7-9693-bda51356a424</td>\n",
       "      <td>2023-02-06T18:48:49.391686+00:00</td>\n",
       "      <td>Now explain it to a dog</td>\n",
       "      <td>prompter</td>\n",
       "      <td>en</td>\n",
       "      <td>3</td>\n",
       "      <td>True</td>\n",
       "      <td>False</td>\n",
       "      <td>NaN</td>\n",
       "      <td>False</td>\n",
       "      <td>None</td>\n",
       "      <td>{'toxicity': 0.03648477792739868, 'severe_toxi...</td>\n",
       "      <td>6ab24d72-0181-4594-a9cd-deaf170242fb</td>\n",
       "      <td>ready_for_export</td>\n",
       "      <td>None</td>\n",
       "      <td>{'name': ['spam', 'lang_mismatch', 'pii', 'not...</td>\n",
       "    </tr>\n",
       "    <tr>\n",
       "      <th>3</th>\n",
       "      <td>343ee2d4-87ae-41fd-a768-bdd65959dc4a</td>\n",
       "      <td>6ab24d72-0181-4594-a9cd-deaf170242fb</td>\n",
       "      <td>49ddcb0d-6588-43bd-858d-19c577f12e7b</td>\n",
       "      <td>2023-02-06T13:37:56.044680+00:00</td>\n",
       "      <td>Monopsony is a market structure in which there...</td>\n",
       "      <td>assistant</td>\n",
       "      <td>en</td>\n",
       "      <td>3</td>\n",
       "      <td>True</td>\n",
       "      <td>False</td>\n",
       "      <td>1.0</td>\n",
       "      <td>False</td>\n",
       "      <td>None</td>\n",
       "      <td>{'toxicity': 0.0008866374846547842, 'severe_to...</td>\n",
       "      <td>6ab24d72-0181-4594-a9cd-deaf170242fb</td>\n",
       "      <td>ready_for_export</td>\n",
       "      <td>{'name': ['+1', '_skip_reply', '_skip_labeling...</td>\n",
       "      <td>{'name': ['spam', 'fails_task', 'lang_mismatch...</td>\n",
       "    </tr>\n",
       "    <tr>\n",
       "      <th>4</th>\n",
       "      <td>18145bf4-37fd-4ac0-80f5-6108b5f2b365</td>\n",
       "      <td>343ee2d4-87ae-41fd-a768-bdd65959dc4a</td>\n",
       "      <td>e10e99a0-38ac-4b07-bf5d-4427696e4e0d</td>\n",
       "      <td>2023-02-06T18:52:51.428543+00:00</td>\n",
       "      <td>How can one fight back when a monospony had be...</td>\n",
       "      <td>prompter</td>\n",
       "      <td>en</td>\n",
       "      <td>3</td>\n",
       "      <td>True</td>\n",
       "      <td>False</td>\n",
       "      <td>NaN</td>\n",
       "      <td>False</td>\n",
       "      <td>None</td>\n",
       "      <td>{'toxicity': 0.0009362137061543763, 'severe_to...</td>\n",
       "      <td>6ab24d72-0181-4594-a9cd-deaf170242fb</td>\n",
       "      <td>ready_for_export</td>\n",
       "      <td>{'name': ['+1'], 'count': [1]}</td>\n",
       "      <td>{'name': ['spam', 'lang_mismatch', 'pii', 'not...</td>\n",
       "    </tr>\n",
       "  </tbody>\n",
       "</table>\n",
       "</div>"
      ],
      "text/plain": [
       "                             message_id                             parent_id                               user_id                      created_date                                               text       role lang  review_count review_result  deleted  rank  synthetic model_name                                           detoxify                       message_tree_id        tree_state                                             emojis                                             labels\n",
       "0  6ab24d72-0181-4594-a9cd-deaf170242fb                                  None  c3fe8c76-fc30-4fa7-b7f8-c492f5967d18  2023-02-05T14:23:50.983374+00:00  Can you write a short introduction about the r...   prompter   en             3          True    False   NaN      False       None  {'toxicity': 0.00044308538781479, 'severe_toxi...  6ab24d72-0181-4594-a9cd-deaf170242fb  ready_for_export  {'name': ['+1', '_skip_reply', '_skip_ranking'...  {'name': ['spam', 'lang_mismatch', 'pii', 'not...\n",
       "1  c8e83833-ecbc-44fe-b6db-735228c25a1c  6ab24d72-0181-4594-a9cd-deaf170242fb  2c96e467-66f0-4be7-9693-bda51356a424  2023-02-06T13:50:44.657083+00:00  \"Monopsony\" refers to a market structure where...  assistant   en             3          True    False   0.0      False       None  {'toxicity': 0.00026396565954200923, 'severe_t...  6ab24d72-0181-4594-a9cd-deaf170242fb  ready_for_export  {'name': ['+1', '_skip_labeling'], 'count': [3...  {'name': ['spam', 'fails_task', 'lang_mismatch...\n",
       "2  6708c47f-05c9-4346-b3d2-40b2bd24fde4  c8e83833-ecbc-44fe-b6db-735228c25a1c  2c96e467-66f0-4be7-9693-bda51356a424  2023-02-06T18:48:49.391686+00:00                            Now explain it to a dog   prompter   en             3          True    False   NaN      False       None  {'toxicity': 0.03648477792739868, 'severe_toxi...  6ab24d72-0181-4594-a9cd-deaf170242fb  ready_for_export                                               None  {'name': ['spam', 'lang_mismatch', 'pii', 'not...\n",
       "3  343ee2d4-87ae-41fd-a768-bdd65959dc4a  6ab24d72-0181-4594-a9cd-deaf170242fb  49ddcb0d-6588-43bd-858d-19c577f12e7b  2023-02-06T13:37:56.044680+00:00  Monopsony is a market structure in which there...  assistant   en             3          True    False   1.0      False       None  {'toxicity': 0.0008866374846547842, 'severe_to...  6ab24d72-0181-4594-a9cd-deaf170242fb  ready_for_export  {'name': ['+1', '_skip_reply', '_skip_labeling...  {'name': ['spam', 'fails_task', 'lang_mismatch...\n",
       "4  18145bf4-37fd-4ac0-80f5-6108b5f2b365  343ee2d4-87ae-41fd-a768-bdd65959dc4a  e10e99a0-38ac-4b07-bf5d-4427696e4e0d  2023-02-06T18:52:51.428543+00:00  How can one fight back when a monospony had be...   prompter   en             3          True    False   NaN      False       None  {'toxicity': 0.0009362137061543763, 'severe_to...  6ab24d72-0181-4594-a9cd-deaf170242fb  ready_for_export                     {'name': ['+1'], 'count': [1]}  {'name': ['spam', 'lang_mismatch', 'pii', 'not..."
      ]
     },
     "execution_count": 4,
     "metadata": {},
     "output_type": "execute_result"
    }
   ],
   "source": [
    "df.head()"
   ]
  },
  {
   "cell_type": "markdown",
   "id": "bd10d46d",
   "metadata": {},
   "source": [
    "## Preprocess Data"
   ]
  },
  {
   "cell_type": "markdown",
   "id": "a7187968",
   "metadata": {},
   "source": [
    "Remove deleted entries"
   ]
  },
  {
   "cell_type": "code",
   "execution_count": 5,
   "id": "d8af4e26",
   "metadata": {
    "ExecuteTime": {
     "end_time": "2023-05-19T11:59:58.311295600Z",
     "start_time": "2023-05-19T11:59:58.272549800Z"
    }
   },
   "outputs": [],
   "source": [
    "df = df[df.deleted == False]"
   ]
  },
  {
   "cell_type": "markdown",
   "id": "ba91ba7d",
   "metadata": {},
   "source": [
    "Remove entries without labels"
   ]
  },
  {
   "cell_type": "code",
   "execution_count": 6,
   "id": "be22983c",
   "metadata": {
    "ExecuteTime": {
     "end_time": "2023-05-19T11:59:58.352619100Z",
     "start_time": "2023-05-19T11:59:58.311295600Z"
    }
   },
   "outputs": [],
   "source": [
    "df = df[~df.labels.isnull()]"
   ]
  },
  {
   "cell_type": "markdown",
   "id": "6ac81428",
   "metadata": {},
   "source": [
    "Extract the humor label"
   ]
  },
  {
   "cell_type": "code",
   "execution_count": 7,
   "id": "b1cce4b5",
   "metadata": {
    "ExecuteTime": {
     "end_time": "2023-05-19T11:59:58.809723600Z",
     "start_time": "2023-05-19T11:59:58.458006700Z"
    }
   },
   "outputs": [],
   "source": [
    "def get_humor_value(x):\n",
    "    index_of_humor = np.where(x['name'] == 'humor')[0]\n",
    "    if len(index_of_humor) > 0:\n",
    "        return x['value'][index_of_humor[0]]\n",
    "    \n",
    "    return 0\n",
    "\n",
    "df['humor'] = df['labels'].apply(get_humor_value)"
   ]
  },
  {
   "cell_type": "markdown",
   "id": "b3642fcc",
   "metadata": {},
   "source": [
    "Drop unncessary columns"
   ]
  },
  {
   "cell_type": "code",
   "execution_count": 8,
   "id": "cbf77e62",
   "metadata": {
    "ExecuteTime": {
     "end_time": "2023-05-19T12:00:27.914004300Z",
     "start_time": "2023-05-19T12:00:27.865213300Z"
    }
   },
   "outputs": [],
   "source": [
    "df = df.drop(columns=[\n",
    "    'user_id',\n",
    "    'created_date',\n",
    "    'rank',\n",
    "    'lang',\n",
    "    'synthetic',\n",
    "    'model_name',\n",
    "    'tree_state',\n",
    "    'deleted',\n",
    "    'detoxify',\n",
    "    'review_count',\n",
    "    'review_result',\n",
    "    'emojis',\n",
    "    'labels'\n",
    "]).reset_index(drop=True)"
   ]
  },
  {
   "cell_type": "markdown",
   "id": "c0762579",
   "metadata": {
    "pycharm": {
     "name": "#%% md\n"
    }
   },
   "source": [
    "## Assistant"
   ]
  },
  {
   "cell_type": "code",
   "execution_count": 9,
   "id": "86a9f194",
   "metadata": {
    "ExecuteTime": {
     "end_time": "2023-05-19T12:00:28.710509200Z",
     "start_time": "2023-05-19T12:00:28.661922Z"
    },
    "collapsed": false,
    "jupyter": {
     "outputs_hidden": false
    },
    "pycharm": {
     "name": "#%%\n"
    }
   },
   "outputs": [],
   "source": [
    "df_assistant = df[df.role == 'assistant']"
   ]
  },
  {
   "cell_type": "code",
   "execution_count": 10,
   "id": "1f307e5b",
   "metadata": {
    "ExecuteTime": {
     "end_time": "2023-05-19T12:00:29.009202200Z",
     "start_time": "2023-05-19T12:00:28.926345Z"
    },
    "collapsed": false,
    "jupyter": {
     "outputs_hidden": false
    },
    "pycharm": {
     "name": "#%%\n"
    }
   },
   "outputs": [
    {
     "data": {
      "text/plain": [
       "(51802, 6)"
      ]
     },
     "execution_count": 10,
     "metadata": {},
     "output_type": "execute_result"
    }
   ],
   "source": [
    "df_assistant.shape"
   ]
  },
  {
   "cell_type": "markdown",
   "id": "828346ab",
   "metadata": {
    "pycharm": {
     "name": "#%% md\n"
    }
   },
   "source": [
    "Get context"
   ]
  },
  {
   "cell_type": "code",
   "execution_count": 11,
   "id": "5b902156",
   "metadata": {
    "ExecuteTime": {
     "end_time": "2023-05-19T12:00:29.350327300Z",
     "start_time": "2023-05-19T12:00:29.290768Z"
    },
    "collapsed": false,
    "jupyter": {
     "outputs_hidden": false
    },
    "pycharm": {
     "name": "#%%\n"
    }
   },
   "outputs": [],
   "source": [
    "def find_context(value):\n",
    "    global count_no_parents\n",
    "    try:\n",
    "        parent = df[df['message_id'] == value].iloc[0]\n",
    "        if parent['parent_id'] == None:\n",
    "            return \" \" + parent['text']\n",
    "        else:\n",
    "            return find_context(parent['parent_id']) + \" \" + parent['text']\n",
    "    except:\n",
    "        # Parent id available, but no parent -> end of tree\n",
    "        return ' '"
   ]
  },
  {
   "cell_type": "code",
   "execution_count": 12,
   "id": "bb25f95b",
   "metadata": {
    "ExecuteTime": {
     "end_time": "2023-05-19T12:04:48.908006500Z",
     "start_time": "2023-05-19T12:00:29.480547200Z"
    },
    "collapsed": false,
    "jupyter": {
     "outputs_hidden": false
    },
    "pycharm": {
     "name": "#%%\n"
    }
   },
   "outputs": [
    {
     "name": "stderr",
     "output_type": "stream",
     "text": [
      "/tmp/ipykernel_1023/4210366934.py:1: SettingWithCopyWarning: \n",
      "A value is trying to be set on a copy of a slice from a DataFrame.\n",
      "Try using .loc[row_indexer,col_indexer] = value instead\n",
      "\n",
      "See the caveats in the documentation: https://pandas.pydata.org/pandas-docs/stable/user_guide/indexing.html#returning-a-view-versus-a-copy\n",
      "  df_assistant['prompt'] = df_assistant['parent_id'].map(find_context)\n"
     ]
    }
   ],
   "source": [
    "df_assistant['prompt'] = df_assistant['parent_id'].map(find_context)"
   ]
  },
  {
   "cell_type": "code",
   "execution_count": 13,
   "id": "8ed75e1a",
   "metadata": {
    "ExecuteTime": {
     "end_time": "2023-05-19T12:04:49.003173Z",
     "start_time": "2023-05-19T12:04:48.922198800Z"
    },
    "collapsed": false,
    "jupyter": {
     "outputs_hidden": false
    },
    "pycharm": {
     "name": "#%%\n"
    }
   },
   "outputs": [
    {
     "name": "stderr",
     "output_type": "stream",
     "text": [
      "/tmp/ipykernel_1023/3734533272.py:1: SettingWithCopyWarning: \n",
      "A value is trying to be set on a copy of a slice from a DataFrame\n",
      "\n",
      "See the caveats in the documentation: https://pandas.pydata.org/pandas-docs/stable/user_guide/indexing.html#returning-a-view-versus-a-copy\n",
      "  df_assistant.rename(columns={\"prompt\": \"context\", \"text\": \"target\"}, inplace=True)\n"
     ]
    }
   ],
   "source": [
    "df_assistant.rename(columns={\"prompt\": \"context\", \"text\": \"target\"}, inplace=True)"
   ]
  },
  {
   "cell_type": "code",
   "execution_count": 14,
   "id": "b0a8251e",
   "metadata": {
    "ExecuteTime": {
     "end_time": "2023-05-19T12:04:49.003173Z",
     "start_time": "2023-05-19T12:04:48.947218Z"
    },
    "collapsed": false,
    "jupyter": {
     "outputs_hidden": false
    },
    "pycharm": {
     "name": "#%%\n"
    }
   },
   "outputs": [],
   "source": [
    "df_assistant = df_assistant.drop(columns=[\n",
    "    'message_id',\n",
    "    'parent_id',\n",
    "    'role'\n",
    "]).reset_index(drop=True)"
   ]
  },
  {
   "cell_type": "markdown",
   "id": "b9d877b8",
   "metadata": {},
   "source": [
    "## Preview Data"
   ]
  },
  {
   "cell_type": "code",
   "execution_count": 15,
   "id": "8adc8e00",
   "metadata": {
    "ExecuteTime": {
     "end_time": "2023-05-19T12:04:49.092567100Z",
     "start_time": "2023-05-19T12:04:49.012669100Z"
    }
   },
   "outputs": [
    {
     "data": {
      "text/html": [
       "<div>\n",
       "<style scoped>\n",
       "    .dataframe tbody tr th:only-of-type {\n",
       "        vertical-align: middle;\n",
       "    }\n",
       "\n",
       "    .dataframe tbody tr th {\n",
       "        vertical-align: top;\n",
       "    }\n",
       "\n",
       "    .dataframe thead th {\n",
       "        text-align: right;\n",
       "    }\n",
       "</style>\n",
       "<table border=\"1\" class=\"dataframe\">\n",
       "  <thead>\n",
       "    <tr style=\"text-align: right;\">\n",
       "      <th></th>\n",
       "      <th>target</th>\n",
       "      <th>message_tree_id</th>\n",
       "      <th>humor</th>\n",
       "      <th>context</th>\n",
       "    </tr>\n",
       "  </thead>\n",
       "  <tbody>\n",
       "    <tr>\n",
       "      <th>0</th>\n",
       "      <td>\"Monopsony\" refers to a market structure where...</td>\n",
       "      <td>6ab24d72-0181-4594-a9cd-deaf170242fb</td>\n",
       "      <td>0.375000</td>\n",
       "      <td>Can you write a short introduction about the ...</td>\n",
       "    </tr>\n",
       "    <tr>\n",
       "      <th>1</th>\n",
       "      <td>Monopsony is a market structure in which there...</td>\n",
       "      <td>6ab24d72-0181-4594-a9cd-deaf170242fb</td>\n",
       "      <td>0.166667</td>\n",
       "      <td>Can you write a short introduction about the ...</td>\n",
       "    </tr>\n",
       "    <tr>\n",
       "      <th>2</th>\n",
       "      <td>Monopsony refers to a market structure where t...</td>\n",
       "      <td>6ab24d72-0181-4594-a9cd-deaf170242fb</td>\n",
       "      <td>0.000000</td>\n",
       "      <td>Can you write a short introduction about the ...</td>\n",
       "    </tr>\n",
       "    <tr>\n",
       "      <th>3</th>\n",
       "      <td>Here are some potential regulatory options to ...</td>\n",
       "      <td>6ab24d72-0181-4594-a9cd-deaf170242fb</td>\n",
       "      <td>0.000000</td>\n",
       "      <td>Can you write a short introduction about the ...</td>\n",
       "    </tr>\n",
       "    <tr>\n",
       "      <th>4</th>\n",
       "      <td>Regulatory intervention can be used to address...</td>\n",
       "      <td>6ab24d72-0181-4594-a9cd-deaf170242fb</td>\n",
       "      <td>0.000000</td>\n",
       "      <td>Can you write a short introduction about the ...</td>\n",
       "    </tr>\n",
       "  </tbody>\n",
       "</table>\n",
       "</div>"
      ],
      "text/plain": [
       "                                              target                       message_tree_id     humor                                            context\n",
       "0  \"Monopsony\" refers to a market structure where...  6ab24d72-0181-4594-a9cd-deaf170242fb  0.375000   Can you write a short introduction about the ...\n",
       "1  Monopsony is a market structure in which there...  6ab24d72-0181-4594-a9cd-deaf170242fb  0.166667   Can you write a short introduction about the ...\n",
       "2  Monopsony refers to a market structure where t...  6ab24d72-0181-4594-a9cd-deaf170242fb  0.000000   Can you write a short introduction about the ...\n",
       "3  Here are some potential regulatory options to ...  6ab24d72-0181-4594-a9cd-deaf170242fb  0.000000   Can you write a short introduction about the ...\n",
       "4  Regulatory intervention can be used to address...  6ab24d72-0181-4594-a9cd-deaf170242fb  0.000000   Can you write a short introduction about the ..."
      ]
     },
     "execution_count": 15,
     "metadata": {},
     "output_type": "execute_result"
    }
   ],
   "source": [
    "df_assistant.head()"
   ]
  },
  {
   "cell_type": "code",
   "execution_count": 16,
   "id": "5d84fa15",
   "metadata": {
    "ExecuteTime": {
     "end_time": "2023-05-19T12:04:49.092567100Z",
     "start_time": "2023-05-19T12:04:49.035680500Z"
    }
   },
   "outputs": [
    {
     "data": {
      "text/plain": [
       "(51802, 4)"
      ]
     },
     "execution_count": 16,
     "metadata": {},
     "output_type": "execute_result"
    }
   ],
   "source": [
    "df_assistant.shape"
   ]
  },
  {
   "cell_type": "markdown",
   "id": "4aedaa73",
   "metadata": {},
   "source": [
    "## Export"
   ]
  },
  {
   "cell_type": "code",
   "execution_count": 17,
   "id": "12547da7",
   "metadata": {
    "ExecuteTime": {
     "end_time": "2023-05-19T12:04:50.541532200Z",
     "start_time": "2023-05-19T12:04:49.051853300Z"
    }
   },
   "outputs": [],
   "source": [
    "df_assistant.to_csv('data/cleaned_with_context.csv', index=False)"
   ]
  }
 ],
 "metadata": {
  "kernelspec": {
   "display_name": "Python 3 (ipykernel)",
   "language": "python",
   "name": "python3"
  },
  "language_info": {
   "codemirror_mode": {
    "name": "ipython",
    "version": 3
   },
   "file_extension": ".py",
   "mimetype": "text/x-python",
   "name": "python",
   "nbconvert_exporter": "python",
   "pygments_lexer": "ipython3",
   "version": "3.10.5"
  }
 },
 "nbformat": 4,
 "nbformat_minor": 5
}
