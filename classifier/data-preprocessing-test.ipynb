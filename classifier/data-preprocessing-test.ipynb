{
 "cells": [
  {
   "cell_type": "markdown",
   "id": "339bcfc9",
   "metadata": {},
   "source": [
    "# Data Preprocessing"
   ]
  },
  {
   "cell_type": "markdown",
   "id": "b88ddfc6",
   "metadata": {},
   "source": [
    "## Imports"
   ]
  },
  {
   "cell_type": "code",
   "execution_count": 1,
   "id": "7f0f9c74",
   "metadata": {},
   "outputs": [],
   "source": [
    "import pandas as pd\n",
    "import numpy as np\n",
    "from datasets import load_dataset\n",
    "\n",
    "# set some pandas options to make the output more readable\n",
    "pd.set_option(\"display.max_rows\", 500)\n",
    "pd.set_option(\"display.max_columns\", 500)\n",
    "pd.set_option(\"display.width\", 1000)"
   ]
  },
  {
   "cell_type": "markdown",
   "id": "bcd789e4",
   "metadata": {},
   "source": [
    "## Load Data"
   ]
  },
  {
   "cell_type": "code",
   "execution_count": 2,
   "id": "6ffd3b2b",
   "metadata": {},
   "outputs": [
    {
     "name": "stderr",
     "output_type": "stream",
     "text": [
      "Found cached dataset parquet (C:/Users/timon/.cache/huggingface/datasets/OpenAssistant___parquet/OpenAssistant--oasst1-2960c57d7e52ab15/0.0.0/2a3b91fbd88a2c90d1dbbb32b460cf621d31bd5b05b934492fdef7d8d6f236ec)\n"
     ]
    },
    {
     "data": {
      "application/vnd.jupyter.widget-view+json": {
       "model_id": "2dd322e0902f48da80ee8caf30f956ff",
       "version_major": 2,
       "version_minor": 0
      },
      "text/plain": [
       "  0%|          | 0/2 [00:00<?, ?it/s]"
      ]
     },
     "metadata": {},
     "output_type": "display_data"
    }
   ],
   "source": [
    "ds = load_dataset(\"OpenAssistant/oasst1\")"
   ]
  },
  {
   "cell_type": "code",
   "execution_count": 3,
   "id": "8b089ca7",
   "metadata": {},
   "outputs": [],
   "source": [
    "df = ds[\"train\"].to_pandas()"
   ]
  },
  {
   "cell_type": "markdown",
   "id": "bd10d46d",
   "metadata": {},
   "source": [
    "## Preprocess Data"
   ]
  },
  {
   "cell_type": "markdown",
   "id": "a7187968",
   "metadata": {},
   "source": [
    "Remove deleted entries"
   ]
  },
  {
   "cell_type": "code",
   "execution_count": 4,
   "id": "d8af4e26",
   "metadata": {},
   "outputs": [],
   "source": [
    "df = df[df.deleted == False]"
   ]
  },
  {
   "cell_type": "markdown",
   "id": "ba91ba7d",
   "metadata": {},
   "source": [
    "Remove entries without labels"
   ]
  },
  {
   "cell_type": "code",
   "execution_count": 5,
   "id": "be22983c",
   "metadata": {},
   "outputs": [],
   "source": [
    "df = df[~df.labels.isnull()]"
   ]
  },
  {
   "cell_type": "markdown",
   "id": "6ac81428",
   "metadata": {},
   "source": [
    "Extract the humor label"
   ]
  },
  {
   "cell_type": "code",
   "execution_count": 6,
   "id": "b1cce4b5",
   "metadata": {},
   "outputs": [],
   "source": [
    "def get_humor_value(x):\n",
    "    index_of_humor = np.where(x['name'] == 'humor')[0]\n",
    "    if len(index_of_humor) > 0:\n",
    "        return x['value'][index_of_humor[0]]\n",
    "    \n",
    "    return 0\n",
    "\n",
    "df['humor'] = df['labels'].apply(get_humor_value)"
   ]
  },
  {
   "cell_type": "markdown",
   "id": "b3642fcc",
   "metadata": {},
   "source": [
    "Drop unncessary columns"
   ]
  },
  {
   "cell_type": "code",
   "execution_count": 7,
   "id": "cbf77e62",
   "metadata": {},
   "outputs": [],
   "source": [
    "df = df.drop(columns=[\n",
    "    'parent_id',\n",
    "    'user_id',\n",
    "    'created_date',\n",
    "    'rank',\n",
    "    'synthetic',\n",
    "    'model_name',\n",
    "    'tree_state',\n",
    "    'deleted',\n",
    "    'detoxify',\n",
    "    'review_count',\n",
    "    'message_tree_id',\n",
    "    'review_result',\n",
    "    'emojis',\n",
    "    'labels'\n",
    "]).reset_index(drop=True)"
   ]
  },
  {
   "cell_type": "markdown",
   "id": "b9d877b8",
   "metadata": {},
   "source": [
    "## Preview Data"
   ]
  },
  {
   "cell_type": "code",
   "execution_count": 8,
   "id": "8adc8e00",
   "metadata": {},
   "outputs": [
    {
     "data": {
      "text/html": [
       "<div>\n",
       "<style scoped>\n",
       "    .dataframe tbody tr th:only-of-type {\n",
       "        vertical-align: middle;\n",
       "    }\n",
       "\n",
       "    .dataframe tbody tr th {\n",
       "        vertical-align: top;\n",
       "    }\n",
       "\n",
       "    .dataframe thead th {\n",
       "        text-align: right;\n",
       "    }\n",
       "</style>\n",
       "<table border=\"1\" class=\"dataframe\">\n",
       "  <thead>\n",
       "    <tr style=\"text-align: right;\">\n",
       "      <th></th>\n",
       "      <th>message_id</th>\n",
       "      <th>text</th>\n",
       "      <th>role</th>\n",
       "      <th>lang</th>\n",
       "      <th>humor</th>\n",
       "    </tr>\n",
       "  </thead>\n",
       "  <tbody>\n",
       "    <tr>\n",
       "      <th>0</th>\n",
       "      <td>6ab24d72-0181-4594-a9cd-deaf170242fb</td>\n",
       "      <td>Can you write a short introduction about the r...</td>\n",
       "      <td>prompter</td>\n",
       "      <td>en</td>\n",
       "      <td>0.333333</td>\n",
       "    </tr>\n",
       "    <tr>\n",
       "      <th>1</th>\n",
       "      <td>c8e83833-ecbc-44fe-b6db-735228c25a1c</td>\n",
       "      <td>\"Monopsony\" refers to a market structure where...</td>\n",
       "      <td>assistant</td>\n",
       "      <td>en</td>\n",
       "      <td>0.375000</td>\n",
       "    </tr>\n",
       "    <tr>\n",
       "      <th>2</th>\n",
       "      <td>6708c47f-05c9-4346-b3d2-40b2bd24fde4</td>\n",
       "      <td>Now explain it to a dog</td>\n",
       "      <td>prompter</td>\n",
       "      <td>en</td>\n",
       "      <td>0.625000</td>\n",
       "    </tr>\n",
       "    <tr>\n",
       "      <th>3</th>\n",
       "      <td>343ee2d4-87ae-41fd-a768-bdd65959dc4a</td>\n",
       "      <td>Monopsony is a market structure in which there...</td>\n",
       "      <td>assistant</td>\n",
       "      <td>en</td>\n",
       "      <td>0.166667</td>\n",
       "    </tr>\n",
       "    <tr>\n",
       "      <th>4</th>\n",
       "      <td>18145bf4-37fd-4ac0-80f5-6108b5f2b365</td>\n",
       "      <td>How can one fight back when a monospony had be...</td>\n",
       "      <td>prompter</td>\n",
       "      <td>en</td>\n",
       "      <td>0.000000</td>\n",
       "    </tr>\n",
       "  </tbody>\n",
       "</table>\n",
       "</div>"
      ],
      "text/plain": [
       "                             message_id                                               text       role lang     humor\n",
       "0  6ab24d72-0181-4594-a9cd-deaf170242fb  Can you write a short introduction about the r...   prompter   en  0.333333\n",
       "1  c8e83833-ecbc-44fe-b6db-735228c25a1c  \"Monopsony\" refers to a market structure where...  assistant   en  0.375000\n",
       "2  6708c47f-05c9-4346-b3d2-40b2bd24fde4                            Now explain it to a dog   prompter   en  0.625000\n",
       "3  343ee2d4-87ae-41fd-a768-bdd65959dc4a  Monopsony is a market structure in which there...  assistant   en  0.166667\n",
       "4  18145bf4-37fd-4ac0-80f5-6108b5f2b365  How can one fight back when a monospony had be...   prompter   en  0.000000"
      ]
     },
     "execution_count": 8,
     "metadata": {},
     "output_type": "execute_result"
    }
   ],
   "source": [
    "df.head()"
   ]
  },
  {
   "cell_type": "code",
   "execution_count": 9,
   "id": "7ea10bc5",
   "metadata": {},
   "outputs": [
    {
     "data": {
      "text/plain": [
       "(82933, 5)"
      ]
     },
     "execution_count": 9,
     "metadata": {},
     "output_type": "execute_result"
    }
   ],
   "source": [
    "df.shape"
   ]
  },
  {
   "cell_type": "markdown",
   "id": "4aedaa73",
   "metadata": {},
   "source": [
    "## Export"
   ]
  },
  {
   "cell_type": "code",
   "execution_count": 14,
   "id": "12547da7",
   "metadata": {},
   "outputs": [],
   "source": [
    "df.to_csv('./data/oasst1_train_cleaned.csv', index=False)"
   ]
  },
  {
   "cell_type": "code",
   "execution_count": 15,
   "id": "1c2a9713",
   "metadata": {},
   "outputs": [
    {
     "data": {
      "text/html": [
       "<div>\n",
       "<style scoped>\n",
       "    .dataframe tbody tr th:only-of-type {\n",
       "        vertical-align: middle;\n",
       "    }\n",
       "\n",
       "    .dataframe tbody tr th {\n",
       "        vertical-align: top;\n",
       "    }\n",
       "\n",
       "    .dataframe thead th {\n",
       "        text-align: right;\n",
       "    }\n",
       "</style>\n",
       "<table border=\"1\" class=\"dataframe\">\n",
       "  <thead>\n",
       "    <tr style=\"text-align: right;\">\n",
       "      <th></th>\n",
       "      <th>message_id</th>\n",
       "      <th>text</th>\n",
       "      <th>role</th>\n",
       "      <th>lang</th>\n",
       "      <th>humor</th>\n",
       "    </tr>\n",
       "  </thead>\n",
       "  <tbody>\n",
       "    <tr>\n",
       "      <th>0</th>\n",
       "      <td>6ab24d72-0181-4594-a9cd-deaf170242fb</td>\n",
       "      <td>Can you write a short introduction about the r...</td>\n",
       "      <td>prompter</td>\n",
       "      <td>en</td>\n",
       "      <td>0.333333</td>\n",
       "    </tr>\n",
       "    <tr>\n",
       "      <th>1</th>\n",
       "      <td>c8e83833-ecbc-44fe-b6db-735228c25a1c</td>\n",
       "      <td>\"Monopsony\" refers to a market structure where...</td>\n",
       "      <td>assistant</td>\n",
       "      <td>en</td>\n",
       "      <td>0.375000</td>\n",
       "    </tr>\n",
       "    <tr>\n",
       "      <th>2</th>\n",
       "      <td>6708c47f-05c9-4346-b3d2-40b2bd24fde4</td>\n",
       "      <td>Now explain it to a dog</td>\n",
       "      <td>prompter</td>\n",
       "      <td>en</td>\n",
       "      <td>0.625000</td>\n",
       "    </tr>\n",
       "    <tr>\n",
       "      <th>3</th>\n",
       "      <td>343ee2d4-87ae-41fd-a768-bdd65959dc4a</td>\n",
       "      <td>Monopsony is a market structure in which there...</td>\n",
       "      <td>assistant</td>\n",
       "      <td>en</td>\n",
       "      <td>0.166667</td>\n",
       "    </tr>\n",
       "    <tr>\n",
       "      <th>4</th>\n",
       "      <td>18145bf4-37fd-4ac0-80f5-6108b5f2b365</td>\n",
       "      <td>How can one fight back when a monospony had be...</td>\n",
       "      <td>prompter</td>\n",
       "      <td>en</td>\n",
       "      <td>0.000000</td>\n",
       "    </tr>\n",
       "    <tr>\n",
       "      <th>...</th>\n",
       "      <td>...</td>\n",
       "      <td>...</td>\n",
       "      <td>...</td>\n",
       "      <td>...</td>\n",
       "      <td>...</td>\n",
       "    </tr>\n",
       "    <tr>\n",
       "      <th>82928</th>\n",
       "      <td>47ba67f2-f711-4feb-91ff-0a0ffe556fe5</td>\n",
       "      <td>James Potter eta Lily Potter ziren Harry Potte...</td>\n",
       "      <td>assistant</td>\n",
       "      <td>eu</td>\n",
       "      <td>0.083333</td>\n",
       "    </tr>\n",
       "    <tr>\n",
       "      <th>82929</th>\n",
       "      <td>d3946880-4402-42a8-8a9e-6dab5efa787f</td>\n",
       "      <td>Nork jarri zion ahotsa Dragoi Bolako Vegetari ...</td>\n",
       "      <td>prompter</td>\n",
       "      <td>eu</td>\n",
       "      <td>0.333333</td>\n",
       "    </tr>\n",
       "    <tr>\n",
       "      <th>82930</th>\n",
       "      <td>4e8a349d-7781-42ae-8868-1ecf5df4c2cb</td>\n",
       "      <td>Dragoi bolaren aurreneko denboraldian ez da Ve...</td>\n",
       "      <td>assistant</td>\n",
       "      <td>eu</td>\n",
       "      <td>0.500000</td>\n",
       "    </tr>\n",
       "    <tr>\n",
       "      <th>82931</th>\n",
       "      <td>ca45d4bd-2da7-4d56-beec-bf9f772e8426</td>\n",
       "      <td>Dragoi Bolako Vegetari euskarazko ahotsa jarri...</td>\n",
       "      <td>assistant</td>\n",
       "      <td>eu</td>\n",
       "      <td>0.000000</td>\n",
       "    </tr>\n",
       "    <tr>\n",
       "      <th>82932</th>\n",
       "      <td>6ea871e7-7582-4607-8b0a-84e4d0169868</td>\n",
       "      <td>Vegetari euskarazko ahotsa Felix Arkarazo akto...</td>\n",
       "      <td>assistant</td>\n",
       "      <td>eu</td>\n",
       "      <td>0.000000</td>\n",
       "    </tr>\n",
       "  </tbody>\n",
       "</table>\n",
       "<p>82933 rows × 5 columns</p>\n",
       "</div>"
      ],
      "text/plain": [
       "                                 message_id                                               text       role lang     humor\n",
       "0      6ab24d72-0181-4594-a9cd-deaf170242fb  Can you write a short introduction about the r...   prompter   en  0.333333\n",
       "1      c8e83833-ecbc-44fe-b6db-735228c25a1c  \"Monopsony\" refers to a market structure where...  assistant   en  0.375000\n",
       "2      6708c47f-05c9-4346-b3d2-40b2bd24fde4                            Now explain it to a dog   prompter   en  0.625000\n",
       "3      343ee2d4-87ae-41fd-a768-bdd65959dc4a  Monopsony is a market structure in which there...  assistant   en  0.166667\n",
       "4      18145bf4-37fd-4ac0-80f5-6108b5f2b365  How can one fight back when a monospony had be...   prompter   en  0.000000\n",
       "...                                     ...                                                ...        ...  ...       ...\n",
       "82928  47ba67f2-f711-4feb-91ff-0a0ffe556fe5  James Potter eta Lily Potter ziren Harry Potte...  assistant   eu  0.083333\n",
       "82929  d3946880-4402-42a8-8a9e-6dab5efa787f  Nork jarri zion ahotsa Dragoi Bolako Vegetari ...   prompter   eu  0.333333\n",
       "82930  4e8a349d-7781-42ae-8868-1ecf5df4c2cb  Dragoi bolaren aurreneko denboraldian ez da Ve...  assistant   eu  0.500000\n",
       "82931  ca45d4bd-2da7-4d56-beec-bf9f772e8426  Dragoi Bolako Vegetari euskarazko ahotsa jarri...  assistant   eu  0.000000\n",
       "82932  6ea871e7-7582-4607-8b0a-84e4d0169868  Vegetari euskarazko ahotsa Felix Arkarazo akto...  assistant   eu  0.000000\n",
       "\n",
       "[82933 rows x 5 columns]"
      ]
     },
     "execution_count": 15,
     "metadata": {},
     "output_type": "execute_result"
    }
   ],
   "source": [
    "pd.read_csv('./data/oasst1_train_cleaned.csv')"
   ]
  },
  {
   "cell_type": "code",
   "execution_count": null,
   "id": "9a56abfe",
   "metadata": {},
   "outputs": [],
   "source": []
  }
 ],
 "metadata": {
  "kernelspec": {
   "display_name": "nlp",
   "language": "python",
   "name": "nlp"
  },
  "language_info": {
   "codemirror_mode": {
    "name": "ipython",
    "version": 3
   },
   "file_extension": ".py",
   "mimetype": "text/x-python",
   "name": "python",
   "nbconvert_exporter": "python",
   "pygments_lexer": "ipython3",
   "version": "3.10.9"
  }
 },
 "nbformat": 4,
 "nbformat_minor": 5
}
