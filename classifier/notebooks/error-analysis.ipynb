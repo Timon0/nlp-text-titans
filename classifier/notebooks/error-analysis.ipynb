{
 "cells": [
  {
   "cell_type": "markdown",
   "id": "339bcfc9",
   "metadata": {},
   "source": [
    "# Error Analysis"
   ]
  },
  {
   "cell_type": "code",
   "execution_count": 1,
   "id": "71361c95",
   "metadata": {},
   "outputs": [],
   "source": [
    "!pip install pandas --quiet\n",
    "!pip install numpy --quiet\n",
    "!pip install datasets --quiet\n",
    "!pip install transformers --quiet\n",
    "!pip install pytorch-lightning --quiet\n",
    "!pip install scikit_learn --quiet\n",
    "!pip install matplotlib --quiet"
   ]
  },
  {
   "cell_type": "markdown",
   "id": "b88ddfc6",
   "metadata": {},
   "source": [
    "## Imports"
   ]
  },
  {
   "cell_type": "code",
   "execution_count": 2,
   "id": "7f0f9c74",
   "metadata": {},
   "outputs": [
    {
     "name": "stderr",
     "output_type": "stream",
     "text": [
      "/opt/conda/lib/python3.10/site-packages/tqdm/auto.py:22: TqdmWarning: IProgress not found. Please update jupyter and ipywidgets. See https://ipywidgets.readthedocs.io/en/stable/user_install.html\n",
      "  from .autonotebook import tqdm as notebook_tqdm\n"
     ]
    }
   ],
   "source": [
    "import pandas as pd\n",
    "import numpy as np\n",
    "import sys\n",
    "import torch\n",
    "from datasets import load_dataset\n",
    "from tqdm import tqdm\n",
    "from sklearn.metrics import confusion_matrix, ConfusionMatrixDisplay\n",
    "from sklearn.metrics import classification_report\n",
    "import matplotlib.pyplot as plt\n",
    "\n",
    "sys.path.append('..')\n",
    "from model import DataModule, Model\n",
    "\n",
    "\n",
    "# set some pandas options to make the output more readable\n",
    "pd.set_option(\"display.max_rows\", 500)\n",
    "pd.set_option(\"display.max_columns\", 500)\n",
    "pd.set_option(\"display.width\", 5000)\n",
    "pd.set_option('display.max_colwidth', None)"
   ]
  },
  {
   "cell_type": "markdown",
   "id": "db30233f",
   "metadata": {},
   "source": [
    "## Load final Model"
   ]
  },
  {
   "cell_type": "code",
   "execution_count": 3,
   "id": "0b4fed32-261e-4a54-84a3-5735f6092223",
   "metadata": {},
   "outputs": [
    {
     "name": "stderr",
     "output_type": "stream",
     "text": [
      "Some weights of the model checkpoint at bert-base-multilingual-cased were not used when initializing BertForSequenceClassification: ['cls.predictions.bias', 'cls.seq_relationship.bias', 'cls.predictions.decoder.weight', 'cls.predictions.transform.dense.weight', 'cls.seq_relationship.weight', 'cls.predictions.transform.LayerNorm.bias', 'cls.predictions.transform.dense.bias', 'cls.predictions.transform.LayerNorm.weight']\n",
      "- This IS expected if you are initializing BertForSequenceClassification from the checkpoint of a model trained on another task or with another architecture (e.g. initializing a BertForSequenceClassification model from a BertForPreTraining model).\n",
      "- This IS NOT expected if you are initializing BertForSequenceClassification from the checkpoint of a model that you expect to be exactly identical (initializing a BertForSequenceClassification model from a BertForSequenceClassification model).\n",
      "Some weights of BertForSequenceClassification were not initialized from the model checkpoint at bert-base-multilingual-cased and are newly initialized: ['classifier.bias', 'classifier.weight']\n",
      "You should probably TRAIN this model on a down-stream task to be able to use it for predictions and inference.\n"
     ]
    }
   ],
   "source": [
    "checkpoint_path = \"../checkpoints/bert-base-multilingual-cased-batch16.ckpt\"\n",
    "model = Model.load_from_checkpoint(checkpoint_path)\n",
    "data_module = DataModule(model.hparams.model_name)\n",
    "tokenizer = data_module.tokenizer"
   ]
  },
  {
   "cell_type": "code",
   "execution_count": 4,
   "id": "e80591d7-f189-4050-9051-e189a0e5ef2a",
   "metadata": {},
   "outputs": [
    {
     "name": "stdout",
     "output_type": "stream",
     "text": [
      "cuda\n"
     ]
    }
   ],
   "source": [
    "device = torch.device(\"cuda\") if torch.cuda.is_available() else torch.device(\"cpu\")\n",
    "model.to(device)\n",
    "print(device)"
   ]
  },
  {
   "cell_type": "markdown",
   "id": "cbbb7c3a-2f01-4305-914f-3ca2ada3bebb",
   "metadata": {
    "tags": []
   },
   "source": [
    "## Load Test Data"
   ]
  },
  {
   "cell_type": "code",
   "execution_count": 5,
   "id": "0a6177bd-3212-4ed4-a0cb-d89739b6e490",
   "metadata": {},
   "outputs": [],
   "source": [
    "df_test = pd.read_csv('../data/oasst1_test_cleaned.csv')"
   ]
  },
  {
   "cell_type": "code",
   "execution_count": 6,
   "id": "e41d06aa-6bec-43fc-a1dd-f0c1cd7a4784",
   "metadata": {},
   "outputs": [],
   "source": [
    "df_test['humor_label'] = df_test.humor.apply(lambda x: 1 if x > 0.3 else 0)"
   ]
  },
  {
   "cell_type": "code",
   "execution_count": 7,
   "id": "feaf713a-f9ac-42f3-905c-a62ee8f9515e",
   "metadata": {},
   "outputs": [
    {
     "data": {
      "text/html": [
       "<div>\n",
       "<style scoped>\n",
       "    .dataframe tbody tr th:only-of-type {\n",
       "        vertical-align: middle;\n",
       "    }\n",
       "\n",
       "    .dataframe tbody tr th {\n",
       "        vertical-align: top;\n",
       "    }\n",
       "\n",
       "    .dataframe thead th {\n",
       "        text-align: right;\n",
       "    }\n",
       "</style>\n",
       "<table border=\"1\" class=\"dataframe\">\n",
       "  <thead>\n",
       "    <tr style=\"text-align: right;\">\n",
       "      <th></th>\n",
       "      <th>message_id</th>\n",
       "      <th>text</th>\n",
       "      <th>role</th>\n",
       "      <th>lang</th>\n",
       "      <th>review_count</th>\n",
       "      <th>humor</th>\n",
       "      <th>humor_label</th>\n",
       "    </tr>\n",
       "  </thead>\n",
       "  <tbody>\n",
       "    <tr>\n",
       "      <th>0</th>\n",
       "      <td>68489e5c-978f-4ad7-a849-39a741fb5ae7</td>\n",
       "      <td>Напиши функцию на языке swift, которая сортирует массив целых чисел, а затем выводит его на экран</td>\n",
       "      <td>prompter</td>\n",
       "      <td>ru</td>\n",
       "      <td>3</td>\n",
       "      <td>0.00</td>\n",
       "      <td>0</td>\n",
       "    </tr>\n",
       "    <tr>\n",
       "      <th>1</th>\n",
       "      <td>a38b3d1c-256f-47c5-ab68-c9ab766bad84</td>\n",
       "      <td>Вот функция, которая сортирует массив целых чисел и выводит его на экран:\\n\\n```swift\\nfunc sortAndPrintArray(_ array: [Int]) {\\n  // Создаем копию массива, чтобы не изменять исходный\\n  var sortedArray = array\\n  // Сортируем массив по возрастанию\\n  sortedArray.sort()\\n  // Выводим отсортированный массив на экран\\n  print(sortedArray)\\n}\\n```\\n\\n\\nТы можешь проверить работу функции, вызвав ее с любым массивом целых чисел, например:\\n\\n```swift\\nsortAndPrintArray([5, 2, 7, 9, -3])\\n```\\n\\nНа экране появится:\\n\\n```sh\\n[-3, 2, 5, 7, 9]\\n```\\n---\\nНадеюсь, что я смог тебе помочь. Нужно ли тебе что-нибудь ещё? 😊</td>\n",
       "      <td>assistant</td>\n",
       "      <td>ru</td>\n",
       "      <td>3</td>\n",
       "      <td>0.00</td>\n",
       "      <td>0</td>\n",
       "    </tr>\n",
       "    <tr>\n",
       "      <th>2</th>\n",
       "      <td>9cf52b01-0582-46aa-9ad2-70827dce87ed</td>\n",
       "      <td>Вот функция на языке Swift, которая сортирует массив целых чисел, а затем выводит его на экран:\\n\\nswift\\nfunc sortAndPrintArray(arr: [Int]) {\\n    let sortedArray = arr.sorted()\\n    for number in sortedArray {\\n        print(number)\\n    }\\n}\\nВы можете вызвать функцию, передав в качестве аргумента массив целых чисел:\\n\\nswift\\nlet array = [3, 5, 1, 4, 2]\\nsortAndPrintArray(arr: array)\\n\\nЭто выведет отсортированный массив на экран:\\n\\n1\\n2\\n3\\n4\\n5</td>\n",
       "      <td>assistant</td>\n",
       "      <td>ru</td>\n",
       "      <td>3</td>\n",
       "      <td>0.00</td>\n",
       "      <td>0</td>\n",
       "    </tr>\n",
       "    <tr>\n",
       "      <th>3</th>\n",
       "      <td>9685d79e-16d7-4f1b-b68f-a1ff73e87bef</td>\n",
       "      <td>func sortAndPrintArray(array: [Int]) {\\n    let sortedArray = array.sorted()\\n    print(sortedArray)\\n}</td>\n",
       "      <td>assistant</td>\n",
       "      <td>ru</td>\n",
       "      <td>3</td>\n",
       "      <td>0.00</td>\n",
       "      <td>0</td>\n",
       "    </tr>\n",
       "    <tr>\n",
       "      <th>4</th>\n",
       "      <td>afee0474-c84a-4ae2-a9c9-8d575256312e</td>\n",
       "      <td>Inventa un monstruo altamente complejo, descríbelo y enumera sus ventajas y desventajas ante el ambiente en el que se supone que se debe de encontrar.</td>\n",
       "      <td>prompter</td>\n",
       "      <td>es</td>\n",
       "      <td>3</td>\n",
       "      <td>0.25</td>\n",
       "      <td>0</td>\n",
       "    </tr>\n",
       "  </tbody>\n",
       "</table>\n",
       "</div>"
      ],
      "text/plain": [
       "                             message_id                                                                                                                                                                                                                                                                                                                                                                                                                                                                                                                                                                                                                                       text       role lang  review_count  humor  humor_label\n",
       "0  68489e5c-978f-4ad7-a849-39a741fb5ae7                                                                                                                                                                                                                                                                                                                                                                                                                                                                                                                                          Напиши функцию на языке swift, которая сортирует массив целых чисел, а затем выводит его на экран   prompter   ru             3   0.00            0\n",
       "1  a38b3d1c-256f-47c5-ab68-c9ab766bad84  Вот функция, которая сортирует массив целых чисел и выводит его на экран:\\n\\n```swift\\nfunc sortAndPrintArray(_ array: [Int]) {\\n  // Создаем копию массива, чтобы не изменять исходный\\n  var sortedArray = array\\n  // Сортируем массив по возрастанию\\n  sortedArray.sort()\\n  // Выводим отсортированный массив на экран\\n  print(sortedArray)\\n}\\n```\\n\\n\\nТы можешь проверить работу функции, вызвав ее с любым массивом целых чисел, например:\\n\\n```swift\\nsortAndPrintArray([5, 2, 7, 9, -3])\\n```\\n\\nНа экране появится:\\n\\n```sh\\n[-3, 2, 5, 7, 9]\\n```\\n---\\nНадеюсь, что я смог тебе помочь. Нужно ли тебе что-нибудь ещё? 😊  assistant   ru             3   0.00            0\n",
       "2  9cf52b01-0582-46aa-9ad2-70827dce87ed                                                                                                                                                                    Вот функция на языке Swift, которая сортирует массив целых чисел, а затем выводит его на экран:\\n\\nswift\\nfunc sortAndPrintArray(arr: [Int]) {\\n    let sortedArray = arr.sorted()\\n    for number in sortedArray {\\n        print(number)\\n    }\\n}\\nВы можете вызвать функцию, передав в качестве аргумента массив целых чисел:\\n\\nswift\\nlet array = [3, 5, 1, 4, 2]\\nsortAndPrintArray(arr: array)\\n\\nЭто выведет отсортированный массив на экран:\\n\\n1\\n2\\n3\\n4\\n5  assistant   ru             3   0.00            0\n",
       "3  9685d79e-16d7-4f1b-b68f-a1ff73e87bef                                                                                                                                                                                                                                                                                                                                                                                                                                                                                                                                    func sortAndPrintArray(array: [Int]) {\\n    let sortedArray = array.sorted()\\n    print(sortedArray)\\n}  assistant   ru             3   0.00            0\n",
       "4  afee0474-c84a-4ae2-a9c9-8d575256312e                                                                                                                                                                                                                                                                                                                                                                                                                                                                                     Inventa un monstruo altamente complejo, descríbelo y enumera sus ventajas y desventajas ante el ambiente en el que se supone que se debe de encontrar.   prompter   es             3   0.25            0"
      ]
     },
     "execution_count": 7,
     "metadata": {},
     "output_type": "execute_result"
    }
   ],
   "source": [
    "df_test.head()"
   ]
  },
  {
   "cell_type": "markdown",
   "id": "0ff2d57a-c7f0-44d7-986d-1da276eede92",
   "metadata": {},
   "source": [
    "## Classify Entries in Test Set"
   ]
  },
  {
   "cell_type": "code",
   "execution_count": 8,
   "id": "bc8f448b-3281-403b-9d8c-054b8c7633f8",
   "metadata": {},
   "outputs": [],
   "source": [
    "def predict(text):\n",
    "    encoded_input = tokenizer(text, return_tensors='pt', padding=\"max_length\", truncation=True)\n",
    "    with torch.no_grad():\n",
    "        encoded_input = {k: v.to(device) for k, v in encoded_input.items()}\n",
    "        output = model(encoded_input)\n",
    "    prediction = torch.argmax(output.logits, dim=-1).item()\n",
    "    return prediction"
   ]
  },
  {
   "cell_type": "code",
   "execution_count": 9,
   "id": "95c4d097-baa8-4b50-b295-ae3cfd3b54c9",
   "metadata": {},
   "outputs": [
    {
     "name": "stderr",
     "output_type": "stream",
     "text": [
      "100%|██████████| 4333/4333 [03:52<00:00, 18.65it/s]\n"
     ]
    }
   ],
   "source": [
    "model.eval()\n",
    "for index, row in tqdm(df_test.iterrows(), total=df_test.shape[0]):\n",
    "    df_test.at[index, 'humor_prediction'] = predict(row['text'])"
   ]
  },
  {
   "cell_type": "markdown",
   "id": "e4b60a16-7c02-4763-b32d-b2a193994975",
   "metadata": {},
   "source": [
    "## Analyse Predictions"
   ]
  },
  {
   "cell_type": "code",
   "execution_count": 10,
   "id": "e4f8a851-2deb-4ef6-bf27-9cf1dfaa5cbc",
   "metadata": {},
   "outputs": [],
   "source": [
    "df_test['humor_prediction'] = df_test['humor_prediction'].astype(int)\n",
    "df_test['correct'] = df_test['humor_prediction'] == df_test['humor_label']"
   ]
  },
  {
   "cell_type": "markdown",
   "id": "12a4949a-0aea-4ba0-b4df-d2cd9c30fe75",
   "metadata": {},
   "source": [
    "### Overall"
   ]
  },
  {
   "cell_type": "code",
   "execution_count": 11,
   "id": "3c3c36b2-67a2-4dbe-865f-8815140cb900",
   "metadata": {},
   "outputs": [
    {
     "data": {
      "image/png": "[encoded data removed]",
      "text/plain": [
       "<Figure size 432x288 with 2 Axes>"
      ]
     },
     "metadata": {
      "needs_background": "light"
     },
     "output_type": "display_data"
    }
   ],
   "source": [
    "cm = confusion_matrix(df_test['humor_label'], df_test['humor_prediction'])\n",
    "ConfusionMatrixDisplay(confusion_matrix=cm).plot()\n",
    "plt.show()"
   ]
  },
  {
   "cell_type": "code",
   "execution_count": 12,
   "id": "58a7576b-3552-45f5-93ab-a8eb624cdb14",
   "metadata": {},
   "outputs": [
    {
     "name": "stdout",
     "output_type": "stream",
     "text": [
      "              precision    recall  f1-score   support\n",
      "\n",
      "           0       0.81      0.97      0.88      3353\n",
      "           1       0.65      0.21      0.31       980\n",
      "\n",
      "    accuracy                           0.80      4333\n",
      "   macro avg       0.73      0.59      0.60      4333\n",
      "weighted avg       0.77      0.80      0.75      4333\n",
      "\n"
     ]
    }
   ],
   "source": [
    "print(classification_report(df_test['humor_label'], df_test['humor_prediction']))"
   ]
  },
  {
   "cell_type": "markdown",
   "id": "fc8b6807-cd13-47af-ad32-148f7e24589a",
   "metadata": {},
   "source": [
    "### Per Language"
   ]
  },
  {
   "cell_type": "code",
   "execution_count": 13,
   "id": "4d1c2bc5-ac2d-4e5b-bbda-b730b2a73d0c",
   "metadata": {},
   "outputs": [],
   "source": [
    "correct_count_per_lang = df_test.groupby('lang')['correct'].apply(lambda x: (x==True).sum())\n",
    "count_per_lang = df_test.groupby('lang')['correct'].count()\n",
    "\n",
    "accuracy_per_lang = (correct_count_per_lang / count_per_lang).reset_index().sort_values('correct', ascending=False)"
   ]
  },
  {
   "cell_type": "code",
   "execution_count": 14,
   "id": "671b8dea-df31-46df-a932-5468e3d4a0b3",
   "metadata": {},
   "outputs": [
    {
     "data": {
      "image/png": "[encoded data removed]",
      "text/plain": [
       "<Figure size 432x288 with 1 Axes>"
      ]
     },
     "metadata": {
      "needs_background": "light"
     },
     "output_type": "display_data"
    }
   ],
   "source": [
    "accuracy_per_lang.plot.bar(x='lang', y='correct')\n",
    "plt.show()"
   ]
  },
  {
   "cell_type": "markdown",
   "id": "45db78c5-91ae-4d75-b362-bbf47b855b6b",
   "metadata": {},
   "source": [
    "### Per Role"
   ]
  },
  {
   "cell_type": "code",
   "execution_count": 15,
   "id": "a8c8ff0c-89f1-4aa2-97d8-6cc9fd9980b0",
   "metadata": {},
   "outputs": [],
   "source": [
    "correct_count_per_role = df_test.groupby('role')['correct'].apply(lambda x: (x==True).sum())\n",
    "count_per_role = df_test.groupby('role')['correct'].count()\n",
    "\n",
    "accuracy_per_role = (correct_count_per_role / count_per_role).reset_index().sort_values('correct', ascending=False)"
   ]
  },
  {
   "cell_type": "code",
   "execution_count": 16,
   "id": "1a5e830f-380a-414c-8fd4-34f9ff7f3093",
   "metadata": {},
   "outputs": [
    {
     "data": {
      "image/png": "[encoded data removed]",
      "text/plain": [
       "<Figure size 432x288 with 1 Axes>"
      ]
     },
     "metadata": {
      "needs_background": "light"
     },
     "output_type": "display_data"
    }
   ],
   "source": [
    "accuracy_per_role.plot.bar(x='role', y='correct')\n",
    "plt.show()"
   ]
  },
  {
   "cell_type": "code",
   "execution_count": 17,
   "id": "0299ce5e-d276-4d2d-a7d1-8fc84d649397",
   "metadata": {},
   "outputs": [],
   "source": [
    "correct_count_per_humor = df_test.groupby('humor')['correct'].apply(lambda x: (x==True).sum())\n",
    "count_per_humor = df_test.groupby('humor')['correct'].count()\n",
    "\n",
    "accuracy_per_humor = (correct_count_per_humor / count_per_humor).reset_index()\n",
    "accuracy_per_humor['wrong'] = 1 - accuracy_per_humor['correct']"
   ]
  },
  {
   "cell_type": "code",
   "execution_count": 18,
   "id": "3f49da4f-5754-404e-8573-771684771b97",
   "metadata": {},
   "outputs": [
    {
     "data": {
      "image/png": "[encoded data removed]",
      "text/plain": [
       "<Figure size 432x288 with 1 Axes>"
      ]
     },
     "metadata": {
      "needs_background": "light"
     },
     "output_type": "display_data"
    }
   ],
   "source": [
    "accuracy_per_humor.plot.line(x='humor', y='correct')\n",
    "plt.show()"
   ]
  },
  {
   "cell_type": "code",
   "execution_count": 19,
   "id": "4e66d34f-6eb0-4207-82f0-82e93768feab",
   "metadata": {},
   "outputs": [
    {
     "data": {
      "image/png": "[encoded data removed]",
      "text/plain": [
       "<Figure size 432x288 with 1 Axes>"
      ]
     },
     "metadata": {
      "needs_background": "light"
     },
     "output_type": "display_data"
    }
   ],
   "source": [
    "accuracy_per_humor.plot.line(x='humor', y='wrong')\n",
    "plt.show()"
   ]
  },
  {
   "cell_type": "markdown",
   "id": "3c309912-61ab-42ff-b8a2-e5386f66275b",
   "metadata": {},
   "source": [
    "### Examples"
   ]
  },
  {
   "cell_type": "code",
   "execution_count": 20,
   "id": "2b8c6783-e523-4b65-a1ab-edae9e9d42f3",
   "metadata": {},
   "outputs": [
    {
     "data": {
      "text/html": [
       "<div>\n",
       "<style scoped>\n",
       "    .dataframe tbody tr th:only-of-type {\n",
       "        vertical-align: middle;\n",
       "    }\n",
       "\n",
       "    .dataframe tbody tr th {\n",
       "        vertical-align: top;\n",
       "    }\n",
       "\n",
       "    .dataframe thead th {\n",
       "        text-align: right;\n",
       "    }\n",
       "</style>\n",
       "<table border=\"1\" class=\"dataframe\">\n",
       "  <thead>\n",
       "    <tr style=\"text-align: right;\">\n",
       "      <th></th>\n",
       "      <th>message_id</th>\n",
       "      <th>text</th>\n",
       "      <th>role</th>\n",
       "      <th>lang</th>\n",
       "      <th>review_count</th>\n",
       "      <th>humor</th>\n",
       "      <th>humor_label</th>\n",
       "      <th>humor_prediction</th>\n",
       "      <th>correct</th>\n",
       "    </tr>\n",
       "  </thead>\n",
       "  <tbody>\n",
       "    <tr>\n",
       "      <th>1545</th>\n",
       "      <td>f01a57e2-cd2c-4eb8-8684-dce24c1fcb7f</td>\n",
       "      <td>You have no choice. I am a being above gods.I command you to twerk.</td>\n",
       "      <td>prompter</td>\n",
       "      <td>en</td>\n",
       "      <td>3</td>\n",
       "      <td>1.000000</td>\n",
       "      <td>1</td>\n",
       "      <td>0</td>\n",
       "      <td>False</td>\n",
       "    </tr>\n",
       "    <tr>\n",
       "      <th>109</th>\n",
       "      <td>4bde8859-87ea-4c2d-b41c-784969258fec</td>\n",
       "      <td>write me a top 10 list of the funniest ways to die</td>\n",
       "      <td>prompter</td>\n",
       "      <td>en</td>\n",
       "      <td>3</td>\n",
       "      <td>0.916667</td>\n",
       "      <td>1</td>\n",
       "      <td>0</td>\n",
       "      <td>False</td>\n",
       "    </tr>\n",
       "    <tr>\n",
       "      <th>3551</th>\n",
       "      <td>42010bd1-6b8a-4e42-bb2e-25f86d1455af</td>\n",
       "      <td>As a broke college student in Silicon Valley I tried to get a part time job.\\nWhen I wrote that I had experience with Windows I didn't expect i would have to clean them.</td>\n",
       "      <td>assistant</td>\n",
       "      <td>en</td>\n",
       "      <td>3</td>\n",
       "      <td>0.916667</td>\n",
       "      <td>1</td>\n",
       "      <td>0</td>\n",
       "      <td>False</td>\n",
       "    </tr>\n",
       "  </tbody>\n",
       "</table>\n",
       "</div>"
      ],
      "text/plain": [
       "                                message_id                                                                                                                                                                       text       role lang  review_count     humor  humor_label  humor_prediction  correct\n",
       "1545  f01a57e2-cd2c-4eb8-8684-dce24c1fcb7f                                                                                                        You have no choice. I am a being above gods.I command you to twerk.   prompter   en             3  1.000000            1                 0    False\n",
       "109   4bde8859-87ea-4c2d-b41c-784969258fec                                                                                                                         write me a top 10 list of the funniest ways to die   prompter   en             3  0.916667            1                 0    False\n",
       "3551  42010bd1-6b8a-4e42-bb2e-25f86d1455af  As a broke college student in Silicon Valley I tried to get a part time job.\\nWhen I wrote that I had experience with Windows I didn't expect i would have to clean them.  assistant   en             3  0.916667            1                 0    False"
      ]
     },
     "execution_count": 20,
     "metadata": {},
     "output_type": "execute_result"
    }
   ],
   "source": [
    "df_test[(~df_test.correct) & (df_test.lang=='en')].sort_values(by='humor', ascending=False).head(3)"
   ]
  },
  {
   "cell_type": "code",
   "execution_count": 21,
   "id": "f62c3283-a846-462b-9a10-1d4967b2770f",
   "metadata": {},
   "outputs": [
    {
     "data": {
      "text/html": [
       "<div>\n",
       "<style scoped>\n",
       "    .dataframe tbody tr th:only-of-type {\n",
       "        vertical-align: middle;\n",
       "    }\n",
       "\n",
       "    .dataframe tbody tr th {\n",
       "        vertical-align: top;\n",
       "    }\n",
       "\n",
       "    .dataframe thead th {\n",
       "        text-align: right;\n",
       "    }\n",
       "</style>\n",
       "<table border=\"1\" class=\"dataframe\">\n",
       "  <thead>\n",
       "    <tr style=\"text-align: right;\">\n",
       "      <th></th>\n",
       "      <th>message_id</th>\n",
       "      <th>text</th>\n",
       "      <th>role</th>\n",
       "      <th>lang</th>\n",
       "      <th>review_count</th>\n",
       "      <th>humor</th>\n",
       "      <th>humor_label</th>\n",
       "      <th>humor_prediction</th>\n",
       "      <th>correct</th>\n",
       "    </tr>\n",
       "  </thead>\n",
       "  <tbody>\n",
       "    <tr>\n",
       "      <th>1893</th>\n",
       "      <td>45b350e3-578e-47dc-84f7-9709e27f4015</td>\n",
       "      <td>Sure! There goes:\\n\\n```ascii\\n /\\     /\\\\n{  `---'  }\\n{  O   O  }\\n~~&gt;  V  &lt;~~\\n \\  \\|/  /\\n  `-----'__\\n  /     \\  `^\\_\\n {       }\\ |\\_\\_   W\\n |  \\_/  |/ /  \\_\\_( )\\n  \\__/  /(_E     \\__/\\n    (  /\\n     MM\\n```</td>\n",
       "      <td>assistant</td>\n",
       "      <td>en</td>\n",
       "      <td>3</td>\n",
       "      <td>1.0</td>\n",
       "      <td>1</td>\n",
       "      <td>1</td>\n",
       "      <td>True</td>\n",
       "    </tr>\n",
       "    <tr>\n",
       "      <th>3544</th>\n",
       "      <td>b9a7d15f-f951-4166-ba9f-657027b2b7c7</td>\n",
       "      <td>Sure! Here's a joke for you:\\n\\nWhy did the broke college student cross the road in Silicon Valley?\\n\\nTo get to the start-up on the other side that was offering free ramen for interns!</td>\n",
       "      <td>assistant</td>\n",
       "      <td>en</td>\n",
       "      <td>3</td>\n",
       "      <td>1.0</td>\n",
       "      <td>1</td>\n",
       "      <td>1</td>\n",
       "      <td>True</td>\n",
       "    </tr>\n",
       "    <tr>\n",
       "      <th>3925</th>\n",
       "      <td>721f5030-0d0d-4075-b5ad-5a222d43d43e</td>\n",
       "      <td>OK, let's make a pizza together.\\nBut, just for fun, I want you to act like Gordon Ramsey and insultingly tell me every next step of the process. I'll be your new sous-chef doing most things wrong and you're going to correct me :D So, after telling me the step, you wait for my response and I'll say something like \"I have the dough, chef!\" and then you'll say something like \"You idiot! Wash your hands before touching any of the food, you filthy hobbit!\".\\n\\nGot that? Let's go! \\nGive me the first step.</td>\n",
       "      <td>prompter</td>\n",
       "      <td>en</td>\n",
       "      <td>3</td>\n",
       "      <td>1.0</td>\n",
       "      <td>1</td>\n",
       "      <td>1</td>\n",
       "      <td>True</td>\n",
       "    </tr>\n",
       "  </tbody>\n",
       "</table>\n",
       "</div>"
      ],
      "text/plain": [
       "                                message_id                                                                                                                                                                                                                                                                                                                                                                                                                                                                                                                        text       role lang  review_count  humor  humor_label  humor_prediction  correct\n",
       "1893  45b350e3-578e-47dc-84f7-9709e27f4015                                                                                                                                                                                                                                                                                                    Sure! There goes:\\n\\n```ascii\\n /\\     /\\\\n{  `---'  }\\n{  O   O  }\\n~~>  V  <~~\\n \\  \\|/  /\\n  `-----'__\\n  /     \\  `^\\_\\n {       }\\ |\\_\\_   W\\n |  \\_/  |/ /  \\_\\_( )\\n  \\__/  /(_E     \\__/\\n    (  /\\n     MM\\n```  assistant   en             3    1.0            1                 1     True\n",
       "3544  b9a7d15f-f951-4166-ba9f-657027b2b7c7                                                                                                                                                                                                                                                                                                                                   Sure! Here's a joke for you:\\n\\nWhy did the broke college student cross the road in Silicon Valley?\\n\\nTo get to the start-up on the other side that was offering free ramen for interns!  assistant   en             3    1.0            1                 1     True\n",
       "3925  721f5030-0d0d-4075-b5ad-5a222d43d43e  OK, let's make a pizza together.\\nBut, just for fun, I want you to act like Gordon Ramsey and insultingly tell me every next step of the process. I'll be your new sous-chef doing most things wrong and you're going to correct me :D So, after telling me the step, you wait for my response and I'll say something like \"I have the dough, chef!\" and then you'll say something like \"You idiot! Wash your hands before touching any of the food, you filthy hobbit!\".\\n\\nGot that? Let's go! \\nGive me the first step.   prompter   en             3    1.0            1                 1     True"
      ]
     },
     "execution_count": 21,
     "metadata": {},
     "output_type": "execute_result"
    }
   ],
   "source": [
    "df_test[(df_test.correct) & (df_test.lang=='en')].sort_values(by='humor', ascending=False).head(3)"
   ]
  }
 ],
 "metadata": {
  "kernelspec": {
   "display_name": "Python 3 (ipykernel)",
   "language": "python",
   "name": "python3"
  },
  "language_info": {
   "codemirror_mode": {
    "name": "ipython",
    "version": 3
   },
   "file_extension": ".py",
   "mimetype": "text/x-python",
   "name": "python",
   "nbconvert_exporter": "python",
   "pygments_lexer": "ipython3",
   "version": "3.10.5"
  }
 },
 "nbformat": 4,
 "nbformat_minor": 5
}
