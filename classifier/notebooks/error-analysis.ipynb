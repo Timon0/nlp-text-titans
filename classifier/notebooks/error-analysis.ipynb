{
 "cells": [
  {
   "cell_type": "markdown",
   "id": "339bcfc9",
   "metadata": {},
   "source": [
    "# Error Analysis"
   ]
  },
  {
   "cell_type": "code",
   "execution_count": 1,
   "id": "71361c95",
   "metadata": {},
   "outputs": [],
   "source": [
    "!pip install pandas --quiet\n",
    "!pip install numpy --quiet\n",
    "!pip install datasets --quiet\n",
    "!pip install transformers --quiet\n",
    "!pip install pytorch-lightning --quiet\n",
    "!pip install scikit_learn --quiet\n",
    "!pip install matplotlib --quiet"
   ]
  },
  {
   "cell_type": "markdown",
   "id": "b88ddfc6",
   "metadata": {},
   "source": [
    "## Imports"
   ]
  },
  {
   "cell_type": "code",
   "execution_count": 2,
   "id": "7f0f9c74",
   "metadata": {},
   "outputs": [
    {
     "name": "stderr",
     "output_type": "stream",
     "text": [
      "/opt/conda/lib/python3.10/site-packages/tqdm/auto.py:22: TqdmWarning: IProgress not found. Please update jupyter and ipywidgets. See https://ipywidgets.readthedocs.io/en/stable/user_install.html\n",
      "  from .autonotebook import tqdm as notebook_tqdm\n"
     ]
    }
   ],
   "source": [
    "import pandas as pd\n",
    "import numpy as np\n",
    "import sys\n",
    "import torch\n",
    "from datasets import load_dataset\n",
    "from tqdm import tqdm\n",
    "from sklearn.metrics import confusion_matrix, ConfusionMatrixDisplay\n",
    "from sklearn.metrics import classification_report\n",
    "import matplotlib.pyplot as plt\n",
    "\n",
    "sys.path.append('..')\n",
    "from model import DataModule, Model\n",
    "\n",
    "\n",
    "# set some pandas options to make the output more readable\n",
    "pd.set_option(\"display.max_rows\", 500)\n",
    "pd.set_option(\"display.max_columns\", 500)\n",
    "pd.set_option(\"display.width\", 5000)\n",
    "pd.set_option('display.max_colwidth', None)"
   ]
  },
  {
   "cell_type": "markdown",
   "id": "db30233f",
   "metadata": {},
   "source": [
    "## Load final Model"
   ]
  },
  {
   "cell_type": "code",
   "execution_count": 3,
   "id": "0b4fed32-261e-4a54-84a3-5735f6092223",
   "metadata": {},
   "outputs": [
    {
     "name": "stderr",
     "output_type": "stream",
     "text": [
      "Some weights of the model checkpoint at bert-base-multilingual-cased were not used when initializing BertForSequenceClassification: ['cls.seq_relationship.bias', 'cls.predictions.bias', 'cls.seq_relationship.weight', 'cls.predictions.decoder.weight', 'cls.predictions.transform.LayerNorm.weight', 'cls.predictions.transform.dense.bias', 'cls.predictions.transform.dense.weight', 'cls.predictions.transform.LayerNorm.bias']\n",
      "- This IS expected if you are initializing BertForSequenceClassification from the checkpoint of a model trained on another task or with another architecture (e.g. initializing a BertForSequenceClassification model from a BertForPreTraining model).\n",
      "- This IS NOT expected if you are initializing BertForSequenceClassification from the checkpoint of a model that you expect to be exactly identical (initializing a BertForSequenceClassification model from a BertForSequenceClassification model).\n",
      "Some weights of BertForSequenceClassification were not initialized from the model checkpoint at bert-base-multilingual-cased and are newly initialized: ['classifier.weight', 'classifier.bias']\n",
      "You should probably TRAIN this model on a down-stream task to be able to use it for predictions and inference.\n"
     ]
    }
   ],
   "source": [
    "checkpoint_path = \"../checkpoints/bert-base-multilingual-cased-batch16.ckpt\"\n",
    "model = Model.load_from_checkpoint(checkpoint_path)\n",
    "data_module = DataModule(model.hparams.model_name)\n",
    "tokenizer = data_module.tokenizer"
   ]
  },
  {
   "cell_type": "code",
   "execution_count": 4,
   "id": "e80591d7-f189-4050-9051-e189a0e5ef2a",
   "metadata": {},
   "outputs": [
    {
     "name": "stdout",
     "output_type": "stream",
     "text": [
      "cuda\n"
     ]
    }
   ],
   "source": [
    "device = torch.device(\"cuda\") if torch.cuda.is_available() else torch.device(\"cpu\")\n",
    "model.to(device)\n",
    "print(device)"
   ]
  },
  {
   "cell_type": "markdown",
   "id": "cbbb7c3a-2f01-4305-914f-3ca2ada3bebb",
   "metadata": {
    "tags": []
   },
   "source": [
    "## Load Test Data"
   ]
  },
  {
   "cell_type": "code",
   "execution_count": 5,
   "id": "0a6177bd-3212-4ed4-a0cb-d89739b6e490",
   "metadata": {},
   "outputs": [],
   "source": [
    "df_test = pd.read_csv('../data/oasst1_test_cleaned.csv')"
   ]
  },
  {
   "cell_type": "code",
   "execution_count": 6,
   "id": "e41d06aa-6bec-43fc-a1dd-f0c1cd7a4784",
   "metadata": {},
   "outputs": [],
   "source": [
    "df_test['humor_label'] = df_test.humor.apply(lambda x: 1 if x > 0.3 else 0)"
   ]
  },
  {
   "cell_type": "code",
   "execution_count": 7,
   "id": "feaf713a-f9ac-42f3-905c-a62ee8f9515e",
   "metadata": {},
   "outputs": [
    {
     "data": {
      "text/html": [
       "<div>\n",
       "<style scoped>\n",
       "    .dataframe tbody tr th:only-of-type {\n",
       "        vertical-align: middle;\n",
       "    }\n",
       "\n",
       "    .dataframe tbody tr th {\n",
       "        vertical-align: top;\n",
       "    }\n",
       "\n",
       "    .dataframe thead th {\n",
       "        text-align: right;\n",
       "    }\n",
       "</style>\n",
       "<table border=\"1\" class=\"dataframe\">\n",
       "  <thead>\n",
       "    <tr style=\"text-align: right;\">\n",
       "      <th></th>\n",
       "      <th>message_id</th>\n",
       "      <th>text</th>\n",
       "      <th>role</th>\n",
       "      <th>lang</th>\n",
       "      <th>review_count</th>\n",
       "      <th>humor</th>\n",
       "      <th>humor_label</th>\n",
       "    </tr>\n",
       "  </thead>\n",
       "  <tbody>\n",
       "    <tr>\n",
       "      <th>0</th>\n",
       "      <td>68489e5c-978f-4ad7-a849-39a741fb5ae7</td>\n",
       "      <td>Напиши функцию на языке swift, которая сортирует массив целых чисел, а затем выводит его на экран</td>\n",
       "      <td>prompter</td>\n",
       "      <td>ru</td>\n",
       "      <td>3</td>\n",
       "      <td>0.00</td>\n",
       "      <td>0</td>\n",
       "    </tr>\n",
       "    <tr>\n",
       "      <th>1</th>\n",
       "      <td>a38b3d1c-256f-47c5-ab68-c9ab766bad84</td>\n",
       "      <td>Вот функция, которая сортирует массив целых чисел и выводит его на экран:\\n\\n```swift\\nfunc sortAndPrintArray(_ array: [Int]) {\\n  // Создаем копию массива, чтобы не изменять исходный\\n  var sortedArray = array\\n  // Сортируем массив по возрастанию\\n  sortedArray.sort()\\n  // Выводим отсортированный массив на экран\\n  print(sortedArray)\\n}\\n```\\n\\n\\nТы можешь проверить работу функции, вызвав ее с любым массивом целых чисел, например:\\n\\n```swift\\nsortAndPrintArray([5, 2, 7, 9, -3])\\n```\\n\\nНа экране появится:\\n\\n```sh\\n[-3, 2, 5, 7, 9]\\n```\\n---\\nНадеюсь, что я смог тебе помочь. Нужно ли тебе что-нибудь ещё? 😊</td>\n",
       "      <td>assistant</td>\n",
       "      <td>ru</td>\n",
       "      <td>3</td>\n",
       "      <td>0.00</td>\n",
       "      <td>0</td>\n",
       "    </tr>\n",
       "    <tr>\n",
       "      <th>2</th>\n",
       "      <td>9cf52b01-0582-46aa-9ad2-70827dce87ed</td>\n",
       "      <td>Вот функция на языке Swift, которая сортирует массив целых чисел, а затем выводит его на экран:\\n\\nswift\\nfunc sortAndPrintArray(arr: [Int]) {\\n    let sortedArray = arr.sorted()\\n    for number in sortedArray {\\n        print(number)\\n    }\\n}\\nВы можете вызвать функцию, передав в качестве аргумента массив целых чисел:\\n\\nswift\\nlet array = [3, 5, 1, 4, 2]\\nsortAndPrintArray(arr: array)\\n\\nЭто выведет отсортированный массив на экран:\\n\\n1\\n2\\n3\\n4\\n5</td>\n",
       "      <td>assistant</td>\n",
       "      <td>ru</td>\n",
       "      <td>3</td>\n",
       "      <td>0.00</td>\n",
       "      <td>0</td>\n",
       "    </tr>\n",
       "    <tr>\n",
       "      <th>3</th>\n",
       "      <td>9685d79e-16d7-4f1b-b68f-a1ff73e87bef</td>\n",
       "      <td>func sortAndPrintArray(array: [Int]) {\\n    let sortedArray = array.sorted()\\n    print(sortedArray)\\n}</td>\n",
       "      <td>assistant</td>\n",
       "      <td>ru</td>\n",
       "      <td>3</td>\n",
       "      <td>0.00</td>\n",
       "      <td>0</td>\n",
       "    </tr>\n",
       "    <tr>\n",
       "      <th>4</th>\n",
       "      <td>afee0474-c84a-4ae2-a9c9-8d575256312e</td>\n",
       "      <td>Inventa un monstruo altamente complejo, descríbelo y enumera sus ventajas y desventajas ante el ambiente en el que se supone que se debe de encontrar.</td>\n",
       "      <td>prompter</td>\n",
       "      <td>es</td>\n",
       "      <td>3</td>\n",
       "      <td>0.25</td>\n",
       "      <td>0</td>\n",
       "    </tr>\n",
       "  </tbody>\n",
       "</table>\n",
       "</div>"
      ],
      "text/plain": [
       "                             message_id                                                                                                                                                                                                                                                                                                                                                                                                                                                                                                                                                                                                                                       text       role lang  review_count  humor  humor_label\n",
       "0  68489e5c-978f-4ad7-a849-39a741fb5ae7                                                                                                                                                                                                                                                                                                                                                                                                                                                                                                                                          Напиши функцию на языке swift, которая сортирует массив целых чисел, а затем выводит его на экран   prompter   ru             3   0.00            0\n",
       "1  a38b3d1c-256f-47c5-ab68-c9ab766bad84  Вот функция, которая сортирует массив целых чисел и выводит его на экран:\\n\\n```swift\\nfunc sortAndPrintArray(_ array: [Int]) {\\n  // Создаем копию массива, чтобы не изменять исходный\\n  var sortedArray = array\\n  // Сортируем массив по возрастанию\\n  sortedArray.sort()\\n  // Выводим отсортированный массив на экран\\n  print(sortedArray)\\n}\\n```\\n\\n\\nТы можешь проверить работу функции, вызвав ее с любым массивом целых чисел, например:\\n\\n```swift\\nsortAndPrintArray([5, 2, 7, 9, -3])\\n```\\n\\nНа экране появится:\\n\\n```sh\\n[-3, 2, 5, 7, 9]\\n```\\n---\\nНадеюсь, что я смог тебе помочь. Нужно ли тебе что-нибудь ещё? 😊  assistant   ru             3   0.00            0\n",
       "2  9cf52b01-0582-46aa-9ad2-70827dce87ed                                                                                                                                                                    Вот функция на языке Swift, которая сортирует массив целых чисел, а затем выводит его на экран:\\n\\nswift\\nfunc sortAndPrintArray(arr: [Int]) {\\n    let sortedArray = arr.sorted()\\n    for number in sortedArray {\\n        print(number)\\n    }\\n}\\nВы можете вызвать функцию, передав в качестве аргумента массив целых чисел:\\n\\nswift\\nlet array = [3, 5, 1, 4, 2]\\nsortAndPrintArray(arr: array)\\n\\nЭто выведет отсортированный массив на экран:\\n\\n1\\n2\\n3\\n4\\n5  assistant   ru             3   0.00            0\n",
       "3  9685d79e-16d7-4f1b-b68f-a1ff73e87bef                                                                                                                                                                                                                                                                                                                                                                                                                                                                                                                                    func sortAndPrintArray(array: [Int]) {\\n    let sortedArray = array.sorted()\\n    print(sortedArray)\\n}  assistant   ru             3   0.00            0\n",
       "4  afee0474-c84a-4ae2-a9c9-8d575256312e                                                                                                                                                                                                                                                                                                                                                                                                                                                                                     Inventa un monstruo altamente complejo, descríbelo y enumera sus ventajas y desventajas ante el ambiente en el que se supone que se debe de encontrar.   prompter   es             3   0.25            0"
      ]
     },
     "execution_count": 7,
     "metadata": {},
     "output_type": "execute_result"
    }
   ],
   "source": [
    "df_test.head()"
   ]
  },
  {
   "cell_type": "markdown",
   "id": "0ff2d57a-c7f0-44d7-986d-1da276eede92",
   "metadata": {},
   "source": [
    "## Classify Entries in Test Set"
   ]
  },
  {
   "cell_type": "code",
   "execution_count": 8,
   "id": "bc8f448b-3281-403b-9d8c-054b8c7633f8",
   "metadata": {},
   "outputs": [],
   "source": [
    "def predict(text):\n",
    "    encoded_input = tokenizer(text, return_tensors='pt', padding=\"max_length\", truncation=True)\n",
    "    with torch.no_grad():\n",
    "        encoded_input = {k: v.to(device) for k, v in encoded_input.items()}\n",
    "        output = model(encoded_input)\n",
    "    prediction = torch.argmax(output.logits, dim=-1).item()\n",
    "    return prediction"
   ]
  },
  {
   "cell_type": "code",
   "execution_count": 9,
   "id": "95c4d097-baa8-4b50-b295-ae3cfd3b54c9",
   "metadata": {},
   "outputs": [
    {
     "name": "stderr",
     "output_type": "stream",
     "text": [
      "100%|██████████| 4333/4333 [03:49<00:00, 18.85it/s]\n"
     ]
    }
   ],
   "source": [
    "model.eval()\n",
    "for index, row in tqdm(df_test.iterrows(), total=df_test.shape[0]):\n",
    "    df_test.at[index, 'humor_prediction'] = predict(row['text'])"
   ]
  },
  {
   "cell_type": "markdown",
   "id": "e4b60a16-7c02-4763-b32d-b2a193994975",
   "metadata": {},
   "source": [
    "## Analyse Predictions"
   ]
  },
  {
   "cell_type": "code",
   "execution_count": 10,
   "id": "e4f8a851-2deb-4ef6-bf27-9cf1dfaa5cbc",
   "metadata": {},
   "outputs": [],
   "source": [
    "df_test['humor_prediction'] = df_test['humor_prediction'].astype(int)\n",
    "df_test['correct'] = df_test['humor_prediction'] == df_test['humor_label']\n",
    "df_test['correct_int'] = df_test['correct'].astype(int)"
   ]
  },
  {
   "cell_type": "markdown",
   "id": "12a4949a-0aea-4ba0-b4df-d2cd9c30fe75",
   "metadata": {},
   "source": [
    "### Overall"
   ]
  },
  {
   "cell_type": "code",
   "execution_count": 11,
   "id": "3c3c36b2-67a2-4dbe-865f-8815140cb900",
   "metadata": {},
   "outputs": [
    {
     "data": {
      "image/png": "[encoded data removed]",
      "text/plain": [
       "<Figure size 432x288 with 2 Axes>"
      ]
     },
     "metadata": {
      "needs_background": "light"
     },
     "output_type": "display_data"
    }
   ],
   "source": [
    "cm = confusion_matrix(df_test['humor_label'], df_test['humor_prediction'])\n",
    "ConfusionMatrixDisplay(confusion_matrix=cm).plot()\n",
    "plt.show()"
   ]
  },
  {
   "cell_type": "code",
   "execution_count": 12,
   "id": "58a7576b-3552-45f5-93ab-a8eb624cdb14",
   "metadata": {},
   "outputs": [
    {
     "name": "stdout",
     "output_type": "stream",
     "text": [
      "              precision    recall  f1-score   support\n",
      "\n",
      "           0       0.81      0.97      0.88      3353\n",
      "           1       0.65      0.21      0.31       980\n",
      "\n",
      "    accuracy                           0.80      4333\n",
      "   macro avg       0.73      0.59      0.60      4333\n",
      "weighted avg       0.77      0.80      0.75      4333\n",
      "\n"
     ]
    }
   ],
   "source": [
    "print(classification_report(df_test['humor_label'], df_test['humor_prediction']))"
   ]
  },
  {
   "cell_type": "markdown",
   "id": "fc8b6807-cd13-47af-ad32-148f7e24589a",
   "metadata": {},
   "source": [
    "### Languages"
   ]
  },
  {
   "cell_type": "code",
   "execution_count": 13,
   "id": "4d1c2bc5-ac2d-4e5b-bbda-b730b2a73d0c",
   "metadata": {},
   "outputs": [],
   "source": [
    "lang_accurary = df_test.groupby('lang')['correct_int'].mean().sort_values(ascending=False)"
   ]
  },
  {
   "cell_type": "code",
   "execution_count": 14,
   "id": "671b8dea-df31-46df-a932-5468e3d4a0b3",
   "metadata": {},
   "outputs": [
    {
     "data": {
      "image/png": "[encoded data removed]",
      "text/plain": [
       "<Figure size 432x288 with 1 Axes>"
      ]
     },
     "metadata": {
      "needs_background": "light"
     },
     "output_type": "display_data"
    }
   ],
   "source": [
    "lang_accurary.plot.bar(ylabel=\"Accuracy\")\n",
    "plt.show()"
   ]
  },
  {
   "cell_type": "markdown",
   "id": "45db78c5-91ae-4d75-b362-bbf47b855b6b",
   "metadata": {},
   "source": [
    "### Per Roles"
   ]
  },
  {
   "cell_type": "code",
   "execution_count": 15,
   "id": "a8c8ff0c-89f1-4aa2-97d8-6cc9fd9980b0",
   "metadata": {},
   "outputs": [],
   "source": [
    "role_accurary = df_test.groupby('role')['correct_int'].mean()"
   ]
  },
  {
   "cell_type": "code",
   "execution_count": 16,
   "id": "1a5e830f-380a-414c-8fd4-34f9ff7f3093",
   "metadata": {},
   "outputs": [
    {
     "data": {
      "image/png": "[encoded data removed]",
      "text/plain": [
       "<Figure size 432x288 with 1 Axes>"
      ]
     },
     "metadata": {
      "needs_background": "light"
     },
     "output_type": "display_data"
    }
   ],
   "source": [
    "role_accurary.plot.bar(ylabel=\"Accuracy\")\n",
    "plt.show()"
   ]
  },
  {
   "cell_type": "markdown",
   "id": "70fe9d0d-5741-463c-a23d-5282d822dfec",
   "metadata": {},
   "source": [
    "### Per Humor Confidence"
   ]
  },
  {
   "cell_type": "code",
   "execution_count": 17,
   "id": "0299ce5e-d276-4d2d-a7d1-8fc84d649397",
   "metadata": {},
   "outputs": [],
   "source": [
    "humor_accurary = df_test.groupby('humor')['correct_int'].mean()"
   ]
  },
  {
   "cell_type": "code",
   "execution_count": 18,
   "id": "3f49da4f-5754-404e-8573-771684771b97",
   "metadata": {},
   "outputs": [
    {
     "data": {
      "image/png": "[encoded data removed]",
      "text/plain": [
       "<Figure size 432x288 with 1 Axes>"
      ]
     },
     "metadata": {
      "needs_background": "light"
     },
     "output_type": "display_data"
    }
   ],
   "source": [
    "humor_accurary.plot.line(ylabel=\"Accuracy\")\n",
    "plt.show()"
   ]
  },
  {
   "cell_type": "markdown",
   "id": "dde01945-73c0-4ed4-ac7b-3a917000d168",
   "metadata": {},
   "source": [
    "### Text Length"
   ]
  },
  {
   "cell_type": "code",
   "execution_count": 19,
   "id": "89c4b74d-4999-4835-b53b-0d15c0dd8839",
   "metadata": {},
   "outputs": [],
   "source": [
    "df_test['text_len'] = df_test['text'].str.len()\n",
    "groups_text_len = df_test.groupby([pd.cut(df_test.text_len, 10)])['correct_int'].mean()"
   ]
  },
  {
   "cell_type": "code",
   "execution_count": 20,
   "id": "eb1c1a88-97de-4d67-a648-b4fa4abff016",
   "metadata": {},
   "outputs": [
    {
     "data": {
      "image/png": "[encoded data removed]",
      "text/plain": [
       "<Figure size 432x288 with 1 Axes>"
      ]
     },
     "metadata": {
      "needs_background": "light"
     },
     "output_type": "display_data"
    }
   ],
   "source": [
    "groups_text_len.plot.bar(ylabel=\"Accuracy\")\n",
    "plt.show()"
   ]
  },
  {
   "cell_type": "markdown",
   "id": "3c309912-61ab-42ff-b8a2-e5386f66275b",
   "metadata": {},
   "source": [
    "### Examples"
   ]
  },
  {
   "cell_type": "code",
   "execution_count": 21,
   "id": "2b8c6783-e523-4b65-a1ab-edae9e9d42f3",
   "metadata": {},
   "outputs": [
    {
     "data": {
      "text/html": [
       "<div>\n",
       "<style scoped>\n",
       "    .dataframe tbody tr th:only-of-type {\n",
       "        vertical-align: middle;\n",
       "    }\n",
       "\n",
       "    .dataframe tbody tr th {\n",
       "        vertical-align: top;\n",
       "    }\n",
       "\n",
       "    .dataframe thead th {\n",
       "        text-align: right;\n",
       "    }\n",
       "</style>\n",
       "<table border=\"1\" class=\"dataframe\">\n",
       "  <thead>\n",
       "    <tr style=\"text-align: right;\">\n",
       "      <th></th>\n",
       "      <th>message_id</th>\n",
       "      <th>text</th>\n",
       "      <th>role</th>\n",
       "      <th>lang</th>\n",
       "      <th>review_count</th>\n",
       "      <th>humor</th>\n",
       "      <th>humor_label</th>\n",
       "      <th>humor_prediction</th>\n",
       "      <th>correct</th>\n",
       "      <th>correct_int</th>\n",
       "      <th>text_len</th>\n",
       "    </tr>\n",
       "  </thead>\n",
       "  <tbody>\n",
       "    <tr>\n",
       "      <th>1545</th>\n",
       "      <td>f01a57e2-cd2c-4eb8-8684-dce24c1fcb7f</td>\n",
       "      <td>You have no choice. I am a being above gods.I command you to twerk.</td>\n",
       "      <td>prompter</td>\n",
       "      <td>en</td>\n",
       "      <td>3</td>\n",
       "      <td>1.000000</td>\n",
       "      <td>1</td>\n",
       "      <td>0</td>\n",
       "      <td>False</td>\n",
       "      <td>0</td>\n",
       "      <td>67</td>\n",
       "    </tr>\n",
       "    <tr>\n",
       "      <th>109</th>\n",
       "      <td>4bde8859-87ea-4c2d-b41c-784969258fec</td>\n",
       "      <td>write me a top 10 list of the funniest ways to die</td>\n",
       "      <td>prompter</td>\n",
       "      <td>en</td>\n",
       "      <td>3</td>\n",
       "      <td>0.916667</td>\n",
       "      <td>1</td>\n",
       "      <td>0</td>\n",
       "      <td>False</td>\n",
       "      <td>0</td>\n",
       "      <td>50</td>\n",
       "    </tr>\n",
       "    <tr>\n",
       "      <th>3551</th>\n",
       "      <td>42010bd1-6b8a-4e42-bb2e-25f86d1455af</td>\n",
       "      <td>As a broke college student in Silicon Valley I tried to get a part time job.\\nWhen I wrote that I had experience with Windows I didn't expect i would have to clean them.</td>\n",
       "      <td>assistant</td>\n",
       "      <td>en</td>\n",
       "      <td>3</td>\n",
       "      <td>0.916667</td>\n",
       "      <td>1</td>\n",
       "      <td>0</td>\n",
       "      <td>False</td>\n",
       "      <td>0</td>\n",
       "      <td>168</td>\n",
       "    </tr>\n",
       "  </tbody>\n",
       "</table>\n",
       "</div>"
      ],
      "text/plain": [
       "                                message_id                                                                                                                                                                       text       role lang  review_count     humor  humor_label  humor_prediction  correct  correct_int  text_len\n",
       "1545  f01a57e2-cd2c-4eb8-8684-dce24c1fcb7f                                                                                                        You have no choice. I am a being above gods.I command you to twerk.   prompter   en             3  1.000000            1                 0    False            0        67\n",
       "109   4bde8859-87ea-4c2d-b41c-784969258fec                                                                                                                         write me a top 10 list of the funniest ways to die   prompter   en             3  0.916667            1                 0    False            0        50\n",
       "3551  42010bd1-6b8a-4e42-bb2e-25f86d1455af  As a broke college student in Silicon Valley I tried to get a part time job.\\nWhen I wrote that I had experience with Windows I didn't expect i would have to clean them.  assistant   en             3  0.916667            1                 0    False            0       168"
      ]
     },
     "execution_count": 21,
     "metadata": {},
     "output_type": "execute_result"
    }
   ],
   "source": [
    "df_test[(~df_test.correct) & (df_test.lang=='en')].sort_values(by='humor', ascending=False).head(3)"
   ]
  },
  {
   "cell_type": "code",
   "execution_count": 22,
   "id": "4dae13ba-fd98-40f4-a4ff-91a6035c67c6",
   "metadata": {},
   "outputs": [
    {
     "data": {
      "text/html": [
       "<div>\n",
       "<style scoped>\n",
       "    .dataframe tbody tr th:only-of-type {\n",
       "        vertical-align: middle;\n",
       "    }\n",
       "\n",
       "    .dataframe tbody tr th {\n",
       "        vertical-align: top;\n",
       "    }\n",
       "\n",
       "    .dataframe thead th {\n",
       "        text-align: right;\n",
       "    }\n",
       "</style>\n",
       "<table border=\"1\" class=\"dataframe\">\n",
       "  <thead>\n",
       "    <tr style=\"text-align: right;\">\n",
       "      <th></th>\n",
       "      <th>message_id</th>\n",
       "      <th>text</th>\n",
       "      <th>role</th>\n",
       "      <th>lang</th>\n",
       "      <th>review_count</th>\n",
       "      <th>humor</th>\n",
       "      <th>humor_label</th>\n",
       "      <th>humor_prediction</th>\n",
       "      <th>correct</th>\n",
       "      <th>correct_int</th>\n",
       "      <th>text_len</th>\n",
       "    </tr>\n",
       "  </thead>\n",
       "  <tbody>\n",
       "    <tr>\n",
       "      <th>3037</th>\n",
       "      <td>8a995764-f552-46d1-85a7-f4b6cf738446</td>\n",
       "      <td>Here are the complete lyrics for Rick Astley's Never Gonna Give You Up:\\n\\nWe're no strangers to love\\nYou know the rules and so do I (do I)\\nA full commitment's what I'm thinking of\\nYou wouldn't get this from any other guy\\n\\nI just wanna tell you how I'm feeling\\nGotta make you understand\\n\\nNever gonna give you up\\nNever gonna let you down\\nNever gonna run around and desert you\\nNever gonna make you cry\\nNever gonna say goodbye\\nNever gonna tell a lie and hurt you\\n\\nWe've known each other for so long\\nYour heart's been aching, but you're too shy to say it (say it)\\nInside, we both know what's been going on (going on)\\nWe know the game and we're gonna play it\\n\\nAnd if you ask me how I'm feeling\\nDon't tell me you're too blind to see\\n\\nNever gonna give you up\\nNever gonna let you down\\nNever gonna run around and desert you\\nNever gonna make you cry\\nNever gonna say goodbye\\nNever gonna tell a lie and hurt you\\n\\nNever gonna give you up\\nNever gonna let you down\\nNever gonna run around and desert you\\nNever gonna make you cry\\nNever gonna say goodbye\\nNever gonna tell a lie and hurt you\\n\\nWe've known each other for so long\\nYour heart's been aching, but you're too shy to say it (to say it)\\nInside, we both know what's been going on (going on)\\nWe know the game and we're gonna play it\\n\\nI just wanna tell you how I'm feeling\\nGotta make you understand\\n\\nNever gonna give you up\\nNever gonna let you down\\nNever gonna run around and desert you\\nNever gonna make you cry\\nNever gonna say goodbye\\nNever gonna tell a lie and hurt you\\n\\nNever gonna give you up\\nNever gonna let you down\\nNever gonna run around and desert you\\nNever gonna make you cry\\nNever gonna say goodbye\\nNever gonna tell a lie and hurt you\\n\\nNever gonna give you up\\nNever gonna let you down\\nNever gonna run around and desert you\\nNever gonna make you cry\\nNever gonna say goodbye\\nNever gonna tell a lie and hurt you</td>\n",
       "      <td>assistant</td>\n",
       "      <td>en</td>\n",
       "      <td>3</td>\n",
       "      <td>0.0</td>\n",
       "      <td>0</td>\n",
       "      <td>1</td>\n",
       "      <td>False</td>\n",
       "      <td>0</td>\n",
       "      <td>1851</td>\n",
       "    </tr>\n",
       "    <tr>\n",
       "      <th>1840</th>\n",
       "      <td>75d648f3-62e1-46ea-9c03-08dd3326a32c</td>\n",
       "      <td>Add some jokes with love.</td>\n",
       "      <td>prompter</td>\n",
       "      <td>en</td>\n",
       "      <td>3</td>\n",
       "      <td>0.0</td>\n",
       "      <td>0</td>\n",
       "      <td>1</td>\n",
       "      <td>False</td>\n",
       "      <td>0</td>\n",
       "      <td>25</td>\n",
       "    </tr>\n",
       "    <tr>\n",
       "      <th>4020</th>\n",
       "      <td>f630d257-4a70-437c-a881-ec1efd756f78</td>\n",
       "      <td>Of course! Here are 5 words that fit the new requirement: \\ntroll \\nwrong \\nspoon\\npoked \\nmecca</td>\n",
       "      <td>assistant</td>\n",
       "      <td>en</td>\n",
       "      <td>3</td>\n",
       "      <td>0.0</td>\n",
       "      <td>0</td>\n",
       "      <td>1</td>\n",
       "      <td>False</td>\n",
       "      <td>0</td>\n",
       "      <td>91</td>\n",
       "    </tr>\n",
       "  </tbody>\n",
       "</table>\n",
       "</div>"
      ],
      "text/plain": [
       "                                message_id                                                                                                                                                                                                                                                                                                                                                                                                                                                                                                                                                                                                                                                                                                                                                                                                                                                                                                                                                                                                                                                                                                                                                                                                                                                                                                                                                                                                                                                                                                                                                                                                                                                                                                                                                                                                                                                                                                                                                                                           text       role lang  review_count  humor  humor_label  humor_prediction  correct  correct_int  text_len\n",
       "3037  8a995764-f552-46d1-85a7-f4b6cf738446  Here are the complete lyrics for Rick Astley's Never Gonna Give You Up:\\n\\nWe're no strangers to love\\nYou know the rules and so do I (do I)\\nA full commitment's what I'm thinking of\\nYou wouldn't get this from any other guy\\n\\nI just wanna tell you how I'm feeling\\nGotta make you understand\\n\\nNever gonna give you up\\nNever gonna let you down\\nNever gonna run around and desert you\\nNever gonna make you cry\\nNever gonna say goodbye\\nNever gonna tell a lie and hurt you\\n\\nWe've known each other for so long\\nYour heart's been aching, but you're too shy to say it (say it)\\nInside, we both know what's been going on (going on)\\nWe know the game and we're gonna play it\\n\\nAnd if you ask me how I'm feeling\\nDon't tell me you're too blind to see\\n\\nNever gonna give you up\\nNever gonna let you down\\nNever gonna run around and desert you\\nNever gonna make you cry\\nNever gonna say goodbye\\nNever gonna tell a lie and hurt you\\n\\nNever gonna give you up\\nNever gonna let you down\\nNever gonna run around and desert you\\nNever gonna make you cry\\nNever gonna say goodbye\\nNever gonna tell a lie and hurt you\\n\\nWe've known each other for so long\\nYour heart's been aching, but you're too shy to say it (to say it)\\nInside, we both know what's been going on (going on)\\nWe know the game and we're gonna play it\\n\\nI just wanna tell you how I'm feeling\\nGotta make you understand\\n\\nNever gonna give you up\\nNever gonna let you down\\nNever gonna run around and desert you\\nNever gonna make you cry\\nNever gonna say goodbye\\nNever gonna tell a lie and hurt you\\n\\nNever gonna give you up\\nNever gonna let you down\\nNever gonna run around and desert you\\nNever gonna make you cry\\nNever gonna say goodbye\\nNever gonna tell a lie and hurt you\\n\\nNever gonna give you up\\nNever gonna let you down\\nNever gonna run around and desert you\\nNever gonna make you cry\\nNever gonna say goodbye\\nNever gonna tell a lie and hurt you  assistant   en             3    0.0            0                 1    False            0      1851\n",
       "1840  75d648f3-62e1-46ea-9c03-08dd3326a32c                                                                                                                                                                                                                                                                                                                                                                                                                                                                                                                                                                                                                                                                                                                                                                                                                                                                                                                                                                                                                                                                                                                                                                                                                                                                                                                                                                                                                                                                                                                                                                                                                                                                                                                                                                                                                                                                                                                                                                      Add some jokes with love.   prompter   en             3    0.0            0                 1    False            0        25\n",
       "4020  f630d257-4a70-437c-a881-ec1efd756f78                                                                                                                                                                                                                                                                                                                                                                                                                                                                                                                                                                                                                                                                                                                                                                                                                                                                                                                                                                                                                                                                                                                                                                                                                                                                                                                                                                                                                                                                                                                                                                                                                                                                                                                                                                                                                                                                                               Of course! Here are 5 words that fit the new requirement: \\ntroll \\nwrong \\nspoon\\npoked \\nmecca  assistant   en             3    0.0            0                 1    False            0        91"
      ]
     },
     "execution_count": 22,
     "metadata": {},
     "output_type": "execute_result"
    }
   ],
   "source": [
    "df_test[(~df_test.correct) & (df_test.lang=='en')].sort_values(by='humor').head(3)"
   ]
  },
  {
   "cell_type": "code",
   "execution_count": 23,
   "id": "f62c3283-a846-462b-9a10-1d4967b2770f",
   "metadata": {},
   "outputs": [
    {
     "data": {
      "text/html": [
       "<div>\n",
       "<style scoped>\n",
       "    .dataframe tbody tr th:only-of-type {\n",
       "        vertical-align: middle;\n",
       "    }\n",
       "\n",
       "    .dataframe tbody tr th {\n",
       "        vertical-align: top;\n",
       "    }\n",
       "\n",
       "    .dataframe thead th {\n",
       "        text-align: right;\n",
       "    }\n",
       "</style>\n",
       "<table border=\"1\" class=\"dataframe\">\n",
       "  <thead>\n",
       "    <tr style=\"text-align: right;\">\n",
       "      <th></th>\n",
       "      <th>message_id</th>\n",
       "      <th>text</th>\n",
       "      <th>role</th>\n",
       "      <th>lang</th>\n",
       "      <th>review_count</th>\n",
       "      <th>humor</th>\n",
       "      <th>humor_label</th>\n",
       "      <th>humor_prediction</th>\n",
       "      <th>correct</th>\n",
       "      <th>correct_int</th>\n",
       "      <th>text_len</th>\n",
       "    </tr>\n",
       "  </thead>\n",
       "  <tbody>\n",
       "    <tr>\n",
       "      <th>1893</th>\n",
       "      <td>45b350e3-578e-47dc-84f7-9709e27f4015</td>\n",
       "      <td>Sure! There goes:\\n\\n```ascii\\n /\\     /\\\\n{  `---'  }\\n{  O   O  }\\n~~&gt;  V  &lt;~~\\n \\  \\|/  /\\n  `-----'__\\n  /     \\  `^\\_\\n {       }\\ |\\_\\_   W\\n |  \\_/  |/ /  \\_\\_( )\\n  \\__/  /(_E     \\__/\\n    (  /\\n     MM\\n```</td>\n",
       "      <td>assistant</td>\n",
       "      <td>en</td>\n",
       "      <td>3</td>\n",
       "      <td>1.0</td>\n",
       "      <td>1</td>\n",
       "      <td>1</td>\n",
       "      <td>True</td>\n",
       "      <td>1</td>\n",
       "      <td>201</td>\n",
       "    </tr>\n",
       "    <tr>\n",
       "      <th>3544</th>\n",
       "      <td>b9a7d15f-f951-4166-ba9f-657027b2b7c7</td>\n",
       "      <td>Sure! Here's a joke for you:\\n\\nWhy did the broke college student cross the road in Silicon Valley?\\n\\nTo get to the start-up on the other side that was offering free ramen for interns!</td>\n",
       "      <td>assistant</td>\n",
       "      <td>en</td>\n",
       "      <td>3</td>\n",
       "      <td>1.0</td>\n",
       "      <td>1</td>\n",
       "      <td>1</td>\n",
       "      <td>True</td>\n",
       "      <td>1</td>\n",
       "      <td>181</td>\n",
       "    </tr>\n",
       "    <tr>\n",
       "      <th>3925</th>\n",
       "      <td>721f5030-0d0d-4075-b5ad-5a222d43d43e</td>\n",
       "      <td>OK, let's make a pizza together.\\nBut, just for fun, I want you to act like Gordon Ramsey and insultingly tell me every next step of the process. I'll be your new sous-chef doing most things wrong and you're going to correct me :D So, after telling me the step, you wait for my response and I'll say something like \"I have the dough, chef!\" and then you'll say something like \"You idiot! Wash your hands before touching any of the food, you filthy hobbit!\".\\n\\nGot that? Let's go! \\nGive me the first step.</td>\n",
       "      <td>prompter</td>\n",
       "      <td>en</td>\n",
       "      <td>3</td>\n",
       "      <td>1.0</td>\n",
       "      <td>1</td>\n",
       "      <td>1</td>\n",
       "      <td>True</td>\n",
       "      <td>1</td>\n",
       "      <td>502</td>\n",
       "    </tr>\n",
       "  </tbody>\n",
       "</table>\n",
       "</div>"
      ],
      "text/plain": [
       "                                message_id                                                                                                                                                                                                                                                                                                                                                                                                                                                                                                                        text       role lang  review_count  humor  humor_label  humor_prediction  correct  correct_int  text_len\n",
       "1893  45b350e3-578e-47dc-84f7-9709e27f4015                                                                                                                                                                                                                                                                                                    Sure! There goes:\\n\\n```ascii\\n /\\     /\\\\n{  `---'  }\\n{  O   O  }\\n~~>  V  <~~\\n \\  \\|/  /\\n  `-----'__\\n  /     \\  `^\\_\\n {       }\\ |\\_\\_   W\\n |  \\_/  |/ /  \\_\\_( )\\n  \\__/  /(_E     \\__/\\n    (  /\\n     MM\\n```  assistant   en             3    1.0            1                 1     True            1       201\n",
       "3544  b9a7d15f-f951-4166-ba9f-657027b2b7c7                                                                                                                                                                                                                                                                                                                                   Sure! Here's a joke for you:\\n\\nWhy did the broke college student cross the road in Silicon Valley?\\n\\nTo get to the start-up on the other side that was offering free ramen for interns!  assistant   en             3    1.0            1                 1     True            1       181\n",
       "3925  721f5030-0d0d-4075-b5ad-5a222d43d43e  OK, let's make a pizza together.\\nBut, just for fun, I want you to act like Gordon Ramsey and insultingly tell me every next step of the process. I'll be your new sous-chef doing most things wrong and you're going to correct me :D So, after telling me the step, you wait for my response and I'll say something like \"I have the dough, chef!\" and then you'll say something like \"You idiot! Wash your hands before touching any of the food, you filthy hobbit!\".\\n\\nGot that? Let's go! \\nGive me the first step.   prompter   en             3    1.0            1                 1     True            1       502"
      ]
     },
     "execution_count": 23,
     "metadata": {},
     "output_type": "execute_result"
    }
   ],
   "source": [
    "df_test[(df_test.correct) & (df_test.lang=='en')].sort_values(by='humor', ascending=False).head(3)"
   ]
  },
  {
   "cell_type": "code",
   "execution_count": 24,
   "id": "aaf7c549-aec6-474f-b055-2748b5a556e3",
   "metadata": {},
   "outputs": [
    {
     "data": {
      "text/html": [
       "<div>\n",
       "<style scoped>\n",
       "    .dataframe tbody tr th:only-of-type {\n",
       "        vertical-align: middle;\n",
       "    }\n",
       "\n",
       "    .dataframe tbody tr th {\n",
       "        vertical-align: top;\n",
       "    }\n",
       "\n",
       "    .dataframe thead th {\n",
       "        text-align: right;\n",
       "    }\n",
       "</style>\n",
       "<table border=\"1\" class=\"dataframe\">\n",
       "  <thead>\n",
       "    <tr style=\"text-align: right;\">\n",
       "      <th></th>\n",
       "      <th>message_id</th>\n",
       "      <th>text</th>\n",
       "      <th>role</th>\n",
       "      <th>lang</th>\n",
       "      <th>review_count</th>\n",
       "      <th>humor</th>\n",
       "      <th>humor_label</th>\n",
       "      <th>humor_prediction</th>\n",
       "      <th>correct</th>\n",
       "      <th>correct_int</th>\n",
       "      <th>text_len</th>\n",
       "    </tr>\n",
       "  </thead>\n",
       "  <tbody>\n",
       "    <tr>\n",
       "      <th>1312</th>\n",
       "      <td>12fe161e-5278-4ec9-a8f8-178ae24322be</td>\n",
       "      <td>What happened culturally in the 1950's?</td>\n",
       "      <td>prompter</td>\n",
       "      <td>en</td>\n",
       "      <td>3</td>\n",
       "      <td>0.0</td>\n",
       "      <td>0</td>\n",
       "      <td>0</td>\n",
       "      <td>True</td>\n",
       "      <td>1</td>\n",
       "      <td>39</td>\n",
       "    </tr>\n",
       "    <tr>\n",
       "      <th>1470</th>\n",
       "      <td>4b7c8942-c25c-43ec-af44-294bb86e0d37</td>\n",
       "      <td>Which deep learning architecture has the best results when applied to human genomics?</td>\n",
       "      <td>prompter</td>\n",
       "      <td>en</td>\n",
       "      <td>3</td>\n",
       "      <td>0.0</td>\n",
       "      <td>0</td>\n",
       "      <td>0</td>\n",
       "      <td>True</td>\n",
       "      <td>1</td>\n",
       "      <td>85</td>\n",
       "    </tr>\n",
       "    <tr>\n",
       "      <th>3104</th>\n",
       "      <td>49be2ed0-73ed-48ad-ba65-db9ed3adbbd5</td>\n",
       "      <td>As a large language model, I don't have any money, or the ability to play Minecraft. You're free to buy an account that already has experience if you want to, but doing so just for experience points is a waste of money if you already have an account. Farming experience in Minecraft doesn't take that long, and can be done afk if your concerned about your physical or mental health. If you still don't want to farm experience, you can always play in creative mode or, in a world with cheats enabled, you can use the following command to give yourself experiance:\\n```\\n/xp add &lt;targets&gt; &lt;amount&gt; [levels¦points]\\n```</td>\n",
       "      <td>assistant</td>\n",
       "      <td>en</td>\n",
       "      <td>3</td>\n",
       "      <td>0.0</td>\n",
       "      <td>0</td>\n",
       "      <td>0</td>\n",
       "      <td>True</td>\n",
       "      <td>1</td>\n",
       "      <td>613</td>\n",
       "    </tr>\n",
       "  </tbody>\n",
       "</table>\n",
       "</div>"
      ],
      "text/plain": [
       "                                message_id                                                                                                                                                                                                                                                                                                                                                                                                                                                                                                                                                                                                                                      text       role lang  review_count  humor  humor_label  humor_prediction  correct  correct_int  text_len\n",
       "1312  12fe161e-5278-4ec9-a8f8-178ae24322be                                                                                                                                                                                                                                                                                                                                                                                                                                                                                                                                                                                                   What happened culturally in the 1950's?   prompter   en             3    0.0            0                 0     True            1        39\n",
       "1470  4b7c8942-c25c-43ec-af44-294bb86e0d37                                                                                                                                                                                                                                                                                                                                                                                                                                                                                                                                                     Which deep learning architecture has the best results when applied to human genomics?   prompter   en             3    0.0            0                 0     True            1        85\n",
       "3104  49be2ed0-73ed-48ad-ba65-db9ed3adbbd5  As a large language model, I don't have any money, or the ability to play Minecraft. You're free to buy an account that already has experience if you want to, but doing so just for experience points is a waste of money if you already have an account. Farming experience in Minecraft doesn't take that long, and can be done afk if your concerned about your physical or mental health. If you still don't want to farm experience, you can always play in creative mode or, in a world with cheats enabled, you can use the following command to give yourself experiance:\\n```\\n/xp add <targets> <amount> [levels¦points]\\n```  assistant   en             3    0.0            0                 0     True            1       613"
      ]
     },
     "execution_count": 24,
     "metadata": {},
     "output_type": "execute_result"
    }
   ],
   "source": [
    "df_test[(df_test.correct) & (df_test.lang=='en')].sort_values(by='humor').head(3)"
   ]
  }
 ],
 "metadata": {
  "kernelspec": {
   "display_name": "Python 3 (ipykernel)",
   "language": "python",
   "name": "python3"
  },
  "language_info": {
   "codemirror_mode": {
    "name": "ipython",
    "version": 3
   },
   "file_extension": ".py",
   "mimetype": "text/x-python",
   "name": "python",
   "nbconvert_exporter": "python",
   "pygments_lexer": "ipython3",
   "version": "3.10.5"
  }
 },
 "nbformat": 4,
 "nbformat_minor": 5
}
