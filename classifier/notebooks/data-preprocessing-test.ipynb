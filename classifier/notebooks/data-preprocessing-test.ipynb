{
 "cells": [
  {
   "cell_type": "markdown",
   "id": "339bcfc9",
   "metadata": {},
   "source": [
    "# Data Preprocessing"
   ]
  },
  {
   "cell_type": "markdown",
   "id": "b88ddfc6",
   "metadata": {},
   "source": [
    "## Imports"
   ]
  },
  {
   "cell_type": "code",
   "execution_count": 1,
   "id": "7f0f9c74",
   "metadata": {},
   "outputs": [],
   "source": [
    "import pandas as pd\n",
    "import numpy as np\n",
    "from datasets import load_dataset\n",
    "\n",
    "# set some pandas options to make the output more readable\n",
    "pd.set_option(\"display.max_rows\", 500)\n",
    "pd.set_option(\"display.max_columns\", 500)\n",
    "pd.set_option(\"display.width\", 1000)"
   ]
  },
  {
   "cell_type": "markdown",
   "id": "bcd789e4",
   "metadata": {},
   "source": [
    "## Load Data"
   ]
  },
  {
   "cell_type": "code",
   "execution_count": 2,
   "id": "6ffd3b2b",
   "metadata": {},
   "outputs": [
    {
     "name": "stderr",
     "output_type": "stream",
     "text": [
      "Found cached dataset parquet (C:/Users/timon/.cache/huggingface/datasets/OpenAssistant___parquet/OpenAssistant--oasst1-2960c57d7e52ab15/0.0.0/2a3b91fbd88a2c90d1dbbb32b460cf621d31bd5b05b934492fdef7d8d6f236ec)\n"
     ]
    },
    {
     "data": {
      "application/vnd.jupyter.widget-view+json": {
       "model_id": "b180f432c3ab4790bfa8bfe32ba871a2",
       "version_major": 2,
       "version_minor": 0
      },
      "text/plain": [
       "  0%|          | 0/2 [00:00<?, ?it/s]"
      ]
     },
     "metadata": {},
     "output_type": "display_data"
    }
   ],
   "source": [
    "ds = load_dataset(\"OpenAssistant/oasst1\")"
   ]
  },
  {
   "cell_type": "code",
   "execution_count": 3,
   "id": "8b089ca7",
   "metadata": {},
   "outputs": [],
   "source": [
    "df = ds[\"validation\"].to_pandas()"
   ]
  },
  {
   "cell_type": "markdown",
   "id": "bd10d46d",
   "metadata": {},
   "source": [
    "## Preprocess Data"
   ]
  },
  {
   "cell_type": "markdown",
   "id": "a7187968",
   "metadata": {},
   "source": [
    "Remove deleted entries"
   ]
  },
  {
   "cell_type": "code",
   "execution_count": 4,
   "id": "d8af4e26",
   "metadata": {},
   "outputs": [],
   "source": [
    "df = df[df.deleted == False]"
   ]
  },
  {
   "cell_type": "markdown",
   "id": "ba91ba7d",
   "metadata": {},
   "source": [
    "Remove entries without labels"
   ]
  },
  {
   "cell_type": "code",
   "execution_count": 5,
   "id": "be22983c",
   "metadata": {},
   "outputs": [],
   "source": [
    "df = df[~df.labels.isnull()]"
   ]
  },
  {
   "cell_type": "markdown",
   "id": "6ac81428",
   "metadata": {},
   "source": [
    "Extract the humor label"
   ]
  },
  {
   "cell_type": "code",
   "execution_count": 6,
   "id": "b1cce4b5",
   "metadata": {},
   "outputs": [],
   "source": [
    "def get_humor_value(x):\n",
    "    index_of_humor = np.where(x['name'] == 'humor')[0]\n",
    "    if len(index_of_humor) > 0:\n",
    "        return x['value'][index_of_humor[0]]\n",
    "    \n",
    "    return 0\n",
    "\n",
    "df['humor'] = df['labels'].apply(get_humor_value)"
   ]
  },
  {
   "cell_type": "markdown",
   "id": "b3642fcc",
   "metadata": {},
   "source": [
    "Drop unncessary columns"
   ]
  },
  {
   "cell_type": "code",
   "execution_count": 7,
   "id": "cbf77e62",
   "metadata": {},
   "outputs": [],
   "source": [
    "df = df.drop(columns=[\n",
    "    'parent_id',\n",
    "    'user_id',\n",
    "    'created_date',\n",
    "    'rank',\n",
    "    'synthetic',\n",
    "    'model_name',\n",
    "    'tree_state',\n",
    "    'deleted',\n",
    "    'detoxify',\n",
    "    'message_tree_id',\n",
    "    'review_result',\n",
    "    'emojis',\n",
    "    'labels'\n",
    "]).reset_index(drop=True)"
   ]
  },
  {
   "cell_type": "markdown",
   "id": "b9d877b8",
   "metadata": {},
   "source": [
    "## Preview Data"
   ]
  },
  {
   "cell_type": "code",
   "execution_count": 8,
   "id": "8adc8e00",
   "metadata": {},
   "outputs": [
    {
     "data": {
      "text/html": [
       "<div>\n",
       "<style scoped>\n",
       "    .dataframe tbody tr th:only-of-type {\n",
       "        vertical-align: middle;\n",
       "    }\n",
       "\n",
       "    .dataframe tbody tr th {\n",
       "        vertical-align: top;\n",
       "    }\n",
       "\n",
       "    .dataframe thead th {\n",
       "        text-align: right;\n",
       "    }\n",
       "</style>\n",
       "<table border=\"1\" class=\"dataframe\">\n",
       "  <thead>\n",
       "    <tr style=\"text-align: right;\">\n",
       "      <th></th>\n",
       "      <th>message_id</th>\n",
       "      <th>text</th>\n",
       "      <th>role</th>\n",
       "      <th>lang</th>\n",
       "      <th>review_count</th>\n",
       "      <th>humor</th>\n",
       "    </tr>\n",
       "  </thead>\n",
       "  <tbody>\n",
       "    <tr>\n",
       "      <th>0</th>\n",
       "      <td>68489e5c-978f-4ad7-a849-39a741fb5ae7</td>\n",
       "      <td>Напиши функцию на языке swift, которая сортиру...</td>\n",
       "      <td>prompter</td>\n",
       "      <td>ru</td>\n",
       "      <td>3</td>\n",
       "      <td>0.00</td>\n",
       "    </tr>\n",
       "    <tr>\n",
       "      <th>1</th>\n",
       "      <td>a38b3d1c-256f-47c5-ab68-c9ab766bad84</td>\n",
       "      <td>Вот функция, которая сортирует массив целых чи...</td>\n",
       "      <td>assistant</td>\n",
       "      <td>ru</td>\n",
       "      <td>3</td>\n",
       "      <td>0.00</td>\n",
       "    </tr>\n",
       "    <tr>\n",
       "      <th>2</th>\n",
       "      <td>9cf52b01-0582-46aa-9ad2-70827dce87ed</td>\n",
       "      <td>Вот функция на языке Swift, которая сортирует ...</td>\n",
       "      <td>assistant</td>\n",
       "      <td>ru</td>\n",
       "      <td>3</td>\n",
       "      <td>0.00</td>\n",
       "    </tr>\n",
       "    <tr>\n",
       "      <th>3</th>\n",
       "      <td>9685d79e-16d7-4f1b-b68f-a1ff73e87bef</td>\n",
       "      <td>func sortAndPrintArray(array: [Int]) {\\n    le...</td>\n",
       "      <td>assistant</td>\n",
       "      <td>ru</td>\n",
       "      <td>3</td>\n",
       "      <td>0.00</td>\n",
       "    </tr>\n",
       "    <tr>\n",
       "      <th>4</th>\n",
       "      <td>afee0474-c84a-4ae2-a9c9-8d575256312e</td>\n",
       "      <td>Inventa un monstruo altamente complejo, descrí...</td>\n",
       "      <td>prompter</td>\n",
       "      <td>es</td>\n",
       "      <td>3</td>\n",
       "      <td>0.25</td>\n",
       "    </tr>\n",
       "  </tbody>\n",
       "</table>\n",
       "</div>"
      ],
      "text/plain": [
       "                             message_id                                               text       role lang  review_count  humor\n",
       "0  68489e5c-978f-4ad7-a849-39a741fb5ae7  Напиши функцию на языке swift, которая сортиру...   prompter   ru             3   0.00\n",
       "1  a38b3d1c-256f-47c5-ab68-c9ab766bad84  Вот функция, которая сортирует массив целых чи...  assistant   ru             3   0.00\n",
       "2  9cf52b01-0582-46aa-9ad2-70827dce87ed  Вот функция на языке Swift, которая сортирует ...  assistant   ru             3   0.00\n",
       "3  9685d79e-16d7-4f1b-b68f-a1ff73e87bef  func sortAndPrintArray(array: [Int]) {\\n    le...  assistant   ru             3   0.00\n",
       "4  afee0474-c84a-4ae2-a9c9-8d575256312e  Inventa un monstruo altamente complejo, descrí...   prompter   es             3   0.25"
      ]
     },
     "execution_count": 8,
     "metadata": {},
     "output_type": "execute_result"
    }
   ],
   "source": [
    "df.head()"
   ]
  },
  {
   "cell_type": "code",
   "execution_count": 9,
   "id": "7ea10bc5",
   "metadata": {},
   "outputs": [
    {
     "data": {
      "text/plain": [
       "(4333, 6)"
      ]
     },
     "execution_count": 9,
     "metadata": {},
     "output_type": "execute_result"
    }
   ],
   "source": [
    "df.shape"
   ]
  },
  {
   "cell_type": "markdown",
   "id": "4aedaa73",
   "metadata": {},
   "source": [
    "## Export"
   ]
  },
  {
   "cell_type": "code",
   "execution_count": 10,
   "id": "12547da7",
   "metadata": {},
   "outputs": [],
   "source": [
    "df.to_csv('../data/oasst1_test_cleaned.csv', index=False)"
   ]
  },
  {
   "cell_type": "code",
   "execution_count": 11,
   "id": "1c2a9713",
   "metadata": {},
   "outputs": [],
   "source": [
    "df[df.lang == 'en'].to_csv('../data/oasst1_test_en_cleaned.csv', index=False)"
   ]
  }
 ],
 "metadata": {
  "kernelspec": {
   "display_name": "nlp",
   "language": "python",
   "name": "nlp"
  },
  "language_info": {
   "codemirror_mode": {
    "name": "ipython",
    "version": 3
   },
   "file_extension": ".py",
   "mimetype": "text/x-python",
   "name": "python",
   "nbconvert_exporter": "python",
   "pygments_lexer": "ipython3",
   "version": "3.10.9"
  }
 },
 "nbformat": 4,
 "nbformat_minor": 5
}
