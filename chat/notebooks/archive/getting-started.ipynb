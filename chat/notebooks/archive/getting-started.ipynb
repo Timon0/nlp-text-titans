{
 "cells": [
  {
   "cell_type": "markdown",
   "id": "55a1b94a",
   "metadata": {},
   "source": [
    "# Getting started with OpenAssistant OASST1 data\n",
    "\n",
    "- https://huggingface.co/datasets/OpenAssistant/oasst1\n",
    "\n",
    "This Notebook is based on https://github.com/LAION-AI/Open-Assistant/blob/main/notebooks/openassistant-oasst1/getting-started.ipynb"
   ]
  },
  {
   "cell_type": "markdown",
   "id": "3bf3165a",
   "metadata": {},
   "source": [
    "## Imports"
   ]
  },
  {
   "cell_type": "code",
   "execution_count": 1,
   "id": "0bbfbd68",
   "metadata": {},
   "outputs": [],
   "source": [
    "import pandas as pd\n",
    "from datasets import load_dataset\n",
    "from treelib import Tree\n",
    "\n",
    "# set some pandas options to make the output more readable\n",
    "pd.set_option(\"display.max_rows\", 500)\n",
    "pd.set_option(\"display.max_columns\", 500)\n",
    "pd.set_option(\"display.width\", 1000)\n",
    "\n",
    "\n",
    "def add_tree_level(df):\n",
    "    \"\"\"helper function to add tree level to a df\"\"\"\n",
    "\n",
    "    # if tree level already exists, return df\n",
    "    if \"tree_level\" in df.columns:\n",
    "        return df\n",
    "\n",
    "    else:\n",
    "        tree_level_map = {}\n",
    "\n",
    "        # iterate over rows in df\n",
    "        for i, row in df.iterrows():\n",
    "            message_id = row[\"message_id\"]\n",
    "            parent_id = row[\"parent_id\"]\n",
    "\n",
    "            # if parent_id is None, then it is a root message\n",
    "            if parent_id is None:\n",
    "                tree_level_map[message_id] = 0\n",
    "            # if parent_id is the same as message_tree_id, then it is a direct reply to the root message\n",
    "            elif parent_id == row[\"message_tree_id\"]:\n",
    "                tree_level_map[message_id] = 1\n",
    "            # else just look up the tree level of the parent_id and add 1\n",
    "            else:\n",
    "                tree_level_map[message_id] = tree_level_map[parent_id] + 1\n",
    "\n",
    "        # create a df from the tree_level_map and merge it with the original df\n",
    "        df_tree_level_map = (\n",
    "            pd.DataFrame.from_dict(tree_level_map, orient=\"index\", columns=[\"tree_level\"])\n",
    "            .reset_index()\n",
    "            .rename(columns={\"index\": \"message_id\"})\n",
    "        )\n",
    "\n",
    "        return df.merge(df_tree_level_map, on=\"message_id\")"
   ]
  },
  {
   "cell_type": "markdown",
   "id": "aa42a649",
   "metadata": {},
   "source": [
    "## Load Data"
   ]
  },
  {
   "cell_type": "code",
   "execution_count": 2,
   "id": "6f6a0890",
   "metadata": {},
   "outputs": [
    {
     "name": "stderr",
     "output_type": "stream",
     "text": [
      "Found cached dataset parquet (C:/Users/timon/.cache/huggingface/datasets/OpenAssistant___parquet/OpenAssistant--oasst1-2960c57d7e52ab15/0.0.0/2a3b91fbd88a2c90d1dbbb32b460cf621d31bd5b05b934492fdef7d8d6f236ec)\n"
     ]
    },
    {
     "data": {
      "application/vnd.jupyter.widget-view+json": {
       "model_id": "1440257a5a7e4fea9d3a8a80589aca6c",
       "version_major": 2,
       "version_minor": 0
      },
      "text/plain": [
       "  0%|          | 0/2 [00:00<?, ?it/s]"
      ]
     },
     "metadata": {},
     "output_type": "display_data"
    },
    {
     "name": "stdout",
     "output_type": "stream",
     "text": [
      "DatasetDict({\n",
      "    validation: Dataset({\n",
      "        features: ['message_id', 'parent_id', 'user_id', 'created_date', 'text', 'role', 'lang', 'review_count', 'review_result', 'deleted', 'rank', 'synthetic', 'model_name', 'detoxify', 'message_tree_id', 'tree_state', 'emojis', 'labels'],\n",
      "        num_rows: 4401\n",
      "    })\n",
      "    train: Dataset({\n",
      "        features: ['message_id', 'parent_id', 'user_id', 'created_date', 'text', 'role', 'lang', 'review_count', 'review_result', 'deleted', 'rank', 'synthetic', 'model_name', 'detoxify', 'message_tree_id', 'tree_state', 'emojis', 'labels'],\n",
      "        num_rows: 84437\n",
      "    })\n",
      "})\n"
     ]
    }
   ],
   "source": [
    "# load dataset from huggingface datasets\n",
    "ds = load_dataset(\"OpenAssistant/oasst1\")\n",
    "print(ds)"
   ]
  },
  {
   "cell_type": "markdown",
   "id": "e6db6345",
   "metadata": {},
   "source": [
    "## Create Pandas Dataframe"
   ]
  },
  {
   "cell_type": "code",
   "execution_count": 3,
   "id": "d9243dfb",
   "metadata": {},
   "outputs": [],
   "source": [
    "# lets convert the train dataset to a pandas df\n",
    "df = ds[\"train\"].to_pandas()"
   ]
  },
  {
   "cell_type": "code",
   "execution_count": 4,
   "id": "c8a8af50",
   "metadata": {},
   "outputs": [
    {
     "name": "stdout",
     "output_type": "stream",
     "text": [
      "<class 'pandas.core.frame.DataFrame'>\n",
      "RangeIndex: 84437 entries, 0 to 84436\n",
      "Data columns (total 18 columns):\n",
      " #   Column           Non-Null Count  Dtype  \n",
      "---  ------           --------------  -----  \n",
      " 0   message_id       84437 non-null  object \n",
      " 1   parent_id        74591 non-null  object \n",
      " 2   user_id          84437 non-null  object \n",
      " 3   created_date     84437 non-null  object \n",
      " 4   text             84437 non-null  object \n",
      " 5   role             84437 non-null  object \n",
      " 6   lang             84437 non-null  object \n",
      " 7   review_count     84437 non-null  int32  \n",
      " 8   review_result    83732 non-null  object \n",
      " 9   deleted          84437 non-null  bool   \n",
      " 10  rank             48730 non-null  float64\n",
      " 11  synthetic        84437 non-null  bool   \n",
      " 12  model_name       0 non-null      object \n",
      " 13  detoxify         72297 non-null  object \n",
      " 14  message_tree_id  84437 non-null  object \n",
      " 15  tree_state       84437 non-null  object \n",
      " 16  emojis           71496 non-null  object \n",
      " 17  labels           84199 non-null  object \n",
      "dtypes: bool(2), float64(1), int32(1), object(14)\n",
      "memory usage: 10.1+ MB\n"
     ]
    }
   ],
   "source": [
    "# look at the df info\n",
    "df.info(verbose=True, memory_usage=True, show_counts=True)"
   ]
  },
  {
   "cell_type": "code",
   "execution_count": 5,
   "id": "e93b3ca3",
   "metadata": {},
   "outputs": [
    {
     "data": {
      "text/plain": [
       "{5204: {'message_id': 'e0635603-09b2-4247-accb-104c1a9bcb4f',\n",
       "  'parent_id': None,\n",
       "  'user_id': '951513be-56c0-4630-88a2-9eeb3fb9e33b',\n",
       "  'created_date': '2023-02-09T10:19:58.065721+00:00',\n",
       "  'text': 'How do I get more yield from chili pepper plant?',\n",
       "  'role': 'prompter',\n",
       "  'lang': 'en',\n",
       "  'review_count': 3,\n",
       "  'review_result': True,\n",
       "  'deleted': False,\n",
       "  'rank': nan,\n",
       "  'synthetic': False,\n",
       "  'model_name': None,\n",
       "  'detoxify': {'toxicity': 0.0004722727171611041,\n",
       "   'severe_toxicity': 2.8104701414122246e-05,\n",
       "   'obscene': 0.00013236129598226398,\n",
       "   'identity_attack': 0.00012626768148038536,\n",
       "   'insult': 0.00017111326451413333,\n",
       "   'threat': 5.790913928649388e-05,\n",
       "   'sexual_explicit': 2.3751312255626544e-05},\n",
       "  'message_tree_id': 'e0635603-09b2-4247-accb-104c1a9bcb4f',\n",
       "  'tree_state': 'ready_for_export',\n",
       "  'emojis': {'name': array(['+1', '_skip_reply', '_skip_ranking'], dtype=object),\n",
       "   'count': array([10,  6,  1])},\n",
       "  'labels': {'name': array(['spam', 'lang_mismatch', 'pii', 'not_appropriate', 'hate_speech',\n",
       "          'sexual_content', 'quality', 'toxicity', 'humor', 'creativity',\n",
       "          'violence'], dtype=object),\n",
       "   'value': array([0.        , 0.        , 0.        , 0.        , 0.        ,\n",
       "          0.        , 0.66666667, 0.        , 0.        , 0.33333333,\n",
       "          0.        ]),\n",
       "   'count': array([3, 3, 3, 3, 3, 3, 3, 3, 3, 3, 3])}}}"
      ]
     },
     "execution_count": 5,
     "metadata": {},
     "output_type": "execute_result"
    }
   ],
   "source": [
    "# look at a sample row in a json format we can easily read\n",
    "df.sample(1).transpose().to_dict()"
   ]
  },
  {
   "cell_type": "markdown",
   "id": "f73e65a7",
   "metadata": {},
   "source": [
    "## Random Message Tree"
   ]
  },
  {
   "cell_type": "code",
   "execution_count": 6,
   "id": "1c843285",
   "metadata": {},
   "outputs": [
    {
     "name": "stdout",
     "output_type": "stream",
     "text": [
      "4aa560ff-6c26-484d-b2e5-9dd5d7fd376a\n"
     ]
    }
   ],
   "source": [
    "# lets grab a random message tree\n",
    "message_tree_id = df[\"message_tree_id\"].sample(1).values[0]\n",
    "print(message_tree_id)"
   ]
  },
  {
   "cell_type": "code",
   "execution_count": 7,
   "id": "c8862109",
   "metadata": {},
   "outputs": [
    {
     "data": {
      "text/html": [
       "<div>\n",
       "<style scoped>\n",
       "    .dataframe tbody tr th:only-of-type {\n",
       "        vertical-align: middle;\n",
       "    }\n",
       "\n",
       "    .dataframe tbody tr th {\n",
       "        vertical-align: top;\n",
       "    }\n",
       "\n",
       "    .dataframe thead th {\n",
       "        text-align: right;\n",
       "    }\n",
       "</style>\n",
       "<table border=\"1\" class=\"dataframe\">\n",
       "  <thead>\n",
       "    <tr style=\"text-align: right;\">\n",
       "      <th></th>\n",
       "      <th>message_id</th>\n",
       "      <th>parent_id</th>\n",
       "      <th>user_id</th>\n",
       "      <th>created_date</th>\n",
       "      <th>text</th>\n",
       "      <th>role</th>\n",
       "      <th>lang</th>\n",
       "      <th>review_count</th>\n",
       "      <th>review_result</th>\n",
       "      <th>deleted</th>\n",
       "      <th>rank</th>\n",
       "      <th>synthetic</th>\n",
       "      <th>model_name</th>\n",
       "      <th>detoxify</th>\n",
       "      <th>message_tree_id</th>\n",
       "      <th>tree_state</th>\n",
       "      <th>emojis</th>\n",
       "      <th>labels</th>\n",
       "      <th>tree_level</th>\n",
       "    </tr>\n",
       "  </thead>\n",
       "  <tbody>\n",
       "    <tr>\n",
       "      <th>0</th>\n",
       "      <td>4aa560ff-6c26-484d-b2e5-9dd5d7fd376a</td>\n",
       "      <td>None</td>\n",
       "      <td>3521d9bd-b5ec-45c8-94f3-2714e12255d0</td>\n",
       "      <td>2023-02-06T23:43:08.281289+00:00</td>\n",
       "      <td>Опиши алгоритм расчёта ядерной регрессии Надар...</td>\n",
       "      <td>prompter</td>\n",
       "      <td>ru</td>\n",
       "      <td>3</td>\n",
       "      <td>True</td>\n",
       "      <td>False</td>\n",
       "      <td>NaN</td>\n",
       "      <td>False</td>\n",
       "      <td>None</td>\n",
       "      <td>{'toxicity': 0.008922765962779522, 'severe_tox...</td>\n",
       "      <td>4aa560ff-6c26-484d-b2e5-9dd5d7fd376a</td>\n",
       "      <td>ready_for_export</td>\n",
       "      <td>{'name': ['+1', '_skip_reply', '_skip_ranking'...</td>\n",
       "      <td>{'name': ['spam', 'lang_mismatch', 'pii', 'not...</td>\n",
       "      <td>0</td>\n",
       "    </tr>\n",
       "    <tr>\n",
       "      <th>1</th>\n",
       "      <td>397d5d07-447f-4d83-bd63-028444e91919</td>\n",
       "      <td>4aa560ff-6c26-484d-b2e5-9dd5d7fd376a</td>\n",
       "      <td>97894afc-2204-4c7b-9b91-f1c71c10f032</td>\n",
       "      <td>2023-02-11T00:28:19.535048+00:00</td>\n",
       "      <td>Алгоритм ядерной регрессии Надарая-Уотсона - э...</td>\n",
       "      <td>assistant</td>\n",
       "      <td>ru</td>\n",
       "      <td>3</td>\n",
       "      <td>True</td>\n",
       "      <td>False</td>\n",
       "      <td>0.0</td>\n",
       "      <td>False</td>\n",
       "      <td>None</td>\n",
       "      <td>{'toxicity': 0.0006523863994516432, 'severe_to...</td>\n",
       "      <td>4aa560ff-6c26-484d-b2e5-9dd5d7fd376a</td>\n",
       "      <td>ready_for_export</td>\n",
       "      <td>{'name': ['+1', '_skip_labeling'], 'count': [1...</td>\n",
       "      <td>{'name': ['spam', 'fails_task', 'lang_mismatch...</td>\n",
       "      <td>1</td>\n",
       "    </tr>\n",
       "    <tr>\n",
       "      <th>2</th>\n",
       "      <td>7bd2cbb7-fdad-45c0-88d3-70bf2fe68a29</td>\n",
       "      <td>4aa560ff-6c26-484d-b2e5-9dd5d7fd376a</td>\n",
       "      <td>d8f26101-f9a7-4bd6-bcc7-0667463c7787</td>\n",
       "      <td>2023-02-12T09:29:39.849548+00:00</td>\n",
       "      <td>Ядерная регрессия (калька с англ. “kernel regr...</td>\n",
       "      <td>assistant</td>\n",
       "      <td>ru</td>\n",
       "      <td>3</td>\n",
       "      <td>True</td>\n",
       "      <td>False</td>\n",
       "      <td>2.0</td>\n",
       "      <td>False</td>\n",
       "      <td>None</td>\n",
       "      <td>{'toxicity': 0.0963350236415863, 'severe_toxic...</td>\n",
       "      <td>4aa560ff-6c26-484d-b2e5-9dd5d7fd376a</td>\n",
       "      <td>ready_for_export</td>\n",
       "      <td>{'name': ['+1', '_skip_labeling'], 'count': [1...</td>\n",
       "      <td>{'name': ['spam', 'fails_task', 'lang_mismatch...</td>\n",
       "      <td>1</td>\n",
       "    </tr>\n",
       "    <tr>\n",
       "      <th>3</th>\n",
       "      <td>7468092d-61a4-4087-b7ee-40c868d8c9e0</td>\n",
       "      <td>4aa560ff-6c26-484d-b2e5-9dd5d7fd376a</td>\n",
       "      <td>54156dd1-73ca-46dc-9207-75124a981566</td>\n",
       "      <td>2023-03-05T12:23:22.257298+00:00</td>\n",
       "      <td>Алгоритм расчета ядерной регрессии Надарая-Уот...</td>\n",
       "      <td>assistant</td>\n",
       "      <td>ru</td>\n",
       "      <td>3</td>\n",
       "      <td>True</td>\n",
       "      <td>False</td>\n",
       "      <td>1.0</td>\n",
       "      <td>False</td>\n",
       "      <td>None</td>\n",
       "      <td>{'toxicity': 0.000361143407644704, 'severe_tox...</td>\n",
       "      <td>4aa560ff-6c26-484d-b2e5-9dd5d7fd376a</td>\n",
       "      <td>ready_for_export</td>\n",
       "      <td>{'name': ['_skip_labeling'], 'count': [2]}</td>\n",
       "      <td>{'name': ['spam', 'fails_task', 'lang_mismatch...</td>\n",
       "      <td>1</td>\n",
       "    </tr>\n",
       "  </tbody>\n",
       "</table>\n",
       "</div>"
      ],
      "text/plain": [
       "                             message_id                             parent_id                               user_id                      created_date                                               text       role lang  review_count review_result  deleted  rank  synthetic model_name                                           detoxify                       message_tree_id        tree_state                                             emojis                                             labels  tree_level\n",
       "0  4aa560ff-6c26-484d-b2e5-9dd5d7fd376a                                  None  3521d9bd-b5ec-45c8-94f3-2714e12255d0  2023-02-06T23:43:08.281289+00:00  Опиши алгоритм расчёта ядерной регрессии Надар...   prompter   ru             3          True    False   NaN      False       None  {'toxicity': 0.008922765962779522, 'severe_tox...  4aa560ff-6c26-484d-b2e5-9dd5d7fd376a  ready_for_export  {'name': ['+1', '_skip_reply', '_skip_ranking'...  {'name': ['spam', 'lang_mismatch', 'pii', 'not...           0\n",
       "1  397d5d07-447f-4d83-bd63-028444e91919  4aa560ff-6c26-484d-b2e5-9dd5d7fd376a  97894afc-2204-4c7b-9b91-f1c71c10f032  2023-02-11T00:28:19.535048+00:00  Алгоритм ядерной регрессии Надарая-Уотсона - э...  assistant   ru             3          True    False   0.0      False       None  {'toxicity': 0.0006523863994516432, 'severe_to...  4aa560ff-6c26-484d-b2e5-9dd5d7fd376a  ready_for_export  {'name': ['+1', '_skip_labeling'], 'count': [1...  {'name': ['spam', 'fails_task', 'lang_mismatch...           1\n",
       "2  7bd2cbb7-fdad-45c0-88d3-70bf2fe68a29  4aa560ff-6c26-484d-b2e5-9dd5d7fd376a  d8f26101-f9a7-4bd6-bcc7-0667463c7787  2023-02-12T09:29:39.849548+00:00  Ядерная регрессия (калька с англ. “kernel regr...  assistant   ru             3          True    False   2.0      False       None  {'toxicity': 0.0963350236415863, 'severe_toxic...  4aa560ff-6c26-484d-b2e5-9dd5d7fd376a  ready_for_export  {'name': ['+1', '_skip_labeling'], 'count': [1...  {'name': ['spam', 'fails_task', 'lang_mismatch...           1\n",
       "3  7468092d-61a4-4087-b7ee-40c868d8c9e0  4aa560ff-6c26-484d-b2e5-9dd5d7fd376a  54156dd1-73ca-46dc-9207-75124a981566  2023-03-05T12:23:22.257298+00:00  Алгоритм расчета ядерной регрессии Надарая-Уот...  assistant   ru             3          True    False   1.0      False       None  {'toxicity': 0.000361143407644704, 'severe_tox...  4aa560ff-6c26-484d-b2e5-9dd5d7fd376a  ready_for_export         {'name': ['_skip_labeling'], 'count': [2]}  {'name': ['spam', 'fails_task', 'lang_mismatch...           1"
      ]
     },
     "execution_count": 7,
     "metadata": {},
     "output_type": "execute_result"
    }
   ],
   "source": [
    "# look at all data for this message tree\n",
    "df_message_tree = df.query(f\"message_tree_id == '{message_tree_id}'\").sort_values(\"created_date\")\n",
    "\n",
    "# add tree level to df\n",
    "df_message_tree = add_tree_level(df_message_tree)\n",
    "\n",
    "df_message_tree"
   ]
  },
  {
   "cell_type": "markdown",
   "id": "34cb258a",
   "metadata": {},
   "source": [
    "## Create Message Tree"
   ]
  },
  {
   "cell_type": "code",
   "execution_count": 8,
   "id": "31b1a495",
   "metadata": {},
   "outputs": [
    {
     "name": "stdout",
     "output_type": "stream",
     "text": [
      "id_tree:\n",
      "4aa560ff-6c26-484d-b2e5-9dd5d7fd376a\n",
      "├── 397d5d07-447f-4d83-bd63-028444e91919\n",
      "├── 7468092d-61a4-4087-b7ee-40c868d8c9e0\n",
      "└── 7bd2cbb7-fdad-45c0-88d3-70bf2fe68a29\n",
      "\n",
      "text_tree:\n",
      "Опиши алгоритм расчёта ядерной регрессии Надарая — Уотсона\n",
      "├── Алгоритм расчета ядерной регрессии Надарая-Уотсона включает в себя следующие шаги:  Загрузка данных:\n",
      "├── Алгоритм ядерной регрессии Надарая-Уотсона - это непараметрический метод оценки функции регрессии пу\n",
      "└── Ядерная регрессия (калька с англ. “kernel regression”) — непараметрический статистический метод, поз\n",
      "\n"
     ]
    }
   ],
   "source": [
    "# lets create a tree of message ids\n",
    "id_tree = Tree()\n",
    "# lets create a tree of message texts\n",
    "text_tree = Tree()\n",
    "# lets set a max char length for the text\n",
    "max_char_len = 100\n",
    "\n",
    "# iterate over rows in df_message_tree\n",
    "for i, row in df_message_tree.iterrows():\n",
    "    # grab the message_id, parent_id, text, and parent text\n",
    "    message_id = row[\"message_id\"]\n",
    "    parent_id = row[\"parent_id\"]\n",
    "    text = row[\"text\"]\n",
    "    text_short = text[:max_char_len] if len(text) > max_char_len else text\n",
    "    text_short = text_short.replace(\"\\n\", \" \")\n",
    "    parent_text = (\n",
    "        df_message_tree.query(f\"message_id == '{parent_id}'\")[\"text\"].values[0] if parent_id is not None else \"ROOT\"\n",
    "    )\n",
    "    parent_text_short = parent_text[:max_char_len] if len(parent_text) > max_char_len else parent_text\n",
    "    parent_text_short = parent_text_short.replace(\"\\n\", \" \")\n",
    "\n",
    "    # create a node in the id_tree and text_tree, add row as data in case want it later\n",
    "    id_tree.create_node(message_id, message_id, parent=parent_id, data=row.to_dict())\n",
    "\n",
    "    # if parent_id is None, then it is a root message so dont add parent text as is none\n",
    "    if parent_id is None:\n",
    "        text_tree.create_node(text_short, text_short)\n",
    "    # else use the parent text short as the parent\n",
    "    else:\n",
    "        text_tree.create_node(text_short, text_short, parent=parent_text_short)\n",
    "\n",
    "\n",
    "print(\"id_tree:\")\n",
    "id_tree.show()\n",
    "\n",
    "print(\"text_tree:\")\n",
    "text_tree.show()"
   ]
  },
  {
   "cell_type": "code",
   "execution_count": 16,
   "id": "fe7f0036",
   "metadata": {},
   "outputs": [
    {
     "name": "stdout",
     "output_type": "stream",
     "text": [
      "False    84437\n",
      "Name: synthetic, dtype: int64\n",
      "\n",
      "Series([], Name: model_name, dtype: int64)\n",
      "\n",
      "ready_for_export    84437\n",
      "Name: tree_state, dtype: int64\n",
      "\n",
      "False    82952\n",
      "True      1485\n",
      "Name: deleted, dtype: int64\n",
      "\n",
      "0.0     17972\n",
      "1.0     17971\n",
      "2.0     11463\n",
      "3.0       963\n",
      "4.0       234\n",
      "5.0        72\n",
      "6.0        27\n",
      "7.0        13\n",
      "8.0         6\n",
      "9.0         3\n",
      "10.0        1\n",
      "11.0        1\n",
      "12.0        1\n",
      "13.0        1\n",
      "14.0        1\n",
      "15.0        1\n",
      "Name: rank, dtype: int64\n",
      "\n",
      "en       39283\n",
      "es       22763\n",
      "ru        7242\n",
      "zh        3314\n",
      "de        3050\n",
      "fr        2474\n",
      "th        1460\n",
      "pt-BR     1165\n",
      "ca        1158\n",
      "uk-UA      587\n",
      "it         554\n",
      "ja         363\n",
      "pl         304\n",
      "eu         250\n",
      "vi         191\n",
      "hu          75\n",
      "ar          56\n",
      "da          44\n",
      "tr          37\n",
      "ko          24\n",
      "fi          18\n",
      "id          12\n",
      "cs          12\n",
      "sv           1\n",
      "Name: lang, dtype: int64\n",
      "\n"
     ]
    }
   ],
   "source": [
    "print(df['synthetic'].value_counts(), end='\\n\\n')\n",
    "print(df['model_name'].value_counts(), end='\\n\\n')\n",
    "print(df['tree_state'].value_counts(), end='\\n\\n')\n",
    "print(df['deleted'].value_counts(), end='\\n\\n')\n",
    "print(df['rank'].value_counts(), end='\\n\\n')\n",
    "print(df['lang'].value_counts(), end='\\n\\n')"
   ]
  }
 ],
 "metadata": {
  "kernelspec": {
   "display_name": "nlp-data",
   "language": "python",
   "name": "nlp-data"
  },
  "language_info": {
   "codemirror_mode": {
    "name": "ipython",
    "version": 3
   },
   "file_extension": ".py",
   "mimetype": "text/x-python",
   "name": "python",
   "nbconvert_exporter": "python",
   "pygments_lexer": "ipython3",
   "version": "3.11.3"
  }
 },
 "nbformat": 4,
 "nbformat_minor": 5
}