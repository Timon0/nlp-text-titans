{
 "cells": [
  {
   "cell_type": "code",
   "execution_count": 1,
   "id": "c90f8d6e-eb0f-4247-a93c-a7d3b932ed7f",
   "metadata": {},
   "outputs": [],
   "source": [
    "!pip install datasets --quiet\n",
    "!pip install transformers --quiet\n",
    "!pip install torch --quiet"
   ]
  },
  {
   "cell_type": "code",
   "execution_count": 1,
   "id": "ab18efa6-ff68-47c9-bf9b-5abcf8c6a5ab",
   "metadata": {},
   "outputs": [
    {
     "name": "stderr",
     "output_type": "stream",
     "text": [
      "/opt/conda/lib/python3.10/site-packages/tqdm/auto.py:22: TqdmWarning: IProgress not found. Please update jupyter and ipywidgets. See https://ipywidgets.readthedocs.io/en/stable/user_install.html\n",
      "  from .autonotebook import tqdm as notebook_tqdm\n"
     ]
    }
   ],
   "source": [
    "from datasets import load_dataset\n",
    "\n",
    "from transformers import AutoTokenizer\n",
    "from transformers import AutoModelForSeq2SeqLM\n",
    "\n",
    "import torch\n",
    "from torch.utils.data import DataLoader\n",
    "from torch.optim import AdamW\n",
    "\n",
    "torch.set_printoptions(linewidth=1000000)"
   ]
  },
  {
   "cell_type": "code",
   "execution_count": 2,
   "id": "ea736b19-cd7a-426a-9516-2926ab7449cf",
   "metadata": {},
   "outputs": [
    {
     "name": "stderr",
     "output_type": "stream",
     "text": [
      "Found cached dataset csv (/home/jovyan/.cache/huggingface/datasets/csv/default-768f459642bab55c/0.0.0/6954658bab30a358235fa864b05cf819af0e179325c740e4bc853bcc7ec513e1)\n",
      "100%|██████████| 1/1 [00:00<00:00, 458.19it/s]\n"
     ]
    }
   ],
   "source": [
    "dataset = load_dataset('csv', data_files={'train': 'data/cleaned_with_context.csv'})"
   ]
  },
  {
   "cell_type": "code",
   "execution_count": 3,
   "id": "0d638190-0818-46cd-b27b-19d9ff034243",
   "metadata": {},
   "outputs": [],
   "source": [
    "tokenizer = AutoTokenizer.from_pretrained('google/flan-t5-small', truncation_side='left')"
   ]
  },
  {
   "cell_type": "code",
   "execution_count": 4,
   "id": "44a7869c-7121-4972-b40b-2def32b3d31e",
   "metadata": {},
   "outputs": [
    {
     "name": "stderr",
     "output_type": "stream",
     "text": [
      "                                                                   \r"
     ]
    }
   ],
   "source": [
    "def tokenize_data(data):\n",
    "    tokenized = tokenizer(data['context'], padding=\"max_length\", truncation=True)\n",
    "    target_toked = tokenizer(data['target'], padding=\"max_length\", truncation=True)\n",
    "    tokenized['labels'] = target_toked['input_ids']\n",
    "    \n",
    "    return tokenized\n",
    "\n",
    "dataset = dataset.map(tokenize_data, batched=True)"
   ]
  },
  {
   "cell_type": "code",
   "execution_count": 5,
   "id": "948ffeb4-3219-414d-b5c7-22b0db62eee7",
   "metadata": {},
   "outputs": [
    {
     "name": "stdout",
     "output_type": "stream",
     "text": [
      "Dataset({\n",
      "    features: ['target', 'message_tree_id', 'humor', 'context', 'input_ids', 'attention_mask', 'labels'],\n",
      "    num_rows: 51802\n",
      "})\n"
     ]
    }
   ],
   "source": [
    "print(dataset['train'])"
   ]
  },
  {
   "cell_type": "code",
   "execution_count": 7,
   "id": "c9e82a46-c36c-4410-b819-6c503bc4333d",
   "metadata": {},
   "outputs": [],
   "source": [
    "dataset.set_format(type=\"torch\", columns=[\"input_ids\", \"labels\"])"
   ]
  },
  {
   "cell_type": "code",
   "execution_count": 8,
   "id": "67285872-96eb-4307-a568-ba8f23696052",
   "metadata": {},
   "outputs": [],
   "source": [
    "train_dataset = dataset['train']"
   ]
  },
  {
   "cell_type": "code",
   "execution_count": 9,
   "id": "eef3074e-3bac-46e3-b7c8-d12cf169b245",
   "metadata": {},
   "outputs": [],
   "source": [
    "train_dataloader = DataLoader(train_dataset, shuffle=True, batch_size=1)"
   ]
  },
  {
   "cell_type": "code",
   "execution_count": 10,
   "id": "4a7964f6-3776-4893-b51b-a80b435dfa9a",
   "metadata": {},
   "outputs": [],
   "source": [
    "model = AutoModelForSeq2SeqLM.from_pretrained(\"google/flan-t5-small\", device_map=\"auto\")"
   ]
  },
  {
   "cell_type": "code",
   "execution_count": 11,
   "id": "64d3ccbf-801c-4dd3-88cd-8e1c9f65cd4f",
   "metadata": {},
   "outputs": [],
   "source": [
    "batch = next(iter(train_dataloader))"
   ]
  },
  {
   "cell_type": "code",
   "execution_count": 12,
   "id": "9d58b9b8-eea6-4aa3-9c37-bba551e5e527",
   "metadata": {},
   "outputs": [
    {
     "name": "stdout",
     "output_type": "stream",
     "text": [
      "input_ids : tensor([[2570,   32,  259,    9,    7,    1,    0,    0,    0,    0,    0,    0,    0,    0,    0,   ...\n",
      "labels : tensor([[ 4159,    63,   923,    55,     3,     2,  8532,     3,  7195,     3, 28061,  4353,    15,  ...\n"
     ]
    }
   ],
   "source": [
    "for (key, item) in batch.items():\n",
    "    print(key, \":\", str(item)[0:100], '...')"
   ]
  },
  {
   "cell_type": "code",
   "execution_count": 13,
   "id": "e87cc5b3-c0b3-4bda-ae71-1ad026e05388",
   "metadata": {},
   "outputs": [],
   "source": [
    "model.eval()\n",
    "with torch.no_grad():\n",
    "    outputs = model(**batch)"
   ]
  },
  {
   "cell_type": "code",
   "execution_count": 14,
   "id": "309c188e-774e-4f77-965b-db592c3bae8d",
   "metadata": {},
   "outputs": [
    {
     "name": "stdout",
     "output_type": "stream",
     "text": [
      "Loss:  tensor(55.5240)\n",
      "Logits:  tensor([[[-51.4815,  -4.7137,  -8.6466,  ..., -51.4649, -51.4606, -51.2127],\n",
      "         [-41.0469,  -3.5044,   0.8753,  ..., -40.9300, -41.0136, -40.8807],\n",
      "         [-40.6562,  -1.2704,  -3.4167,  ..., -40.5942, -40.7589, -40.3900],\n",
      "         ...,\n",
      "         [-59.3815,  -8.1868, -10.9114,  ..., -59.4425, -59.3974, -59.3567],\n",
      "         [-59.3830,  -8.1863, -10.9109,  ..., -59.4440, -59.3988, -59.3582],\n",
      "         [-59.3845,  -8.1858, -10.9103,  ..., -59.4455, -59.4003, -59.3596]]])\n"
     ]
    }
   ],
   "source": [
    "print(\"Loss: \", outputs.loss)\n",
    "print(\"Logits: \", outputs.logits)"
   ]
  },
  {
   "cell_type": "code",
   "execution_count": null,
   "id": "f5a53b83-b47c-40c1-9452-c09d9e3ee5de",
   "metadata": {},
   "outputs": [],
   "source": []
  }
 ],
 "metadata": {
  "kernelspec": {
   "display_name": "Python 3 (ipykernel)",
   "language": "python",
   "name": "python3"
  },
  "language_info": {
   "codemirror_mode": {
    "name": "ipython",
    "version": 3
   },
   "file_extension": ".py",
   "mimetype": "text/x-python",
   "name": "python",
   "nbconvert_exporter": "python",
   "pygments_lexer": "ipython3",
   "version": "3.10.5"
  }
 },
 "nbformat": 4,
 "nbformat_minor": 5
}
