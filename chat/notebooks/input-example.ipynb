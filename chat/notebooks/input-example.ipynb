{
 "cells": [
  {
   "cell_type": "markdown",
   "id": "c6a4278a-0c04-454e-ac42-8fe3c41b5fa6",
   "metadata": {},
   "source": [
    "# Input Example"
   ]
  },
  {
   "cell_type": "code",
   "execution_count": 1,
   "id": "c90f8d6e-eb0f-4247-a93c-a7d3b932ed7f",
   "metadata": {},
   "outputs": [],
   "source": [
    "!pip install datasets --quiet\n",
    "!pip install transformers --quiet\n",
    "!pip install torch --quiet\n",
    "!pip install accelerate --quiet"
   ]
  },
  {
   "cell_type": "code",
   "execution_count": 2,
   "id": "ab18efa6-ff68-47c9-bf9b-5abcf8c6a5ab",
   "metadata": {},
   "outputs": [
    {
     "name": "stderr",
     "output_type": "stream",
     "text": [
      "/opt/conda/lib/python3.10/site-packages/tqdm/auto.py:22: TqdmWarning: IProgress not found. Please update jupyter and ipywidgets. See https://ipywidgets.readthedocs.io/en/stable/user_install.html\n",
      "  from .autonotebook import tqdm as notebook_tqdm\n"
     ]
    }
   ],
   "source": [
    "from datasets import load_dataset\n",
    "\n",
    "from transformers import AutoTokenizer\n",
    "from transformers import AutoModelForSeq2SeqLM\n",
    "\n",
    "import torch\n",
    "from torch.utils.data import DataLoader\n",
    "from torch.optim import AdamW\n",
    "\n",
    "torch.set_printoptions(linewidth=1000000)"
   ]
  },
  {
   "cell_type": "markdown",
   "id": "6664b746-626e-46fc-8f08-78adf8df622d",
   "metadata": {},
   "source": [
    "### Load Data"
   ]
  },
  {
   "cell_type": "code",
   "execution_count": 3,
   "id": "ea736b19-cd7a-426a-9516-2926ab7449cf",
   "metadata": {},
   "outputs": [
    {
     "name": "stderr",
     "output_type": "stream",
     "text": [
      "Found cached dataset csv (/home/jovyan/.cache/huggingface/datasets/csv/default-db9a28ded843dd61/0.0.0/6954658bab30a358235fa864b05cf819af0e179325c740e4bc853bcc7ec513e1)\n",
      "100%|██████████| 1/1 [00:00<00:00, 483.60it/s]\n"
     ]
    }
   ],
   "source": [
    "dataset = load_dataset('csv', data_files={'train': '../data/cleaned_with_context.csv'})"
   ]
  },
  {
   "cell_type": "code",
   "execution_count": 4,
   "id": "ace1453c-d447-4450-a9b8-c7be8ce8a9d6",
   "metadata": {},
   "outputs": [
    {
     "name": "stderr",
     "output_type": "stream",
     "text": [
      "                                                                        \r"
     ]
    }
   ],
   "source": [
    "dataset = dataset.filter(lambda example: (example['message_tree_id'] == 'b1673cb9-1e01-44fd-916c-befa0fae9923') & (example['target'] == 'A rainy rain storm!') )"
   ]
  },
  {
   "cell_type": "markdown",
   "id": "66ed7218-771a-40c7-abc1-cf359b748926",
   "metadata": {},
   "source": [
    "### Prepare Data"
   ]
  },
  {
   "cell_type": "code",
   "execution_count": 5,
   "id": "61e66637-9d96-4635-b630-e86161f04adf",
   "metadata": {},
   "outputs": [],
   "source": [
    "tokenizer = AutoTokenizer.from_pretrained('google/flan-t5-small', truncation_side='left', padding_side = 'left')"
   ]
  },
  {
   "cell_type": "code",
   "execution_count": 6,
   "id": "2f2af038-9541-4642-bb1b-3cfec2163006",
   "metadata": {},
   "outputs": [
    {
     "name": "stderr",
     "output_type": "stream",
     "text": [
      "                                                 \r"
     ]
    }
   ],
   "source": [
    "def tokenize_data(data):\n",
    "    tokenized = tokenizer(data['context'], padding=\"max_length\", truncation=True)\n",
    "    target_toked = tokenizer(data['target'], padding=\"max_length\", truncation=True)\n",
    "    tokenized['labels'] = target_toked['input_ids']\n",
    "    \n",
    "    return tokenized\n",
    "\n",
    "dataset = dataset.map(tokenize_data, batched=True)"
   ]
  },
  {
   "cell_type": "code",
   "execution_count": 7,
   "id": "0ed69965-eadc-4b82-aa07-fac3f18eedcc",
   "metadata": {},
   "outputs": [],
   "source": [
    "dataset.set_format(type=\"torch\", columns=[\"input_ids\", \"labels\"])"
   ]
  },
  {
   "cell_type": "code",
   "execution_count": 8,
   "id": "0923ac34-43d5-4577-842d-096c50a37a37",
   "metadata": {},
   "outputs": [],
   "source": [
    "train_dataset = dataset['train']"
   ]
  },
  {
   "cell_type": "markdown",
   "id": "a49ee8bf-fe5c-40fe-b50d-7ba882bf56ef",
   "metadata": {},
   "source": [
    "### Data Loader"
   ]
  },
  {
   "cell_type": "code",
   "execution_count": 9,
   "id": "aa5d30cc-38cc-4369-979f-6278f9cf9f2c",
   "metadata": {},
   "outputs": [],
   "source": [
    "train_dataloader = DataLoader(train_dataset, shuffle=True, batch_size=1)"
   ]
  },
  {
   "cell_type": "markdown",
   "id": "7087d59b-a4f6-462a-918e-9b3b0f2fc8b9",
   "metadata": {},
   "source": [
    "### Setup Model"
   ]
  },
  {
   "cell_type": "code",
   "execution_count": 10,
   "id": "4a7964f6-3776-4893-b51b-a80b435dfa9a",
   "metadata": {},
   "outputs": [],
   "source": [
    "model = AutoModelForSeq2SeqLM.from_pretrained(\"google/flan-t5-small\", device_map=\"auto\")"
   ]
  },
  {
   "cell_type": "markdown",
   "id": "c2ec2fd5-f6c1-4d27-8fb2-527b4fc9b33a",
   "metadata": {},
   "source": [
    "### Example"
   ]
  },
  {
   "cell_type": "code",
   "execution_count": 11,
   "id": "64d3ccbf-801c-4dd3-88cd-8e1c9f65cd4f",
   "metadata": {},
   "outputs": [],
   "source": [
    "batch = next(iter(train_dataloader))"
   ]
  },
  {
   "cell_type": "code",
   "execution_count": 12,
   "id": "2338ebad-d003-41f1-82d3-390c43e2e124",
   "metadata": {},
   "outputs": [
    {
     "name": "stdout",
     "output_type": "stream",
     "text": [
      "Example input:  <pad><pad><pad><pad><pad><pad><pad><pad><pad><pad><pad><pad><pad><pad><pad><pad><pad><pad><pad><pad><pad><pad><pad><pad><pad><pad><pad><pad><pad><pad><pad><pad><pad><pad><pad><pad><pad><pad><pad><pad><pad><pad><pad><pad><pad><pad><pad><pad><pad><pad><pad><pad><pad><pad><pad><pad><pad><pad><pad><pad><pad><pad><pad><pad><pad><pad><pad><pad><pad><pad><pad><pad><pad><pad><pad><pad><pad><pad><pad><pad><pad><pad><pad><pad><pad><pad><pad><pad><pad><pad><pad><pad><pad><pad><pad><pad><pad><pad><pad><pad><pad><pad><pad><pad><pad><pad><pad><pad><pad><pad><pad><pad><pad><pad><pad><pad><pad><pad><pad><pad><pad><pad><pad><pad><pad><pad><pad><pad><pad><pad><pad><pad><pad><pad><pad><pad><pad><pad><pad><pad><pad><pad><pad><pad><pad><pad><pad><pad><pad><pad><pad><pad><pad><pad><pad><pad><pad><pad><pad><pad><pad><pad><pad><pad><pad><pad><pad><pad><pad><pad><pad><pad><pad><pad><pad><pad><pad><pad><pad><pad><pad><pad><pad><pad><pad><pad><pad><pad><pad><pad><pad><pad><pad><pad><pad><pad><pad><pad><pad><pad><pad><pad><pad><pad><pad><pad><pad><pad><pad><pad><pad><pad><pad><pad><pad><pad><pad><pad><pad><pad><pad><pad><pad><pad><pad><pad><pad><pad><pad><pad><pad><pad><pad><pad><pad><pad><pad><pad><pad><pad><pad><pad><pad><pad><pad><pad><pad><pad><pad><pad><pad><pad><pad><pad><pad><pad><pad><pad><pad><pad><pad><pad><pad><pad><pad><pad><pad><pad><pad><pad><pad><pad><pad><pad><pad><pad><pad><pad><pad><pad><pad><pad><pad><pad><pad><pad><pad><pad><pad><pad><pad><pad><pad><pad><pad><pad><pad><pad><pad><pad><pad><pad><pad><pad><pad><pad><pad><pad><pad><pad><pad><pad><pad><pad><pad><pad><pad><pad><pad><pad><pad><pad><pad><pad><pad><pad><pad><pad><pad><pad><pad><pad><pad><pad><pad><pad><pad><pad><pad><pad><pad><pad><pad><pad><pad><pad><pad><pad><pad><pad><pad><pad><pad><pad><pad><pad><pad><pad><pad><pad><pad><pad><pad><pad><pad><pad><pad><pad><pad><pad><pad><pad><pad><pad><pad><pad><pad><pad><pad><pad><pad><pad><pad><pad><pad><pad><pad><pad><pad><pad><pad><pad><pad><pad><pad><pad><pad><pad><pad><pad><pad><pad><pad><pad><pad><pad><pad><pad><pad><pad><pad><pad><pad><pad><pad><pad><pad><pad><pad><pad><pad><pad><pad><pad><pad><pad><pad><pad><pad><pad><pad><pad><pad><pad><pad><pad><pad><pad><pad><pad><pad><pad><pad><pad><pad><pad><pad><pad><pad><pad><pad><pad><pad><pad><pad><pad><pad><pad><pad><pad> Tell me a joke that involves a word-play with the word \"rain\" What do you call a rain storm with no rain? A drizzle-less-drought! What do you call a rain storm with rain then?</s>\n"
     ]
    }
   ],
   "source": [
    "print(\"Example input: \", tokenizer.batch_decode(batch['input_ids'])[0])"
   ]
  },
  {
   "cell_type": "code",
   "execution_count": 13,
   "id": "9d58b9b8-eea6-4aa3-9c37-bba551e5e527",
   "metadata": {},
   "outputs": [
    {
     "name": "stdout",
     "output_type": "stream",
     "text": [
      "input_ids : tensor([[    0,     0,     0,     0,     0,     0,     0,     0,     0,     0,     0,     0,     0,  ...\n",
      "labels : tensor([[   0,    0,    0,    0,    0,    0,    0,    0,    0,    0,    0,    0,    0,    0,    0,   ...\n"
     ]
    }
   ],
   "source": [
    "for (key, item) in batch.items():\n",
    "    print(key, \":\", str(item)[0:100], '...')"
   ]
  },
  {
   "cell_type": "code",
   "execution_count": 14,
   "id": "e87cc5b3-c0b3-4bda-ae71-1ad026e05388",
   "metadata": {},
   "outputs": [],
   "source": [
    "model.eval()\n",
    "with torch.no_grad():\n",
    "    outputs = model(**batch)"
   ]
  },
  {
   "cell_type": "code",
   "execution_count": 15,
   "id": "309c188e-774e-4f77-965b-db592c3bae8d",
   "metadata": {},
   "outputs": [
    {
     "name": "stdout",
     "output_type": "stream",
     "text": [
      "Loss:  tensor(48.0392)\n",
      "Logits:  tensor([[[-46.3854,  -3.5440,  -8.1632,  ..., -46.3289, -46.3740, -46.1255],\n",
      "         [-46.3854,  -3.5440,  -8.1632,  ..., -46.3289, -46.3740, -46.1255],\n",
      "         [-46.3854,  -3.5440,  -8.1632,  ..., -46.3289, -46.3740, -46.1255],\n",
      "         ...,\n",
      "         [-50.9342,   0.8869,  -6.5974,  ..., -50.7909, -50.9224, -50.5790],\n",
      "         [-52.8611,   0.1231,  -9.2390,  ..., -52.8423, -52.9428, -52.7534],\n",
      "         [-55.9899,   0.7806,  -7.6759,  ..., -55.9907, -56.0710, -55.9349]]])\n"
     ]
    }
   ],
   "source": [
    "print(\"Loss: \", outputs.loss)\n",
    "print(\"Logits: \", outputs.logits)"
   ]
  }
 ],
 "metadata": {
  "kernelspec": {
   "display_name": "Python 3 (ipykernel)",
   "language": "python",
   "name": "python3"
  },
  "language_info": {
   "codemirror_mode": {
    "name": "ipython",
    "version": 3
   },
   "file_extension": ".py",
   "mimetype": "text/x-python",
   "name": "python",
   "nbconvert_exporter": "python",
   "pygments_lexer": "ipython3",
   "version": "3.10.5"
  }
 },
 "nbformat": 4,
 "nbformat_minor": 5
}
